{
 "cells": [
  {
   "cell_type": "code",
   "execution_count": 1,
   "metadata": {},
   "outputs": [],
   "source": [
    "import pandas as pd"
   ]
  },
  {
   "cell_type": "code",
   "execution_count": 7,
   "metadata": {},
   "outputs": [],
   "source": [
    "letters = ['a','b','c','d','e','f','g','h','i','j','k','l','m','n','o','p','q','r','s','t','u','v','w','x','z']"
   ]
  },
  {
   "cell_type": "code",
   "execution_count": null,
   "metadata": {},
   "outputs": [],
   "source": [
    "df_a = pd.read_csv(\"../BEEV/letter_scraped/\"+ 'a' +\"_scraped.csv\")                #Remember to ask Cristina about yellow stuff after backslash\n",
    "df_a"
   ]
  },
  {
   "cell_type": "code",
   "execution_count": null,
   "metadata": {},
   "outputs": [],
   "source": [
    "dicto = {letter : pd.read_csv(\"../BEEV/letter_scraped/\"+ letter +\"_scraped.csv\",index_col=None) for letter in letters}"
   ]
  },
  {
   "cell_type": "code",
   "execution_count": 32,
   "metadata": {},
   "outputs": [],
   "source": [
    "df = pd.concat([dicto[letter] for letter in letters])"
   ]
  },
  {
   "cell_type": "code",
   "execution_count": 39,
   "metadata": {},
   "outputs": [
    {
     "data": {
      "text/plain": [
       "Index(['Brand', 'Model', 'Generation', 'Modification (Engine)',\n",
       "       'Start of production', 'Powertrain Architecture', 'Body type', 'Seats',\n",
       "       'Doors', 'Performance specs',\n",
       "       ...\n",
       "       '200 km/h - 0', 'Acceleration 0 - 100 km/h (CNG)',\n",
       "       'Maximum speed (CNG)', 'CO2 emissions (CNG) (WLTP)',\n",
       "       'Fuel consumption (economy) - urban (CNG) (NEDC, WLTP equivalent)',\n",
       "       'Fuel consumption (economy) - extra urban (CNG) (NEDC, WLTP equivalent)',\n",
       "       'Fuel consumption (economy) - combined (CNG) (NEDC, WLTP equivalent)',\n",
       "       'CO2 emissions (CNG) (NEDC, WLTP equivalent)',\n",
       "       'Acceleration 0 - 100 km/h (Ethanol - E85)',\n",
       "       'Maximum speed (Ethanol - E85)'],\n",
       "      dtype='object', length=192)"
      ]
     },
     "execution_count": 39,
     "metadata": {},
     "output_type": "execute_result"
    }
   ],
   "source": [
    "df.columns"
   ]
  },
  {
   "cell_type": "code",
   "execution_count": 42,
   "metadata": {},
   "outputs": [
    {
     "data": {
      "text/plain": [
       "Internal Combustion engine                                                                          43112\n",
       "MHEV (Mild Hybrid Electric Vehicle, power-assist hybrid, battery-assisted hybrid vehicles, BAHV)      645\n",
       "BEV (Electric Vehicle)                                                                                418\n",
       "PHEV (Plug-in Hybrid Electric Vehicle)                                                                326\n",
       "FHEV (Full Hybrid Electric Vehicle)                                                                   314\n",
       "FCEV (Fuel Cell Electric Vehicle)                                                                       7\n",
       "PFCEV (Plug-in Fuel Cell Electric Vehicle)                                                              1\n",
       "Name: Powertrain Architecture, dtype: int64"
      ]
     },
     "execution_count": 42,
     "metadata": {},
     "output_type": "execute_result"
    }
   ],
   "source": [
    "df['Powertrain Architecture'].value_counts()"
   ]
  },
  {
   "cell_type": "code",
   "execution_count": 38,
   "metadata": {},
   "outputs": [
    {
     "data": {
      "text/plain": [
       "Brand                                                                         0\n",
       "Model                                                                         0\n",
       "Generation                                                                    0\n",
       "Modification (Engine)                                                         0\n",
       "Start of production                                                           1\n",
       "                                                                          ...  \n",
       "Fuel consumption (economy) - extra urban (CNG) (NEDC, WLTP equivalent)    44823\n",
       "Fuel consumption (economy) - combined (CNG) (NEDC, WLTP equivalent)       44823\n",
       "CO2 emissions (CNG) (NEDC, WLTP equivalent)                               44823\n",
       "Acceleration 0 - 100 km/h (Ethanol - E85)                                 44826\n",
       "Maximum speed (Ethanol - E85)                                             44826\n",
       "Length: 192, dtype: int64"
      ]
     },
     "execution_count": 38,
     "metadata": {},
     "output_type": "execute_result"
    }
   ],
   "source": [
    "# #This is the dataframe with all the information we want\n",
    "# page4 = 'https://www.auto-data.net/en/alfa-romeo-mito-1.6-jtdm-120hp-16680'\n",
    "# what = pd.read_html(page4)[1]  \n",
    "# what\n",
    "\n",
    "# what2 = what[(what['General information'] == 'Brand')\n",
    "# |(what['General information'] == 'Model')\n",
    "# |(what['General information'] == 'Generation')\n",
    "# |(what['General information'] == 'Modification (Engine)')\n",
    "# |(what['General information'] == 'CO2 emissions') \n",
    "# |(what['General information'] == 'Body type')\n",
    "# |(what['General information'] == 'Fuel tank capacity')\n",
    "# |(what['General information'] == 'Fuel consumption (economy) - combined')\n",
    "# |(what['General information'] == 'Fuel Type')\n",
    "# |(what['General information'] == 'Power')]\n",
    "# what2.index = what2['General information']\n",
    "# what3 = what2.T\n",
    "# what3.drop(axis = 0, labels = 'General information', inplace = True)\n",
    "# what3['Fuel tank(l)'] = what3['Fuel tank capacity'].apply(lambda x : x.split(' ')[0])\n",
    "# what3['Fuel consumption(l/100km)'] = what3['Fuel consumption (economy) - combined'].apply(lambda x : x.split(' ')[0])\n",
    "# what3['Power(Hp)'] = what3['Power'].apply(lambda x: x.split(' ')[0])\n",
    "# what3['Range (Km)'] = what3[['Fuel tank(l)','Fuel consumption(l/100km)']].apply(lambda item: int(item[0])/float(item[1])*100,axis=1)\n",
    "\n",
    "# what4 = what3\n",
    "# what4.drop(columns = ['Fuel consumption (economy) - combined', 'Fuel tank capacity'], inplace = True)\n",
    "# what4                               #We need to remove this General information column still"
   ]
  }
 ],
 "metadata": {
  "interpreter": {
   "hash": "9551cd33bf16c35239638d01283791bf06f66b16b64b8c1df3bd1173c0151abf"
  },
  "kernelspec": {
   "display_name": "Python 3.8.12 64-bit ('Safe space': conda)",
   "language": "python",
   "name": "python3"
  },
  "language_info": {
   "codemirror_mode": {
    "name": "ipython",
    "version": 3
   },
   "file_extension": ".py",
   "mimetype": "text/x-python",
   "name": "python",
   "nbconvert_exporter": "python",
   "pygments_lexer": "ipython3",
   "version": "3.8.12"
  },
  "orig_nbformat": 4
 },
 "nbformat": 4,
 "nbformat_minor": 2
}
