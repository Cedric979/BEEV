{
 "cells": [
  {
   "cell_type": "markdown",
   "metadata": {},
   "source": [
    "# **Uploading the files and concating the DFs**"
   ]
  },
  {
   "cell_type": "code",
   "execution_count": 25,
   "metadata": {},
   "outputs": [],
   "source": [
    "import pandas as pd\n",
    "import numpy as np"
   ]
  },
  {
   "cell_type": "code",
   "execution_count": 4,
   "metadata": {},
   "outputs": [],
   "source": [
    "letters = ['a','b','c','d','e','f','g','h','i','j','k','l','m','n','o','p','q','r','s','t','u','v','w','x','z']"
   ]
  },
  {
   "cell_type": "code",
   "execution_count": 5,
   "metadata": {
    "scrolled": false
   },
   "outputs": [],
   "source": [
    "#df_a = pd.read_csv(\"../BEEV/letter_scraped/\"+ 'a' +\"_scraped.csv\")                #Remember to ask Cristina about yellow stuff after backslash\n",
    "#df_a"
   ]
  },
  {
   "cell_type": "code",
   "execution_count": 6,
   "metadata": {},
   "outputs": [
    {
     "name": "stderr",
     "output_type": "stream",
     "text": [
      "/var/folders/zp/g__9z3d17bl6nkkpnxb0p46r0000gn/T/ipykernel_4183/1819279109.py:2: DtypeWarning: Columns (56,80,95,110,111,112,116,121,122,123,127,128,129,130,131,132,133,134,135,136,137,138,139,142) have mixed types.Specify dtype option on import or set low_memory=False.\n",
      "  dicto_scraped = {letter : pd.read_csv(\"../BEEV/letter_scraped/\"+ letter +\"_scraped.csv\",index_col=None) for letter in letters}\n",
      "/var/folders/zp/g__9z3d17bl6nkkpnxb0p46r0000gn/T/ipykernel_4183/1819279109.py:2: DtypeWarning: Columns (55,56,108,118,119,123,124,125,126,128,129,130,131,132,133,134,135,136,137,138,139,140,141,142,143,144,149,150,151,152,153,154,155,156,157,158,159,160,167,168,169,170,171) have mixed types.Specify dtype option on import or set low_memory=False.\n",
      "  dicto_scraped = {letter : pd.read_csv(\"../BEEV/letter_scraped/\"+ letter +\"_scraped.csv\",index_col=None) for letter in letters}\n"
     ]
    }
   ],
   "source": [
    "#Building a dicto_scraped with all DF to be able to concat everything\n",
    "dicto_scraped = {letter : pd.read_csv(\"../BEEV/letter_scraped/\"+ letter +\"_scraped.csv\",index_col=None) for letter in letters}"
   ]
  },
  {
   "cell_type": "code",
   "execution_count": 7,
   "metadata": {},
   "outputs": [],
   "source": [
    "#Building a list of shape to check coherence between letter.csv and letter_scarped_csv\n",
    "scraped_shape = [dicto_scraped[let].shape[0] for let in dicto_scraped]"
   ]
  },
  {
   "cell_type": "code",
   "execution_count": null,
   "metadata": {},
   "outputs": [],
   "source": []
  },
  {
   "cell_type": "code",
   "execution_count": 8,
   "metadata": {},
   "outputs": [],
   "source": [
    "#Building a dicto_csv with all url list to be able to compare with dicto_scraped\n",
    "dicto_csv = {letter : pd.read_csv(\"../BEEV/letter_csvs/\"+ letter +\".csv\",index_col=None) for letter in letters}"
   ]
  },
  {
   "cell_type": "code",
   "execution_count": 9,
   "metadata": {},
   "outputs": [],
   "source": [
    "#Building a list of shape to check coherence between letter.csv and letter_scarped_csv\n",
    "csv_shape = [dicto_csv[lett].shape[0] for lett in dicto_csv.keys()]"
   ]
  },
  {
   "cell_type": "code",
   "execution_count": 10,
   "metadata": {},
   "outputs": [
    {
     "name": "stdout",
     "output_type": "stream",
     "text": [
      "-14\n",
      "-13\n",
      "-14\n",
      "-6\n",
      "0\n",
      "-21\n",
      "-5\n",
      "-15\n",
      "-3\n",
      "-4\n",
      "-7\n",
      "-7\n",
      "-35\n",
      "-11\n",
      "-3\n",
      "-7\n",
      "0\n",
      "-7\n",
      "-10\n",
      "-18\n",
      "0\n",
      "-10\n",
      "-7\n",
      "0\n",
      "0\n"
     ]
    }
   ],
   "source": [
    "#Calculating the difference between both lenght list\n",
    "scraped_shape\n",
    "for i in range(len(scraped_shape)):\n",
    "    print(scraped_shape[i] - csv_shape[i])  "
   ]
  },
  {
   "cell_type": "code",
   "execution_count": 11,
   "metadata": {},
   "outputs": [],
   "source": [
    "#The difference come from the empty dataframe we scrapped so we have to count the number of empty DF to see if it macth\n",
    "# test calculation --->  \n",
    "#dicto_csv['a']['dataframe'][dicto_csv['a']['dataframe'].str.contains('Empty') == True].shape[0]\n",
    "empty_df_list = [dicto_csv[letter]['dataframe'][dicto_csv[letter]['dataframe'].str.contains('Empty') == True].shape[0] for letter in letters]\n",
    "    "
   ]
  },
  {
   "cell_type": "code",
   "execution_count": 12,
   "metadata": {},
   "outputs": [
    {
     "name": "stdout",
     "output_type": "stream",
     "text": [
      "0\n",
      "0\n",
      "0\n",
      "0\n",
      "0\n",
      "0\n",
      "0\n",
      "0\n",
      "0\n",
      "0\n",
      "0\n",
      "0\n",
      "0\n",
      "0\n",
      "0\n",
      "0\n",
      "0\n",
      "0\n",
      "0\n",
      "0\n",
      "0\n",
      "0\n",
      "0\n",
      "0\n",
      "0\n"
     ]
    }
   ],
   "source": [
    "#Calculating the difference between both lenght list and the number of empty DF\n",
    "# If every number is equal to 0 we are ok ! next step will be to check the model coherence\n",
    "for i in range(len(scraped_shape)):\n",
    "    print(scraped_shape[i] - csv_shape[i] + empty_df_list[i])  "
   ]
  },
  {
   "cell_type": "markdown",
   "metadata": {},
   "source": [
    "# **GEV dataframe**"
   ]
  },
  {
   "cell_type": "code",
   "execution_count": 13,
   "metadata": {},
   "outputs": [],
   "source": [
    "#Building the DF using the DF in the dicto_scraped\n",
    "df = pd.concat([dicto_scraped[letter] for letter in letters])"
   ]
  },
  {
   "cell_type": "code",
   "execution_count": 177,
   "metadata": {},
   "outputs": [
    {
     "name": "stderr",
     "output_type": "stream",
     "text": [
      "/Users/cedricpinel/opt/anaconda3/envs/streamlite/lib/python3.8/site-packages/pandas/core/frame.py:4906: SettingWithCopyWarning: \n",
      "A value is trying to be set on a copy of a slice from a DataFrame\n",
      "\n",
      "See the caveats in the documentation: https://pandas.pydata.org/pandas-docs/stable/user_guide/indexing.html#returning-a-view-versus-a-copy\n",
      "  return super().drop(\n"
     ]
    }
   ],
   "source": [
    "df_gev = df[df['Powertrain Architecture'] == 'Internal Combustion engine']\n",
    "df_gev.reset_index(drop=False, inplace=True)\n",
    "df_gev.drop(columns = ['index'], inplace =True)"
   ]
  },
  {
   "cell_type": "code",
   "execution_count": 178,
   "metadata": {},
   "outputs": [],
   "source": [
    "#Definition of the key word for filtering columns\n",
    "words_wanted4_column = ['Brand','Model','Generation', 'Engine', 'production','Powertrain','Body','Fuel','CO2','Power']\n"
   ]
  },
  {
   "cell_type": "code",
   "execution_count": 179,
   "metadata": {},
   "outputs": [
    {
     "data": {
      "text/plain": [
       "193"
      ]
     },
     "execution_count": 179,
     "metadata": {},
     "output_type": "execute_result"
    }
   ],
   "source": [
    "#Checking manually to see which key words we need for the columns\n",
    "#df_gev.columns[79:110]\n",
    "len(list(df_gev.columns))"
   ]
  },
  {
   "cell_type": "code",
   "execution_count": 180,
   "metadata": {},
   "outputs": [
    {
     "data": {
      "text/plain": [
       "95"
      ]
     },
     "execution_count": 180,
     "metadata": {},
     "output_type": "execute_result"
    }
   ],
   "source": [
    "#Building the list of columns containing the key words\n",
    "col_filtered = []\n",
    "for word in words_wanted4_column:\n",
    "  for w in list(df_gev.columns):\n",
    "    if w.lower().find(word.lower()) != -1:\n",
    "      col_filtered.append(w)\n",
    "len(col_filtered)"
   ]
  },
  {
   "cell_type": "code",
   "execution_count": 181,
   "metadata": {},
   "outputs": [
    {
     "data": {
      "text/plain": [
       "['Brand',\n",
       " 'Model',\n",
       " 'Engine Model/Code',\n",
       " 'Generation',\n",
       " 'Modification (Engine)',\n",
       " 'Engine specs',\n",
       " 'Engine location',\n",
       " 'Engine displacement',\n",
       " 'Engine aspiration',\n",
       " 'Engine oil capacity',\n",
       " 'Engine Model/Code',\n",
       " 'Engine oil specification',\n",
       " 'Maximum engine speed',\n",
       " 'Engine systems',\n",
       " 'Internal combustion engine specs',\n",
       " 'Start of production',\n",
       " 'End of production',\n",
       " 'Powertrain Architecture',\n",
       " 'Body type',\n",
       " 'Fuel consumption (economy) - urban',\n",
       " 'Fuel consumption (economy) - extra urban',\n",
       " 'Fuel consumption (economy) - combined',\n",
       " 'Fuel Type',\n",
       " 'Fuel tank capacity',\n",
       " 'Fuel consumption (economy) - urban (NEDC)',\n",
       " 'Fuel consumption (economy) - extra urban (NEDC)',\n",
       " 'Fuel consumption (economy) - combined (NEDC)',\n",
       " 'Fuel System',\n",
       " 'Fuel consumption at Low speed (WLTP)',\n",
       " 'Fuel consumption at Medium speed (WLTP)',\n",
       " 'Fuel consumption at high speed (WLTP)',\n",
       " 'Fuel consumption at very high speed (WLTP)',\n",
       " 'Combined fuel consumption (WLTP)',\n",
       " 'Fuel consumption (economy) - urban (LPG)',\n",
       " 'Fuel consumption (economy) - extra urban (LPG)',\n",
       " 'Fuel consumption (economy) - combined (LPG)',\n",
       " 'Fuel tank capacity (LPG)',\n",
       " 'Fuel consumption (economy) - urban (NEDC, WLTP equivalent)',\n",
       " 'Fuel consumption (economy) - extra urban (NEDC, WLTP equivalent)',\n",
       " 'Fuel consumption (economy) - combined (NEDC, WLTP equivalent)',\n",
       " 'Fuel consumption at Low speed (WLTP) (CNG)',\n",
       " 'Fuel consumption at Medium speed (WLTP) (CNG)',\n",
       " 'Fuel consumption at high speed (WLTP) (CNG)',\n",
       " 'Fuel consumption at very high speed (WLTP) (CNG)',\n",
       " 'Combined fuel consumption (WLTP) (CNG)',\n",
       " 'Fuel consumption (economy) - urban (CNG) (NEDC)',\n",
       " 'Fuel consumption (economy) - extra urban (CNG) (NEDC)',\n",
       " 'Fuel consumption (economy) - combined (CNG) (NEDC)',\n",
       " 'Fuel consumption (economy) - urban (CNG)',\n",
       " 'Fuel consumption (economy) - extra urban (CNG)',\n",
       " 'Fuel consumption (economy) - combined (CNG)',\n",
       " 'Fuel consumption (economy) - urban (Ethanol - E85)',\n",
       " 'Fuel consumption (economy) - extra urban (Ethanol - E85)',\n",
       " 'Fuel consumption (economy) - combined (Ethanol - E85)',\n",
       " 'Fuel consumption (economy) - urban (LPG) (NEDC)',\n",
       " 'Fuel consumption (economy) - extra urban (LPG) (NEDC)',\n",
       " 'Fuel consumption (economy) - combined (LPG) (NEDC)',\n",
       " 'Fuel consumption (economy) - urban (LPG) (NEDC, WLTP equivalent)',\n",
       " 'Fuel consumption (economy) - extra urban (LPG) (NEDC, WLTP equivalent)',\n",
       " 'Fuel consumption (economy) - combined (LPG) (NEDC, WLTP equivalent)',\n",
       " 'Fuel consumption at Low speed (WLTP) (LPG)',\n",
       " 'Fuel consumption at Medium speed (WLTP) (LPG)',\n",
       " 'Fuel consumption at high speed (WLTP) (LPG)',\n",
       " 'Fuel consumption at very high speed (WLTP) (LPG)',\n",
       " 'Combined fuel consumption (WLTP) (LPG)',\n",
       " 'Fuel consumption (economy) - urban (CNG) (NEDC, WLTP equivalent)',\n",
       " 'Fuel consumption (economy) - extra urban (CNG) (NEDC, WLTP equivalent)',\n",
       " 'Fuel consumption (economy) - combined (CNG) (NEDC, WLTP equivalent)',\n",
       " 'CO2 emissions',\n",
       " 'CO2 emissions (NEDC)',\n",
       " 'CO2 emissions (WLTP)',\n",
       " 'CO2 emissions (LPG)',\n",
       " 'CO2 emissions (NEDC, WLTP equivalent)',\n",
       " 'CO2 emissions (CNG)',\n",
       " 'CO2 emissions (CNG) (NEDC)',\n",
       " 'CO2 emissions (Ethanol - E85)',\n",
       " 'CO2 emissions (LPG) (NEDC)',\n",
       " 'CO2 emissions (LPG) (NEDC, WLTP equivalent)',\n",
       " 'CO2 emissions (LPG) (WLTP)',\n",
       " 'CO2 emissions (CNG) (WLTP)',\n",
       " 'CO2 emissions (CNG) (NEDC, WLTP equivalent)',\n",
       " 'CO2_clean',\n",
       " 'Powertrain Architecture',\n",
       " 'Weight-to-power ratio',\n",
       " 'Power',\n",
       " 'Power per litre',\n",
       " 'Power steering',\n",
       " 'Electric motor power',\n",
       " 'System power',\n",
       " 'Power (Ethanol - E85)',\n",
       " 'Power per litre (Ethanol - E85)',\n",
       " 'Power (CNG)',\n",
       " 'Power per litre (CNG)',\n",
       " 'Power (LPG)',\n",
       " 'Power per litre (LPG)']"
      ]
     },
     "execution_count": 181,
     "metadata": {},
     "output_type": "execute_result"
    }
   ],
   "source": [
    "col_filtered"
   ]
  },
  {
   "cell_type": "code",
   "execution_count": 182,
   "metadata": {},
   "outputs": [
    {
     "data": {
      "text/plain": [
       "['Fuel consumption (economy) - urban',\n",
       " 'Fuel consumption (economy) - extra urban',\n",
       " 'Fuel consumption (economy) - combined',\n",
       " 'Fuel consumption (economy) - urban (NEDC)',\n",
       " 'Fuel consumption (economy) - extra urban (NEDC)',\n",
       " 'Fuel consumption (economy) - combined (NEDC)',\n",
       " 'Fuel consumption at Low speed (WLTP)',\n",
       " 'Fuel consumption at Medium speed (WLTP)',\n",
       " 'Fuel consumption at high speed (WLTP)',\n",
       " 'Fuel consumption at very high speed (WLTP)',\n",
       " 'Fuel consumption (economy) - urban (LPG)',\n",
       " 'Fuel consumption (economy) - extra urban (LPG)',\n",
       " 'Fuel consumption (economy) - combined (LPG)',\n",
       " 'Fuel consumption (economy) - urban (NEDC, WLTP equivalent)',\n",
       " 'Fuel consumption (economy) - extra urban (NEDC, WLTP equivalent)',\n",
       " 'Fuel consumption (economy) - combined (NEDC, WLTP equivalent)',\n",
       " 'Fuel consumption at Low speed (WLTP) (CNG)',\n",
       " 'Fuel consumption at Medium speed (WLTP) (CNG)',\n",
       " 'Fuel consumption at high speed (WLTP) (CNG)',\n",
       " 'Fuel consumption at very high speed (WLTP) (CNG)',\n",
       " 'Fuel consumption (economy) - urban (CNG) (NEDC)',\n",
       " 'Fuel consumption (economy) - extra urban (CNG) (NEDC)',\n",
       " 'Fuel consumption (economy) - combined (CNG) (NEDC)',\n",
       " 'Fuel consumption (economy) - urban (CNG)',\n",
       " 'Fuel consumption (economy) - extra urban (CNG)',\n",
       " 'Fuel consumption (economy) - combined (CNG)',\n",
       " 'Fuel consumption (economy) - urban (Ethanol - E85)',\n",
       " 'Fuel consumption (economy) - extra urban (Ethanol - E85)',\n",
       " 'Fuel consumption (economy) - combined (Ethanol - E85)',\n",
       " 'Fuel consumption (economy) - urban (LPG) (NEDC)',\n",
       " 'Fuel consumption (economy) - extra urban (LPG) (NEDC)',\n",
       " 'Fuel consumption (economy) - combined (LPG) (NEDC)',\n",
       " 'Fuel consumption (economy) - urban (LPG) (NEDC, WLTP equivalent)',\n",
       " 'Fuel consumption (economy) - extra urban (LPG) (NEDC, WLTP equivalent)',\n",
       " 'Fuel consumption (economy) - combined (LPG) (NEDC, WLTP equivalent)',\n",
       " 'Fuel consumption at Low speed (WLTP) (LPG)',\n",
       " 'Fuel consumption at Medium speed (WLTP) (LPG)',\n",
       " 'Fuel consumption at high speed (WLTP) (LPG)',\n",
       " 'Fuel consumption at very high speed (WLTP) (LPG)',\n",
       " 'Fuel consumption (economy) - urban (CNG) (NEDC, WLTP equivalent)',\n",
       " 'Fuel consumption (economy) - extra urban (CNG) (NEDC, WLTP equivalent)',\n",
       " 'Fuel consumption (economy) - combined (CNG) (NEDC, WLTP equivalent)',\n",
       " 'Combined fuel consumption (WLTP)',\n",
       " 'Combined fuel consumption (WLTP) (CNG)',\n",
       " 'Combined fuel consumption (WLTP) (LPG)']"
      ]
     },
     "execution_count": 182,
     "metadata": {},
     "output_type": "execute_result"
    }
   ],
   "source": [
    "#filtering fuel columns\n",
    "fuel_list =['Fuel consumption','fuel consumption']\n",
    "fuel_col_filtered = []\n",
    "for word in fuel_list:\n",
    "  for w in col_filtered:\n",
    "    if w.find(word) != -1:\n",
    "      fuel_col_filtered.append(w)\n",
    "len(fuel_col_filtered)\n",
    "fuel_col_filtered"
   ]
  },
  {
   "cell_type": "code",
   "execution_count": 183,
   "metadata": {},
   "outputs": [
    {
     "name": "stdout",
     "output_type": "stream",
     "text": [
      "['CO2 emissions', 'CO2 emissions (NEDC)', 'CO2 emissions (WLTP)', 'CO2 emissions (LPG)', 'CO2 emissions (NEDC, WLTP equivalent)', 'CO2 emissions (CNG)', 'CO2 emissions (CNG) (NEDC)', 'CO2 emissions (Ethanol - E85)', 'CO2 emissions (LPG) (NEDC)', 'CO2 emissions (LPG) (NEDC, WLTP equivalent)', 'CO2 emissions (LPG) (WLTP)', 'CO2 emissions (CNG) (WLTP)', 'CO2 emissions (CNG) (NEDC, WLTP equivalent)']\n"
     ]
    },
    {
     "data": {
      "text/plain": [
       "['CO2', 'emissions', '(LPG)']"
      ]
     },
     "execution_count": 183,
     "metadata": {},
     "output_type": "execute_result"
    }
   ],
   "source": [
    "#filtering CO2 columns\n",
    "co2_list =['CO2 emissions']\n",
    "co2_col_filtered = []\n",
    "for word in co2_list:\n",
    "  for w in col_filtered:\n",
    "    if w.find(word) != -1:\n",
    "      co2_col_filtered.append(w)\n",
    "len(co2_col_filtered)\n",
    "print(co2_col_filtered)\n",
    "co2_col_filtered[3].split()"
   ]
  },
  {
   "cell_type": "code",
   "execution_count": 184,
   "metadata": {},
   "outputs": [
    {
     "name": "stdout",
     "output_type": "stream",
     "text": [
      "\n",
      "(NEDC)\n",
      "(WLTP)\n",
      "(LPG)\n",
      "(NEDC, WLTP equivalent)\n",
      "(CNG)\n",
      "(CNG) (NEDC)\n",
      "(Ethanol - E85)\n",
      "(LPG) (NEDC)\n",
      "(LPG) (NEDC, WLTP equivalent)\n",
      "(LPG) (WLTP)\n",
      "(CNG) (WLTP)\n",
      "(CNG) (NEDC, WLTP equivalent)\n"
     ]
    }
   ],
   "source": [
    "#Grabbing the interesting part in the column name\n",
    "for w in co2_col_filtered:\n",
    "    print(\" \".join(w.split()[2:]))\n",
    "\n",
    "def co2_grab(dfserie):\n",
    "    return \" \".join(dfserie.name.split()[2:])"
   ]
  },
  {
   "cell_type": "code",
   "execution_count": 185,
   "metadata": {},
   "outputs": [
    {
     "data": {
      "text/html": [
       "<div>\n",
       "<style scoped>\n",
       "    .dataframe tbody tr th:only-of-type {\n",
       "        vertical-align: middle;\n",
       "    }\n",
       "\n",
       "    .dataframe tbody tr th {\n",
       "        vertical-align: top;\n",
       "    }\n",
       "\n",
       "    .dataframe thead th {\n",
       "        text-align: right;\n",
       "    }\n",
       "</style>\n",
       "<table border=\"1\" class=\"dataframe\">\n",
       "  <thead>\n",
       "    <tr style=\"text-align: right;\">\n",
       "      <th></th>\n",
       "      <th>CO2 emissions</th>\n",
       "      <th>CO2 emissions (NEDC)</th>\n",
       "      <th>CO2 emissions (WLTP)</th>\n",
       "      <th>CO2 emissions (LPG)</th>\n",
       "      <th>CO2 emissions (NEDC, WLTP equivalent)</th>\n",
       "      <th>CO2 emissions (CNG)</th>\n",
       "      <th>CO2 emissions (CNG) (NEDC)</th>\n",
       "      <th>CO2 emissions (Ethanol - E85)</th>\n",
       "      <th>CO2 emissions (LPG) (NEDC)</th>\n",
       "      <th>CO2 emissions (LPG) (NEDC, WLTP equivalent)</th>\n",
       "      <th>CO2 emissions (LPG) (WLTP)</th>\n",
       "      <th>CO2 emissions (CNG) (WLTP)</th>\n",
       "      <th>CO2 emissions (CNG) (NEDC, WLTP equivalent)</th>\n",
       "    </tr>\n",
       "  </thead>\n",
       "  <tbody>\n",
       "    <tr>\n",
       "      <th>0</th>\n",
       "      <td>153 g/km</td>\n",
       "      <td>NaN</td>\n",
       "      <td>NaN</td>\n",
       "      <td>NaN</td>\n",
       "      <td>NaN</td>\n",
       "      <td>NaN</td>\n",
       "      <td>NaN</td>\n",
       "      <td>NaN</td>\n",
       "      <td>NaN</td>\n",
       "      <td>NaN</td>\n",
       "      <td>NaN</td>\n",
       "      <td>NaN</td>\n",
       "      <td>NaN</td>\n",
       "    </tr>\n",
       "    <tr>\n",
       "      <th>1</th>\n",
       "      <td>148 g/km</td>\n",
       "      <td>NaN</td>\n",
       "      <td>NaN</td>\n",
       "      <td>NaN</td>\n",
       "      <td>NaN</td>\n",
       "      <td>NaN</td>\n",
       "      <td>NaN</td>\n",
       "      <td>NaN</td>\n",
       "      <td>NaN</td>\n",
       "      <td>NaN</td>\n",
       "      <td>NaN</td>\n",
       "      <td>NaN</td>\n",
       "      <td>NaN</td>\n",
       "    </tr>\n",
       "    <tr>\n",
       "      <th>2</th>\n",
       "      <td>153 g/km</td>\n",
       "      <td>NaN</td>\n",
       "      <td>NaN</td>\n",
       "      <td>NaN</td>\n",
       "      <td>NaN</td>\n",
       "      <td>NaN</td>\n",
       "      <td>NaN</td>\n",
       "      <td>NaN</td>\n",
       "      <td>NaN</td>\n",
       "      <td>NaN</td>\n",
       "      <td>NaN</td>\n",
       "      <td>NaN</td>\n",
       "      <td>NaN</td>\n",
       "    </tr>\n",
       "    <tr>\n",
       "      <th>3</th>\n",
       "      <td>148 g/km</td>\n",
       "      <td>NaN</td>\n",
       "      <td>NaN</td>\n",
       "      <td>NaN</td>\n",
       "      <td>NaN</td>\n",
       "      <td>NaN</td>\n",
       "      <td>NaN</td>\n",
       "      <td>NaN</td>\n",
       "      <td>NaN</td>\n",
       "      <td>NaN</td>\n",
       "      <td>NaN</td>\n",
       "      <td>NaN</td>\n",
       "      <td>NaN</td>\n",
       "    </tr>\n",
       "    <tr>\n",
       "      <th>4</th>\n",
       "      <td>NaN</td>\n",
       "      <td>151 g/km</td>\n",
       "      <td>NaN</td>\n",
       "      <td>NaN</td>\n",
       "      <td>NaN</td>\n",
       "      <td>NaN</td>\n",
       "      <td>NaN</td>\n",
       "      <td>NaN</td>\n",
       "      <td>NaN</td>\n",
       "      <td>NaN</td>\n",
       "      <td>NaN</td>\n",
       "      <td>NaN</td>\n",
       "      <td>NaN</td>\n",
       "    </tr>\n",
       "    <tr>\n",
       "      <th>...</th>\n",
       "      <td>...</td>\n",
       "      <td>...</td>\n",
       "      <td>...</td>\n",
       "      <td>...</td>\n",
       "      <td>...</td>\n",
       "      <td>...</td>\n",
       "      <td>...</td>\n",
       "      <td>...</td>\n",
       "      <td>...</td>\n",
       "      <td>...</td>\n",
       "      <td>...</td>\n",
       "      <td>...</td>\n",
       "      <td>...</td>\n",
       "    </tr>\n",
       "    <tr>\n",
       "      <th>43107</th>\n",
       "      <td>NaN</td>\n",
       "      <td>NaN</td>\n",
       "      <td>NaN</td>\n",
       "      <td>NaN</td>\n",
       "      <td>NaN</td>\n",
       "      <td>NaN</td>\n",
       "      <td>NaN</td>\n",
       "      <td>NaN</td>\n",
       "      <td>NaN</td>\n",
       "      <td>NaN</td>\n",
       "      <td>NaN</td>\n",
       "      <td>NaN</td>\n",
       "      <td>NaN</td>\n",
       "    </tr>\n",
       "    <tr>\n",
       "      <th>43108</th>\n",
       "      <td>NaN</td>\n",
       "      <td>NaN</td>\n",
       "      <td>NaN</td>\n",
       "      <td>NaN</td>\n",
       "      <td>NaN</td>\n",
       "      <td>NaN</td>\n",
       "      <td>NaN</td>\n",
       "      <td>NaN</td>\n",
       "      <td>NaN</td>\n",
       "      <td>NaN</td>\n",
       "      <td>NaN</td>\n",
       "      <td>NaN</td>\n",
       "      <td>NaN</td>\n",
       "    </tr>\n",
       "    <tr>\n",
       "      <th>43109</th>\n",
       "      <td>NaN</td>\n",
       "      <td>NaN</td>\n",
       "      <td>NaN</td>\n",
       "      <td>NaN</td>\n",
       "      <td>NaN</td>\n",
       "      <td>NaN</td>\n",
       "      <td>NaN</td>\n",
       "      <td>NaN</td>\n",
       "      <td>NaN</td>\n",
       "      <td>NaN</td>\n",
       "      <td>NaN</td>\n",
       "      <td>NaN</td>\n",
       "      <td>NaN</td>\n",
       "    </tr>\n",
       "    <tr>\n",
       "      <th>43110</th>\n",
       "      <td>NaN</td>\n",
       "      <td>NaN</td>\n",
       "      <td>NaN</td>\n",
       "      <td>NaN</td>\n",
       "      <td>NaN</td>\n",
       "      <td>NaN</td>\n",
       "      <td>NaN</td>\n",
       "      <td>NaN</td>\n",
       "      <td>NaN</td>\n",
       "      <td>NaN</td>\n",
       "      <td>NaN</td>\n",
       "      <td>NaN</td>\n",
       "      <td>NaN</td>\n",
       "    </tr>\n",
       "    <tr>\n",
       "      <th>43111</th>\n",
       "      <td>NaN</td>\n",
       "      <td>NaN</td>\n",
       "      <td>NaN</td>\n",
       "      <td>NaN</td>\n",
       "      <td>NaN</td>\n",
       "      <td>NaN</td>\n",
       "      <td>NaN</td>\n",
       "      <td>NaN</td>\n",
       "      <td>NaN</td>\n",
       "      <td>NaN</td>\n",
       "      <td>NaN</td>\n",
       "      <td>NaN</td>\n",
       "      <td>NaN</td>\n",
       "    </tr>\n",
       "  </tbody>\n",
       "</table>\n",
       "<p>43112 rows × 13 columns</p>\n",
       "</div>"
      ],
      "text/plain": [
       "      CO2 emissions CO2 emissions (NEDC) CO2 emissions (WLTP)  \\\n",
       "0          153 g/km                  NaN                  NaN   \n",
       "1          148 g/km                  NaN                  NaN   \n",
       "2          153 g/km                  NaN                  NaN   \n",
       "3          148 g/km                  NaN                  NaN   \n",
       "4               NaN             151 g/km                  NaN   \n",
       "...             ...                  ...                  ...   \n",
       "43107           NaN                  NaN                  NaN   \n",
       "43108           NaN                  NaN                  NaN   \n",
       "43109           NaN                  NaN                  NaN   \n",
       "43110           NaN                  NaN                  NaN   \n",
       "43111           NaN                  NaN                  NaN   \n",
       "\n",
       "      CO2 emissions (LPG) CO2 emissions (NEDC, WLTP equivalent)  \\\n",
       "0                     NaN                                   NaN   \n",
       "1                     NaN                                   NaN   \n",
       "2                     NaN                                   NaN   \n",
       "3                     NaN                                   NaN   \n",
       "4                     NaN                                   NaN   \n",
       "...                   ...                                   ...   \n",
       "43107                 NaN                                   NaN   \n",
       "43108                 NaN                                   NaN   \n",
       "43109                 NaN                                   NaN   \n",
       "43110                 NaN                                   NaN   \n",
       "43111                 NaN                                   NaN   \n",
       "\n",
       "      CO2 emissions (CNG) CO2 emissions (CNG) (NEDC)  \\\n",
       "0                     NaN                        NaN   \n",
       "1                     NaN                        NaN   \n",
       "2                     NaN                        NaN   \n",
       "3                     NaN                        NaN   \n",
       "4                     NaN                        NaN   \n",
       "...                   ...                        ...   \n",
       "43107                 NaN                        NaN   \n",
       "43108                 NaN                        NaN   \n",
       "43109                 NaN                        NaN   \n",
       "43110                 NaN                        NaN   \n",
       "43111                 NaN                        NaN   \n",
       "\n",
       "      CO2 emissions (Ethanol - E85) CO2 emissions (LPG) (NEDC)  \\\n",
       "0                               NaN                        NaN   \n",
       "1                               NaN                        NaN   \n",
       "2                               NaN                        NaN   \n",
       "3                               NaN                        NaN   \n",
       "4                               NaN                        NaN   \n",
       "...                             ...                        ...   \n",
       "43107                           NaN                        NaN   \n",
       "43108                           NaN                        NaN   \n",
       "43109                           NaN                        NaN   \n",
       "43110                           NaN                        NaN   \n",
       "43111                           NaN                        NaN   \n",
       "\n",
       "      CO2 emissions (LPG) (NEDC, WLTP equivalent) CO2 emissions (LPG) (WLTP)  \\\n",
       "0                                             NaN                        NaN   \n",
       "1                                             NaN                        NaN   \n",
       "2                                             NaN                        NaN   \n",
       "3                                             NaN                        NaN   \n",
       "4                                             NaN                        NaN   \n",
       "...                                           ...                        ...   \n",
       "43107                                         NaN                        NaN   \n",
       "43108                                         NaN                        NaN   \n",
       "43109                                         NaN                        NaN   \n",
       "43110                                         NaN                        NaN   \n",
       "43111                                         NaN                        NaN   \n",
       "\n",
       "      CO2 emissions (CNG) (WLTP) CO2 emissions (CNG) (NEDC, WLTP equivalent)  \n",
       "0                            NaN                                         NaN  \n",
       "1                            NaN                                         NaN  \n",
       "2                            NaN                                         NaN  \n",
       "3                            NaN                                         NaN  \n",
       "4                            NaN                                         NaN  \n",
       "...                          ...                                         ...  \n",
       "43107                        NaN                                         NaN  \n",
       "43108                        NaN                                         NaN  \n",
       "43109                        NaN                                         NaN  \n",
       "43110                        NaN                                         NaN  \n",
       "43111                        NaN                                         NaN  \n",
       "\n",
       "[43112 rows x 13 columns]"
      ]
     },
     "execution_count": 185,
     "metadata": {},
     "output_type": "execute_result"
    }
   ],
   "source": [
    "df_gev[['CO2 emissions',\n",
    " 'CO2 emissions (NEDC)',\n",
    " 'CO2 emissions (WLTP)',\n",
    " 'CO2 emissions (LPG)',\n",
    " 'CO2 emissions (NEDC, WLTP equivalent)',\n",
    " 'CO2 emissions (CNG)',\n",
    " 'CO2 emissions (CNG) (NEDC)',\n",
    " 'CO2 emissions (Ethanol - E85)',\n",
    " 'CO2 emissions (LPG) (NEDC)',\n",
    " 'CO2 emissions (LPG) (NEDC, WLTP equivalent)',\n",
    " 'CO2 emissions (LPG) (WLTP)',\n",
    " 'CO2 emissions (CNG) (WLTP)',\n",
    " 'CO2 emissions (CNG) (NEDC, WLTP equivalent)']]#.isna().sum()"
   ]
  },
  {
   "cell_type": "code",
   "execution_count": 186,
   "metadata": {},
   "outputs": [],
   "source": [
    "df_co2 = df_gev[co2_col_filtered].copy()\n",
    "for column in co2_col_filtered:\n",
    "    df_co2[column] = df_gev[[column]].apply(lambda item: item + co2_grab(item))\n",
    "df_co2['co2_clean'] = df_co2.fillna('').sum(axis=1)"
   ]
  },
  {
   "cell_type": "code",
   "execution_count": 187,
   "metadata": {},
   "outputs": [],
   "source": [
    "#df_co2['co2_clean'][200:250]\n",
    "df_co2['co2_clean'] = df_co2['co2_clean'].apply(lambda item: np.nan if len(item) ==0 else item)\n"
   ]
  },
  {
   "cell_type": "code",
   "execution_count": 231,
   "metadata": {},
   "outputs": [
    {
     "data": {
      "text/html": [
       "<div>\n",
       "<style scoped>\n",
       "    .dataframe tbody tr th:only-of-type {\n",
       "        vertical-align: middle;\n",
       "    }\n",
       "\n",
       "    .dataframe tbody tr th {\n",
       "        vertical-align: top;\n",
       "    }\n",
       "\n",
       "    .dataframe thead th {\n",
       "        text-align: right;\n",
       "    }\n",
       "</style>\n",
       "<table border=\"1\" class=\"dataframe\">\n",
       "  <thead>\n",
       "    <tr style=\"text-align: right;\">\n",
       "      <th></th>\n",
       "      <th>co2_clean</th>\n",
       "      <th>co2_nb</th>\n",
       "      <th>co2_unit</th>\n",
       "    </tr>\n",
       "  </thead>\n",
       "  <tbody>\n",
       "    <tr>\n",
       "      <th>0</th>\n",
       "      <td>153 g/km</td>\n",
       "      <td>153.0</td>\n",
       "      <td>g/km</td>\n",
       "    </tr>\n",
       "    <tr>\n",
       "      <th>1</th>\n",
       "      <td>148 g/km</td>\n",
       "      <td>148.0</td>\n",
       "      <td>g/km</td>\n",
       "    </tr>\n",
       "    <tr>\n",
       "      <th>2</th>\n",
       "      <td>153 g/km</td>\n",
       "      <td>153.0</td>\n",
       "      <td>g/km</td>\n",
       "    </tr>\n",
       "    <tr>\n",
       "      <th>3</th>\n",
       "      <td>148 g/km</td>\n",
       "      <td>148.0</td>\n",
       "      <td>g/km</td>\n",
       "    </tr>\n",
       "    <tr>\n",
       "      <th>4</th>\n",
       "      <td>151 g/km(NEDC)</td>\n",
       "      <td>151.0</td>\n",
       "      <td>g/km(NEDC)</td>\n",
       "    </tr>\n",
       "    <tr>\n",
       "      <th>...</th>\n",
       "      <td>...</td>\n",
       "      <td>...</td>\n",
       "      <td>...</td>\n",
       "    </tr>\n",
       "    <tr>\n",
       "      <th>43107</th>\n",
       "      <td>NaN</td>\n",
       "      <td>NaN</td>\n",
       "      <td>NaN</td>\n",
       "    </tr>\n",
       "    <tr>\n",
       "      <th>43108</th>\n",
       "      <td>NaN</td>\n",
       "      <td>NaN</td>\n",
       "      <td>NaN</td>\n",
       "    </tr>\n",
       "    <tr>\n",
       "      <th>43109</th>\n",
       "      <td>NaN</td>\n",
       "      <td>NaN</td>\n",
       "      <td>NaN</td>\n",
       "    </tr>\n",
       "    <tr>\n",
       "      <th>43110</th>\n",
       "      <td>NaN</td>\n",
       "      <td>NaN</td>\n",
       "      <td>NaN</td>\n",
       "    </tr>\n",
       "    <tr>\n",
       "      <th>43111</th>\n",
       "      <td>NaN</td>\n",
       "      <td>NaN</td>\n",
       "      <td>NaN</td>\n",
       "    </tr>\n",
       "  </tbody>\n",
       "</table>\n",
       "<p>43112 rows × 3 columns</p>\n",
       "</div>"
      ],
      "text/plain": [
       "            co2_clean co2_nb    co2_unit\n",
       "0            153 g/km  153.0        g/km\n",
       "1            148 g/km  148.0        g/km\n",
       "2            153 g/km  153.0        g/km\n",
       "3            148 g/km  148.0        g/km\n",
       "4      151 g/km(NEDC)  151.0  g/km(NEDC)\n",
       "...               ...    ...         ...\n",
       "43107             NaN    NaN         NaN\n",
       "43108             NaN    NaN         NaN\n",
       "43109             NaN    NaN         NaN\n",
       "43110             NaN    NaN         NaN\n",
       "43111             NaN    NaN         NaN\n",
       "\n",
       "[43112 rows x 3 columns]"
      ]
     },
     "execution_count": 231,
     "metadata": {},
     "output_type": "execute_result"
    }
   ],
   "source": [
    "#df_co2.isna().sum()\n",
    "#df_co2['co2_clean'].iloc[200].split()[0]\n",
    "df_co2['co2_nb'] = df_co2['co2_clean'].apply(lambda item: np.nan if isinstance(item, float) else (item.replace('l','1').split()[0] if item.replace('l','1').split()[0].find('-') == -1 else item.split()[0].split('-')[0]))\n",
    "df_co2['co2_unit'] = df_co2['co2_clean'].apply(lambda item: np.nan if isinstance(item, float) else item.split()[1])\n",
    "df_co2['co2_nb'] = df_co2['co2_nb'].apply(lambda item: float(item) if (not isinstance(item, float) and item.isdigit()) else item) #.str.isnumeric()\n",
    "df_co2[['co2_clean','co2_nb','co2_unit']]\n"
   ]
  },
  {
   "cell_type": "code",
   "execution_count": 233,
   "metadata": {},
   "outputs": [
    {
     "data": {
      "text/plain": [
       "float"
      ]
     },
     "execution_count": 233,
     "metadata": {},
     "output_type": "execute_result"
    }
   ],
   "source": [
    "type(df_co2['co2_nb'][0])"
   ]
  },
  {
   "cell_type": "code",
   "execution_count": 224,
   "metadata": {},
   "outputs": [
    {
     "data": {
      "text/plain": [
       "CO2 emissions                                                     NaN\n",
       "CO2 emissions (NEDC)                                              NaN\n",
       "CO2 emissions (WLTP)                           LEV3-ULEV70 g/km(WLTP)\n",
       "CO2 emissions (LPG)                                               NaN\n",
       "CO2 emissions (NEDC, WLTP equivalent)                             NaN\n",
       "CO2 emissions (CNG)                                               NaN\n",
       "CO2 emissions (CNG) (NEDC)                                        NaN\n",
       "CO2 emissions (Ethanol - E85)                                     NaN\n",
       "CO2 emissions (LPG) (NEDC)                                        NaN\n",
       "CO2 emissions (LPG) (NEDC, WLTP equivalent)                       NaN\n",
       "CO2 emissions (LPG) (WLTP)                                        NaN\n",
       "CO2 emissions (CNG) (WLTP)                                        NaN\n",
       "CO2 emissions (CNG) (NEDC, WLTP equivalent)                       NaN\n",
       "co2_clean                                      LEV3-ULEV70 g/km(WLTP)\n",
       "co2_nb                                                           LEV3\n",
       "co2_unit                                                   g/km(WLTP)\n",
       "Name: 15394, dtype: object"
      ]
     },
     "execution_count": 224,
     "metadata": {},
     "output_type": "execute_result"
    }
   ],
   "source": [
    "#df_co2['co2_nb'][~df_co2['co2_nb'].isna()] #== 'LEV3'] .str.contains(pat='LEV3')\n",
    "df_co2.iloc[15394]"
   ]
  },
  {
   "cell_type": "code",
   "execution_count": 225,
   "metadata": {},
   "outputs": [],
   "source": [
    "#for i in range(0,df_gev.shape[0]):\n",
    " #   if df_co2['co2_nb'][~df_co2['co2_nb'].isna()].iloc[i].find('LEV3') != -1:\n",
    "  #      print(df_co2.iloc[i])"
   ]
  },
  {
   "cell_type": "code",
   "execution_count": null,
   "metadata": {},
   "outputs": [],
   "source": [
    "#df_gev.iloc[54]\n",
    "dicto_csv['a'].iloc[54]"
   ]
  },
  {
   "cell_type": "code",
   "execution_count": null,
   "metadata": {},
   "outputs": [],
   "source": [
    "[df_gev.columns.str_contains('NEDC') for  in col_list]"
   ]
  },
  {
   "cell_type": "markdown",
   "metadata": {},
   "source": [
    "# **EV dataframe**"
   ]
  },
  {
   "cell_type": "code",
   "execution_count": null,
   "metadata": {},
   "outputs": [],
   "source": [
    "df['Powertrain Architecture'].value_counts()"
   ]
  },
  {
   "cell_type": "code",
   "execution_count": null,
   "metadata": {},
   "outputs": [],
   "source": [
    "condition = df['Powertrain Architecture'] == 'Internal Combustion engine'\n",
    "df_electric = df[~condition]                                             #Makes no sense why it doesn't work with the above written"
   ]
  },
  {
   "cell_type": "code",
   "execution_count": null,
   "metadata": {},
   "outputs": [],
   "source": [
    "# #This is the dataframe with all the information we want\n",
    "# page4 = 'https://www.auto-data.net/en/alfa-romeo-mito-1.6-jtdm-120hp-16680'\n",
    "# what = pd.read_html(page4)[1]  \n",
    "# what\n",
    "\n",
    "# what2 = what[(what['General information'] == 'Brand')\n",
    "# |(what['General information'] == 'Model')\n",
    "# |(what['General information'] == 'Generation')\n",
    "# |(what['General information'] == 'Modification (Engine)')\n",
    "# |(what['General information'] == 'CO2 emissions') \n",
    "# |(what['General information'] == 'Body type')\n",
    "# |(what['General information'] == 'Fuel tank capacity')\n",
    "# |(what['General information'] == 'Fuel consumption (economy) - combined')\n",
    "# |(what['General information'] == 'Fuel Type')\n",
    "# |(what['General information'] == 'Power')]\n",
    "# what2.index = what2['General information']\n",
    "# what3 = what2.T\n",
    "# what3.drop(axis = 0, labels = 'General information', inplace = True)\n",
    "# what3['Fuel tank(l)'] = what3['Fuel tank capacity'].apply(lambda x : x.split(' ')[0])\n",
    "# what3['Fuel consumption(l/100km)'] = what3['Fuel consumption (economy) - combined'].apply(lambda x : x.split(' ')[0])\n",
    "# what3['Power(Hp)'] = what3['Power'].apply(lambda x: x.split(' ')[0])\n",
    "# what3['Range (Km)'] = what3[['Fuel tank(l)','Fuel consumption(l/100km)']].apply(lambda item: int(item[0])/float(item[1])*100,axis=1)\n",
    "\n",
    "# what4 = what3\n",
    "# what4.drop(columns = ['Fuel consumption (economy) - combined', 'Fuel tank capacity'], inplace = True)\n",
    "# what4                               #We need to remove this General information column still"
   ]
  }
 ],
 "metadata": {
  "interpreter": {
   "hash": "9551cd33bf16c35239638d01283791bf06f66b16b64b8c1df3bd1173c0151abf"
  },
  "kernelspec": {
   "display_name": "Python 3 (ipykernel)",
   "language": "python",
   "name": "python3"
  },
  "language_info": {
   "codemirror_mode": {
    "name": "ipython",
    "version": 3
   },
   "file_extension": ".py",
   "mimetype": "text/x-python",
   "name": "python",
   "nbconvert_exporter": "python",
   "pygments_lexer": "ipython3",
   "version": "3.8.12"
  }
 },
 "nbformat": 4,
 "nbformat_minor": 2
}
