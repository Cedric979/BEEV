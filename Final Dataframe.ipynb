{
 "cells": [
  {
   "cell_type": "markdown",
   "metadata": {},
   "source": [
    "# **Uploading the files and concating the DFs**"
   ]
  },
  {
   "cell_type": "code",
   "execution_count": 1,
   "metadata": {},
   "outputs": [],
   "source": [
    "import pandas as pd"
   ]
  },
  {
   "cell_type": "code",
   "execution_count": 2,
   "metadata": {},
   "outputs": [],
   "source": [
    "letters = ['a','b','c','d','e','f','g','h','i','j','k','l','m','n','o','p','q','r','s','t','u','v','w','x','z']"
   ]
  },
  {
   "cell_type": "code",
   "execution_count": null,
   "metadata": {},
   "outputs": [],
   "source": [
    "df_a = pd.read_csv(\"../BEEV/letter_scraped/\"+ 'a' +\"_scraped.csv\")                #Remember to ask Cristina about yellow stuff after backslash\n",
    "df_a"
   ]
  },
  {
   "cell_type": "code",
   "execution_count": 14,
   "metadata": {},
   "outputs": [],
   "source": [
    "dicto_scraped = {letter : pd.read_csv(\"../BEEV/letter_scraped/\"+ letter +\"_scraped.csv\",index_col=None) for letter in letters}"
   ]
  },
  {
   "cell_type": "code",
   "execution_count": 15,
   "metadata": {},
   "outputs": [
    {
     "name": "stdout",
     "output_type": "stream",
     "text": [
      "73\n"
     ]
    }
   ],
   "source": [
    "for letters in dicto_scraped:\n",
    "    print(dicto_scraped[letters].shape[0])"
   ]
  },
  {
   "cell_type": "code",
   "execution_count": 6,
   "metadata": {},
   "outputs": [],
   "source": [
    "df = pd.concat([dicto[letter] for letter in letters])"
   ]
  },
  {
   "cell_type": "code",
   "execution_count": 16,
   "metadata": {},
   "outputs": [],
   "source": [
    "dicto_csv = {letter : pd.read_csv(\"../BEEV/letter_csvs/\"+ letter +\".csv\",index_col=None) for letter in letters}"
   ]
  },
  {
   "cell_type": "code",
   "execution_count": 17,
   "metadata": {},
   "outputs": [
    {
     "name": "stdout",
     "output_type": "stream",
     "text": [
      "73\n"
     ]
    }
   ],
   "source": [
    "for letters in dicto_csv:\n",
    "    print(dicto_csv[letters].shape[0])"
   ]
  },
  {
   "cell_type": "markdown",
   "metadata": {},
   "source": [
    "# **GEV dataframe**"
   ]
  },
  {
   "cell_type": "code",
   "execution_count": null,
   "metadata": {},
   "outputs": [],
   "source": [
    "df_gev = df[df['Powertrain Architecture'] == 'Internal Combustion engine']\n",
    "df_gev"
   ]
  },
  {
   "cell_type": "code",
   "execution_count": 10,
   "metadata": {},
   "outputs": [],
   "source": [
    "col_list = []\n",
    "for col in df_gev.columns:\n",
    "    col_list += [col]"
   ]
  },
  {
   "cell_type": "code",
   "execution_count": 11,
   "metadata": {},
   "outputs": [
    {
     "ename": "SyntaxError",
     "evalue": "invalid syntax (Temp/ipykernel_6784/2109108790.py, line 1)",
     "output_type": "error",
     "traceback": [
      "\u001b[1;36m  File \u001b[1;32m\"C:\\Users\\UTILIZ~1\\AppData\\Local\\Temp/ipykernel_6784/2109108790.py\"\u001b[1;36m, line \u001b[1;32m1\u001b[0m\n\u001b[1;33m    [df_gev.columns.str_contains('NEDC') for  in col_list]\u001b[0m\n\u001b[1;37m                                              ^\u001b[0m\n\u001b[1;31mSyntaxError\u001b[0m\u001b[1;31m:\u001b[0m invalid syntax\n"
     ]
    }
   ],
   "source": [
    "[df_gev.columns.str_contains('NEDC') for  in col_list]"
   ]
  },
  {
   "cell_type": "markdown",
   "metadata": {},
   "source": [
    "# **EV dataframe**"
   ]
  },
  {
   "cell_type": "code",
   "execution_count": null,
   "metadata": {},
   "outputs": [
    {
     "data": {
      "text/plain": [
       "Internal Combustion engine                                                                          43112\n",
       "MHEV (Mild Hybrid Electric Vehicle, power-assist hybrid, battery-assisted hybrid vehicles, BAHV)      645\n",
       "BEV (Electric Vehicle)                                                                                418\n",
       "PHEV (Plug-in Hybrid Electric Vehicle)                                                                326\n",
       "FHEV (Full Hybrid Electric Vehicle)                                                                   314\n",
       "FCEV (Fuel Cell Electric Vehicle)                                                                       7\n",
       "PFCEV (Plug-in Fuel Cell Electric Vehicle)                                                              1\n",
       "Name: Powertrain Architecture, dtype: int64"
      ]
     },
     "execution_count": 42,
     "metadata": {},
     "output_type": "execute_result"
    }
   ],
   "source": [
    "df['Powertrain Architecture'].value_counts()"
   ]
  },
  {
   "cell_type": "code",
   "execution_count": null,
   "metadata": {},
   "outputs": [],
   "source": [
    "condition = df['Powertrain Architecture'] == 'Internal Combustion engine'\n",
    "df_electric = df[~condition]                                             #Makes no sense why it doesn't work with the above written"
   ]
  },
  {
   "cell_type": "code",
   "execution_count": null,
   "metadata": {},
   "outputs": [],
   "source": [
    "# #This is the dataframe with all the information we want\n",
    "# page4 = 'https://www.auto-data.net/en/alfa-romeo-mito-1.6-jtdm-120hp-16680'\n",
    "# what = pd.read_html(page4)[1]  \n",
    "# what\n",
    "\n",
    "# what2 = what[(what['General information'] == 'Brand')\n",
    "# |(what['General information'] == 'Model')\n",
    "# |(what['General information'] == 'Generation')\n",
    "# |(what['General information'] == 'Modification (Engine)')\n",
    "# |(what['General information'] == 'CO2 emissions') \n",
    "# |(what['General information'] == 'Body type')\n",
    "# |(what['General information'] == 'Fuel tank capacity')\n",
    "# |(what['General information'] == 'Fuel consumption (economy) - combined')\n",
    "# |(what['General information'] == 'Fuel Type')\n",
    "# |(what['General information'] == 'Power')]\n",
    "# what2.index = what2['General information']\n",
    "# what3 = what2.T\n",
    "# what3.drop(axis = 0, labels = 'General information', inplace = True)\n",
    "# what3['Fuel tank(l)'] = what3['Fuel tank capacity'].apply(lambda x : x.split(' ')[0])\n",
    "# what3['Fuel consumption(l/100km)'] = what3['Fuel consumption (economy) - combined'].apply(lambda x : x.split(' ')[0])\n",
    "# what3['Power(Hp)'] = what3['Power'].apply(lambda x: x.split(' ')[0])\n",
    "# what3['Range (Km)'] = what3[['Fuel tank(l)','Fuel consumption(l/100km)']].apply(lambda item: int(item[0])/float(item[1])*100,axis=1)\n",
    "\n",
    "# what4 = what3\n",
    "# what4.drop(columns = ['Fuel consumption (economy) - combined', 'Fuel tank capacity'], inplace = True)\n",
    "# what4                               #We need to remove this General information column still"
   ]
  }
 ],
 "metadata": {
  "interpreter": {
   "hash": "9551cd33bf16c35239638d01283791bf06f66b16b64b8c1df3bd1173c0151abf"
  },
  "kernelspec": {
   "display_name": "Python 3.8.12 64-bit ('Safe space': conda)",
   "language": "python",
   "name": "python3"
  },
  "language_info": {
   "codemirror_mode": {
    "name": "ipython",
    "version": 3
   },
   "file_extension": ".py",
   "mimetype": "text/x-python",
   "name": "python",
   "nbconvert_exporter": "python",
   "pygments_lexer": "ipython3",
   "version": "3.8.12"
  },
  "orig_nbformat": 4
 },
 "nbformat": 4,
 "nbformat_minor": 2
}
