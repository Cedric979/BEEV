{
 "cells": [
  {
   "cell_type": "code",
   "execution_count": 36,
   "id": "e344856a",
   "metadata": {},
   "outputs": [
    {
     "name": "stderr",
     "output_type": "stream",
     "text": [
      "/Users/cedricpinel/opt/anaconda3/envs/streamlite/lib/python3.8/site-packages/sklearn/base.py:445: UserWarning: X does not have valid feature names, but NearestNeighbors was fitted with feature names\n",
      "  warnings.warn(\n"
     ]
    },
    {
     "ename": "NameError",
     "evalue": "name 'category_choosen' is not defined",
     "output_type": "error",
     "traceback": [
      "\u001b[0;31m---------------------------------------------------------------------------\u001b[0m",
      "\u001b[0;31mNameError\u001b[0m                                 Traceback (most recent call last)",
      "\u001b[0;32m/var/folders/zp/g__9z3d17bl6nkkpnxb0p46r0000gn/T/ipykernel_5942/1798269443.py\u001b[0m in \u001b[0;36m<module>\u001b[0;34m\u001b[0m\n\u001b[1;32m     48\u001b[0m \u001b[0;34m\u001b[0m\u001b[0m\n\u001b[1;32m     49\u001b[0m \u001b[0;31m#Code below to check\u001b[0m\u001b[0;34m\u001b[0m\u001b[0;34m\u001b[0m\u001b[0;34m\u001b[0m\u001b[0m\n\u001b[0;32m---> 50\u001b[0;31m \u001b[0;32mif\u001b[0m \u001b[0mcategory_choosen\u001b[0m\u001b[0;34m!=\u001b[0m \u001b[0;34m\"ALL\"\u001b[0m\u001b[0;34m:\u001b[0m\u001b[0;34m\u001b[0m\u001b[0;34m\u001b[0m\u001b[0m\n\u001b[0m\u001b[1;32m     51\u001b[0m     \u001b[0mdf\u001b[0m\u001b[0;34m[\u001b[0m\u001b[0;34m'Category'\u001b[0m\u001b[0;34m]\u001b[0m \u001b[0;34m==\u001b[0m \u001b[0mcategory_choosen\u001b[0m\u001b[0;34m\u001b[0m\u001b[0;34m\u001b[0m\u001b[0m\n\u001b[1;32m     52\u001b[0m \u001b[0;32melse\u001b[0m\u001b[0;34m:\u001b[0m \u001b[0mcategory_choosen\u001b[0m \u001b[0;34m=\u001b[0m \u001b[0;34m\"\"\u001b[0m \u001b[0;31m# to check if we can filter the DF if category_choosen ==\"\"\u001b[0m\u001b[0;34m\u001b[0m\u001b[0;34m\u001b[0m\u001b[0m\n",
      "\u001b[0;31mNameError\u001b[0m: name 'category_choosen' is not defined"
     ]
    }
   ],
   "source": [
    "import numpy as np\n",
    "import pandas as pd\n",
    "import streamlit as st\n",
    "import string\n",
    "from PIL import Image\n",
    "\n",
    "#LIBRARIES\n",
    "import numpy as np # linear algebra\n",
    "import pandas as pd # data processing, CSV file I/O (e.g. pd.read_csv)\n",
    "#Graphics\n",
    "#import matplotlib.pyplot as plt\n",
    "#import seaborn as sns\n",
    "#KNeighbors\n",
    "from sklearn.neighbors import NearestNeighbors\n",
    "#Scalers\n",
    "from sklearn import preprocessing\n",
    "from sklearn.preprocessing import StandardScaler, MinMaxScaler\n",
    "#Data selection\n",
    "from sklearn.model_selection import train_test_split\n",
    "from sklearn.model_selection import GridSearchCV\n",
    "from sklearn.model_selection import RandomizedSearchCV\n",
    "from sklearn.decomposition import PCA\n",
    "#METRICS\n",
    "from sklearn.model_selection import cross_val_score\n",
    "from sklearn.metrics import precision_score, recall_score,accuracy_score\n",
    "from sklearn.metrics import mean_squared_error\n",
    "#RANDOM\n",
    "import random as rd\n",
    "\n",
    "#global link1\n",
    "########################################################### FIRST TRY\n",
    "df = pd.read_csv(\"Beev Electric Vehicle Specs Data.csv\")\n",
    "df_new = pd.DataFrame(zip(df['Full Name'],df['Brand'], df['Model'], df['Main Price'], df['Category']))\n",
    "df_new.rename(columns = {0:'Full Name', 1:'Brand', 2:'Model', 3:'Main Price',4: 'Category'}, inplace = True)\n",
    "df_new['Main Price'].value_counts(dropna = False)   # We either drop the Nans or we fill with the average\n",
    "df_new['Main Price'].fillna(df_new['Main Price'].mean(), inplace = True) \n",
    "X = df_new[['Main Price']]          \n",
    "distanceKNN = NearestNeighbors(n_neighbors=3).fit(X)\n",
    "distanceKNN.kneighbors([[60000]], 3, return_distance = False)\n",
    "#df[['Full Name', 'Main Price']].iloc[[148, 16, 57]]\n",
    "categories = list(df['Category'].unique())\n",
    "categories.insert(0,\"ALL\")\n",
    "\n",
    "image = Image.open('BEEV_image.png')\n",
    "st.image(image)\n",
    "st.title(\"Let's check which EV cars would suit to you\")\n",
    "value_one = st.text_area(\"text box\")\n",
    "\n",
    "#Code below to check\n",
    "if category_choosen!= \"ALL\":\n",
    "    df['Category'] == category_choosen\n",
    "else: category_choosen = \"\" # to check if we can filter the DF if category_choosen ==\"\"\n",
    "        \n",
    "# st.write(\"similar unique words\",dict2)\n",
    "label1 = \"please select the category of the car you would like\"\n",
    "category_choosen = st.selectbox(label1,categories)\n",
    "st.write(category_choosen)\n",
    "if st.button('Get info'):\n",
    "  st.write(value_one)\n",
    "  #  for i in range(1, 1000): #len(df_lyrics_final['Lyric'])):\n",
    "   #   \n",
    "    #    lyrics_comparator(punct(lyrics_one), punct(df_lyrics_final['Lyric'][i]))\n",
    "     #   final_dict[i] = [max_similar,similar_w_unique, similar_w_not_unique]\n",
    "\n",
    "  #  lyrics_report(punct(lyrics_one), punct(df_lyrics_final['Lyric'][dict_sum(final_dict)]))\n",
    "   # st.write(df_lyrics_final.iloc[dict_sum(final_dict)][['Artist','Song']]) #veribal \n",
    "    #link1 = df_lyrics_final.iloc[dict_sum(final_dict)][['SLink']][0]\n",
    "    #st.write(type(link1))\n",
    "\n",
    "\n",
    "    #st.write(link1)\n",
    "   # url = f\"https://www.vagalume.com.br{link1}\"\n",
    "   # st.write(url)\n",
    "\n"
   ]
  },
  {
   "cell_type": "code",
   "execution_count": null,
   "id": "964a6354",
   "metadata": {},
   "outputs": [],
   "source": [
    "################################SECOND TRY\n",
    "\n",
    "import numpy as np\n",
    "import pandas as pd\n",
    "import streamlit as st\n",
    "import string\n",
    "from PIL import Image\n",
    "\n",
    "#LIBRARIES\n",
    "import numpy as np # linear algebra\n",
    "import pandas as pd # data processing, CSV file I/O (e.g. pd.read_csv)\n",
    "#Graphics\n",
    "#import matplotlib.pyplot as plt\n",
    "#import seaborn as sns\n",
    "#KNeighbors\n",
    "from sklearn.neighbors import NearestNeighbors\n",
    "#Scalers\n",
    "from sklearn import preprocessing\n",
    "from sklearn.preprocessing import StandardScaler, MinMaxScaler\n",
    "#Data selection\n",
    "from sklearn.model_selection import train_test_split\n",
    "from sklearn.model_selection import GridSearchCV\n",
    "from sklearn.model_selection import RandomizedSearchCV\n",
    "from sklearn.decomposition import PCA\n",
    "#METRICS\n",
    "from sklearn.model_selection import cross_val_score\n",
    "from sklearn.metrics import precision_score, recall_score,accuracy_score\n",
    "from sklearn.metrics import mean_squared_error\n",
    "#RANDOM\n",
    "import random as rd\n",
    "\n",
    "#global link1\n",
    "\n",
    "#Code\n",
    "df = pd.read_csv(\"Beev Electric Vehicle Specs Data.csv\")\n",
    "df['Main Price'].fillna(62000.0, inplace = True)\n",
    "df['Range (km)'].fillna(235.0, inplace = True)\n",
    "df_new = pd.DataFrame(zip(df['Full Name'],df['Main Price'],df['Range (km)'], df['Category']))\n",
    "df_new.rename(columns = {0:'Full Name', 1:'Price',2:'Range',3:'Category'}, inplace = True)\n",
    "df_model = df_new\n",
    "df_model['Price with Incentive'] = df_model['Price'].apply(lambda item: item - 6000)\n",
    "\n",
    "#distanceKNN.kneighbors([[60000]], 3, return_distance = False)\n",
    "#df[['Full Name', 'Main Price']].iloc[[148, 16, 57]]\n",
    "categories = list(df['Category'].unique())\n",
    "categories.insert(0,\"ALL\")\n",
    "\n",
    "#df_new[['Full Name', 'Price', 'Range', 'Category']].iloc[[66, 36, 47, 37, 64]]# result to display\n",
    "\n",
    "### start streamlit\n",
    "image = Image.open('BEEV_image.png')\n",
    "st.image(image)\n",
    "st.title(\"Let's check which EV cars would suit to you\")\n",
    "#value_one = st.text_area(\"text box\")\n",
    "\n",
    "#Defining the selectbox\n",
    "label1 = \"please select the category of the car you would like\"\n",
    "category_choosen = st.selectbox(label1,categories)\n",
    "#st.write(category_choosen)\n",
    "\n",
    "#Asking the user the Price and the Range\n",
    "# Add a slider to the sidebar:\n",
    "range_slider = st.sidebar.slider('Select a desired range in Kilometers',200, 800, (250))\n",
    "price_slider = st.sidebar.slider('Select a desired price for the EV car',10000, 100000, (15000))\n",
    "\n",
    "#Define the validation button\n",
    "if st.button('Get EV Cars recommendation'):\n",
    "    if category_choosen != \"ALL\":\n",
    "        df_model = df_model[df_model['Category'] == category_choosen].copy()\n",
    "        X = df_model[['Price', 'Range']]\n",
    "        distanceKNN_cars = NearestNeighbors(n_neighbors=5).fit(X)\n",
    "        result = distanceKNN_cars.kneighbors([[price_slider,range_slider]], 5, return_distance = False)\n",
    "    else:\n",
    "        X = df_model[['Price','Range']].copy()        \n",
    "        distanceKNN_cars = NearestNeighbors(n_neighbors=5).fit(X)\n",
    "        result = distanceKNN_cars.kneighbors([[price_slider,range_slider]], 5, return_distance = False)\n",
    "    #st.write(result)\n",
    "    for i in range(5):\n",
    "        st.write(df_model[['Full Name', 'Price','Range','Category','Price with Incentive']].iloc[[result[0][i]]])\n",
    "\n"
   ]
  },
  {
   "cell_type": "code",
   "execution_count": null,
   "id": "8601216c",
   "metadata": {},
   "outputs": [],
   "source": [
    "#\n",
    "df = pd.read_csv(\"Beev Electric Vehicle Specs Data.csv\")\n",
    "df['Main Price'].fillna(62000.0, inplace = True)\n",
    "df['Range (km)'].fillna(235.0, inplace = True)\n",
    "df_new = pd.DataFrame(zip(df['Full Name'],df['Main Price'],df['Range (km)'], df['Category']))\n",
    "df_new.rename(columns = {0:'Full Name', 1:'Price',2:'Range',3:'Category'}, inplace = True)\n",
    "df_model = df_new\n",
    "df_model['Price with Incentive'] = df_model['Price'].apply(lambda item: item - 6000)\n",
    "\n",
    "df_model = df_model[df_model['Category'] == 'Berline'].copy()\n",
    "X = df_model[['Price', 'Range']]\n",
    "distanceKNN_cars = NearestNeighbors(n_neighbors=5).fit(X)\n",
    "result = distanceKNN_cars.kneighbors([[price_slider,range_slider]], 5, return_distance = False)\n",
    "        \n",
    "        \n",
    "#distanceKNN_cars = NearestNeighbors(n_neighbors=5).fit(X_select[['Price', 'Range']])\n",
    "#result = distanceKNN_cars.kneighbors([[price_slider,range_slider]], 5, return_distance = False)"
   ]
  },
  {
   "cell_type": "code",
   "execution_count": null,
   "id": "e27dc012",
   "metadata": {},
   "outputs": [],
   "source": [
    "result\n",
    "for i in range(5):\n",
    "        print(df_model[['Full Name', 'Price','Range','Category','Price with Incentive']].iloc[[result[0][i]]])"
   ]
  },
  {
   "cell_type": "code",
   "execution_count": null,
   "id": "1d5ca971",
   "metadata": {},
   "outputs": [],
   "source": [
    "X_select"
   ]
  },
  {
   "cell_type": "code",
   "execution_count": null,
   "id": "66ba14bd",
   "metadata": {},
   "outputs": [],
   "source": [
    "df_model.iloc[60]"
   ]
  },
  {
   "cell_type": "code",
   "execution_count": null,
   "id": "e23c7afa",
   "metadata": {},
   "outputs": [],
   "source": [
    "result"
   ]
  },
  {
   "cell_type": "code",
   "execution_count": null,
   "id": "08ba2d67",
   "metadata": {},
   "outputs": [],
   "source": [
    "dfresult=df_model[['Full Name', 'Price','Range','Category','Price with Incentive']].iloc[result[0]]"
   ]
  },
  {
   "cell_type": "code",
   "execution_count": null,
   "id": "7cbdc11d",
   "metadata": {},
   "outputs": [],
   "source": [
    "dfresult.set_index('Full Name')"
   ]
  },
  {
   "cell_type": "code",
   "execution_count": null,
   "id": "a8346545",
   "metadata": {},
   "outputs": [],
   "source": [
    "df_model[['Full Name', 'Price','Range','Category','Price with Incentive']].iloc[result[0]].set_index('Full Name')"
   ]
  },
  {
   "cell_type": "code",
   "execution_count": null,
   "id": "a5f70681",
   "metadata": {},
   "outputs": [],
   "source": [
    "df_model.style.format({'Price': '{:.0f}', 'Range': '{:.0f}', 'Price with Incentive': '{:.0f}'})"
   ]
  },
  {
   "cell_type": "code",
   "execution_count": null,
   "id": "04ca1f97",
   "metadata": {},
   "outputs": [],
   "source": [
    "# code to check to change background in streamlit\n",
    "import streamlit as st\n",
    "import base64\n",
    "\n",
    "main_bg = \"sample.jpg\"\n",
    "main_bg_ext = \"jpg\"\n",
    "\n",
    "side_bg = \"sample.jpg\"\n",
    "side_bg_ext = \"jpg\"\n",
    "\n",
    "st.markdown(\n",
    "    f\"\"\"\n",
    "    <style>\n",
    "    .reportview-container {{\n",
    "        background: url(data:image/{main_bg_ext};base64,{base64.b64encode(open(main_bg, \"rb\").read()).decode()})\n",
    "    }}\n",
    "   .sidebar .sidebar-content {{\n",
    "        background: url(data:image/{side_bg_ext};base64,{base64.b64encode(open(side_bg, \"rb\").read()).decode()})\n",
    "    }}\n",
    "    </style>\n",
    "    \"\"\",\n",
    "    unsafe_allow_html=True\n",
    ")"
   ]
  },
  {
   "cell_type": "code",
   "execution_count": null,
   "id": "ecd64cf0",
   "metadata": {},
   "outputs": [],
   "source": [
    "df.head()"
   ]
  },
  {
   "cell_type": "code",
   "execution_count": null,
   "id": "e8830981",
   "metadata": {},
   "outputs": [],
   "source": [
    "df.columns"
   ]
  },
  {
   "cell_type": "code",
   "execution_count": null,
   "id": "1972aa30",
   "metadata": {},
   "outputs": [],
   "source": [
    "df_filtered = df[['Full Name', 'Model', 'Brand','Range (km)','Battery Capacity (kW)', 'Useable Battery Capacity','Category','Government Incentive Category for Help','Vehicle Consumption (Wh)','Charging Time 7,4 kW','Charging Time 11 kW','Main Price']].copy()\n",
    "df_filtered.head()"
   ]
  },
  {
   "cell_type": "code",
   "execution_count": null,
   "id": "9f4cf8bd",
   "metadata": {},
   "outputs": [],
   "source": [
    "df['Main Price'].isna().sum()"
   ]
  },
  {
   "cell_type": "code",
   "execution_count": null,
   "id": "a3bd3c57",
   "metadata": {},
   "outputs": [],
   "source": [
    "df_filtered['real_consumption/100Km'] = df_filtered[['Range (km)','Useable Battery Capacity']].apply(lambda item: (item[1]*1000)/item[0]*100, axis = 1)\n",
    "df_filtered.head()"
   ]
  },
  {
   "cell_type": "code",
   "execution_count": null,
   "id": "42f718d4",
   "metadata": {},
   "outputs": [],
   "source": [
    "import matplotlib.pyplot as plt\n",
    "import seaborn as sns"
   ]
  },
  {
   "cell_type": "code",
   "execution_count": null,
   "id": "44116e95",
   "metadata": {},
   "outputs": [],
   "source": [
    "sns.histplot(df['Range (km)'])"
   ]
  },
  {
   "cell_type": "code",
   "execution_count": null,
   "id": "f54260ee",
   "metadata": {},
   "outputs": [],
   "source": [
    "sns.histplot(df['Battery Capacity (kW)'])"
   ]
  },
  {
   "cell_type": "code",
   "execution_count": null,
   "id": "d183a501",
   "metadata": {},
   "outputs": [],
   "source": [
    "sns.histplot(df['Vehicle Consumption (Wh)'])"
   ]
  },
  {
   "cell_type": "code",
   "execution_count": null,
   "id": "dd7ba386",
   "metadata": {},
   "outputs": [],
   "source": [
    "sns.histplot(df['Main Price'])"
   ]
  },
  {
   "cell_type": "code",
   "execution_count": null,
   "id": "8f1154a9",
   "metadata": {},
   "outputs": [],
   "source": []
  }
 ],
 "metadata": {
  "kernelspec": {
   "display_name": "Python 3 (ipykernel)",
   "language": "python",
   "name": "python3"
  },
  "language_info": {
   "codemirror_mode": {
    "name": "ipython",
    "version": 3
   },
   "file_extension": ".py",
   "mimetype": "text/x-python",
   "name": "python",
   "nbconvert_exporter": "python",
   "pygments_lexer": "ipython3",
   "version": "3.8.12"
  }
 },
 "nbformat": 4,
 "nbformat_minor": 5
}
