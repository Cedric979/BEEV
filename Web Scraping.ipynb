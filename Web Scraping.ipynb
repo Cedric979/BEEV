{
 "cells": [
  {
   "cell_type": "markdown",
   "metadata": {},
   "source": [
    "# **Imports and defining variables**"
   ]
  },
  {
   "cell_type": "code",
   "execution_count": 18,
   "metadata": {},
   "outputs": [],
   "source": [
    "import pandas as pd\n",
    "import re\n",
    "import requests\n",
    "import seaborn as sns\n",
    "import matplotlib.pyplot as plt\n",
    "from bs4 import BeautifulSoup\n",
    "from random import randint\n",
    "from time import sleep"
   ]
  },
  {
   "cell_type": "code",
   "execution_count": 2,
   "metadata": {},
   "outputs": [],
   "source": [
    "navigator = 'Microsoft Edge (Scrapping; This is my system)'\n",
    "url_allbrands_homepage = 'https://www.auto-data.net/en/allbrands'\n",
    "url = 'https://www.auto-data.net'"
   ]
  },
  {
   "cell_type": "code",
   "execution_count": 3,
   "metadata": {},
   "outputs": [
    {
     "data": {
      "text/plain": [
       "<Response [200]>"
      ]
     },
     "execution_count": 3,
     "metadata": {},
     "output_type": "execute_result"
    }
   ],
   "source": [
    "html = requests.get(url_allbrands_homepage, headers={'User-Agent': navigator})\n",
    "html"
   ]
  },
  {
   "cell_type": "markdown",
   "metadata": {},
   "source": [
    "# **Scraping**"
   ]
  },
  {
   "cell_type": "markdown",
   "metadata": {},
   "source": [
    "## Creating the soup and cleaning the information to get only text"
   ]
  },
  {
   "cell_type": "code",
   "execution_count": 19,
   "metadata": {},
   "outputs": [],
   "source": [
    "soup = BeautifulSoup(html.text, 'html.parser')"
   ]
  },
  {
   "cell_type": "code",
   "execution_count": 20,
   "metadata": {},
   "outputs": [
    {
     "data": {
      "text/plain": [
       "[<a class=\"marki_blok\" href=\"/en/abarth-brand-200\" title=\"Abarth - Technical Specs, Fuel consumption, Dimensions\"><img alt=\"Abarth - Technical Specs, Fuel consumption, Dimensions\" src=\"/img/logos/Abarth.png\"/><strong>Abarth</strong></a>,\n",
       " <a class=\"marki_blok\" href=\"/en/ac-brand-1\" title=\"AC - Technical Specs, Fuel consumption, Dimensions\"><img alt=\"AC - Technical Specs, Fuel consumption, Dimensions\" src=\"/img/logos/AC.png\"/><strong>AC</strong></a>,\n",
       " <a class=\"marki_blok\" href=\"/en/acura-brand-6\" title=\"Acura - Technical Specs, Fuel consumption, Dimensions\"><img alt=\"Acura - Technical Specs, Fuel consumption, Dimensions\" src=\"/img/logos/Acura.png\"/><strong>Acura</strong></a>,\n",
       " <a class=\"marki_blok\" href=\"/en/aiways-brand-301\" title=\"Aiways - Technical Specs, Fuel consumption, Dimensions\"><img alt=\"Aiways - Technical Specs, Fuel consumption, Dimensions\" src=\"/img/logos/Aiways.png\"/><strong>Aiways</strong></a>,\n",
       " <a class=\"marki_blok\" href=\"/en/aixam-brand-255\" title=\"Aixam - Technical Specs, Fuel consumption, Dimensions\"><img alt=\"Aixam - Technical Specs, Fuel consumption, Dimensions\" src=\"/img/logos/Aixam.png\"/><strong>Aixam</strong></a>]"
      ]
     },
     "execution_count": 20,
     "metadata": {},
     "output_type": "execute_result"
    }
   ],
   "source": [
    "brands = soup.find_all('a', {'class' : 'marki_blok'})\n",
    "brands[0:5]"
   ]
  },
  {
   "cell_type": "code",
   "execution_count": 21,
   "metadata": {},
   "outputs": [
    {
     "data": {
      "text/plain": [
       "['/en/abarth-brand-200',\n",
       " '/en/ac-brand-1',\n",
       " '/en/acura-brand-6',\n",
       " '/en/aiways-brand-301',\n",
       " '/en/aixam-brand-255']"
      ]
     },
     "execution_count": 21,
     "metadata": {},
     "output_type": "execute_result"
    }
   ],
   "source": [
    "#This loop is to get only the part to use in link ie whatever is after 'href='\n",
    "brand_list = re.findall('href=\"(\\S+)\"',str(brands))\n",
    "brand_list[0:5]"
   ]
  },
  {
   "cell_type": "code",
   "execution_count": 22,
   "metadata": {},
   "outputs": [
    {
     "data": {
      "text/plain": [
       "array(['a', 'b', 'c', 'd', 'e', 'f', 'g', 'h', 'i', 'j', 'k', 'l', 'm',\n",
       "       'n', 'o', 'p', 'q', 'r', 's', 't', 'u', 'v', 'w', 'x', 'z'],\n",
       "      dtype=object)"
      ]
     },
     "execution_count": 22,
     "metadata": {},
     "output_type": "execute_result"
    }
   ],
   "source": [
    "#Looping to remove the /en since the url already has it and removing it makes it so it will default to another language\n",
    "brand_list_final = []\n",
    "for i in range(len(brand_list)):\n",
    "    brand_list_final += re.findall('en/(\\S+)', brand_list[i])\n",
    "brand_list_final[0:5]\n",
    "#Starting to create dataframe for the links\n",
    "df = pd.DataFrame(brand_list_final)\n",
    "df['letter'] = df[0].apply(lambda x: x[0])\n",
    "df['letter'].unique()"
   ]
  },
  {
   "cell_type": "code",
   "execution_count": 23,
   "metadata": {},
   "outputs": [],
   "source": [
    "#Creating CSV files for each starting letter of the brand names so we can save it more often\n",
    "dicto = {}\n",
    "for letter in df['letter'].unique():\n",
    "    a = df[df['letter'] == letter].drop(columns = 'letter')\n",
    "    a.to_csv('../BEEV/letter_csvs/' + letter + '.csv')\n",
    "    dicto[letter] = a"
   ]
  },
  {
   "cell_type": "markdown",
   "metadata": {},
   "source": [
    "## Creating the loops for the actual scraping"
   ]
  },
  {
   "cell_type": "code",
   "execution_count": 24,
   "metadata": {},
   "outputs": [],
   "source": [
    "#Looping to create a column with url brand names\n",
    "url = 'https://www.auto-data.net/en/'\n",
    "for csvs in dicto.values():\n",
    "    csvs[0] = csvs[0].apply(lambda x: url + x)"
   ]
  },
  {
   "cell_type": "code",
   "execution_count": 46,
   "metadata": {},
   "outputs": [],
   "source": [
    "#Renaming the column to make it easier to understand\n",
    "for csvs in dicto.values():\n",
    "    csvs.rename(columns={0 : 'brands_url'}, inplace = True)"
   ]
  },
  {
   "cell_type": "code",
   "execution_count": 47,
   "metadata": {},
   "outputs": [],
   "source": [
    "#Dataframe with url for each brand\n",
    "for letter, letter_csvs in dicto.items():\n",
    "    letter_csvs.to_csv('../BEEV/letter_csvs/' + letter + '.csv')"
   ]
  },
  {
   "cell_type": "code",
   "execution_count": 26,
   "metadata": {},
   "outputs": [
    {
     "data": {
      "text/plain": [
       "['abarth-124-spider-model-2152',\n",
       " 'abarth-500-model-2872',\n",
       " 'abarth-595-model-2149',\n",
       " 'abarth-695-model-2150']"
      ]
     },
     "execution_count": 26,
     "metadata": {},
     "output_type": "execute_result"
    }
   ],
   "source": [
    "#Function to get the models inside each brand\n",
    "def model_of_each_brand(brand_url):\n",
    "    models_list = []\n",
    "    html2 = requests.get(brand_url, headers={'User-Agent': navigator})\n",
    "    soup2 = BeautifulSoup(html2.text, 'html.parser')\n",
    "    models = soup2.find_all('a', {'class' : 'modeli'}) \n",
    "    models_list_final = re.findall('en/(\\S+)', str(models))\n",
    "    return [x[:-1] for x in models_list_final]\n",
    "brand_url = 'https://www.auto-data.net/en/abarth-brand-200'\n",
    "model_of_each_brand(brand_url)"
   ]
  },
  {
   "cell_type": "code",
   "execution_count": 27,
   "metadata": {},
   "outputs": [],
   "source": [
    "#Applying the function to get the models for each brand(displayed in lists inside the model_url column)\n",
    "for csvs in dicto.values():\n",
    "    csvs['models'] = csvs[0].apply(lambda x: model_of_each_brand(x))\n"
   ]
  },
  {
   "cell_type": "code",
   "execution_count": 28,
   "metadata": {},
   "outputs": [],
   "source": [
    "#Saving to keep a column with models names\n",
    "for letter, letter_csvs in dicto.items():\n",
    "    letter_csvs.to_csv('../BEEV/letter_csvs/' + letter + '.csv')"
   ]
  },
  {
   "cell_type": "code",
   "execution_count": 65,
   "metadata": {},
   "outputs": [],
   "source": [
    "#Loop to explode the models name and get 1 name per each line\n",
    "for letter, letter_csvs in dicto.items():\n",
    "    dicto[letter] = dicto[letter].explode('models')"
   ]
  },
  {
   "cell_type": "code",
   "execution_count": 69,
   "metadata": {},
   "outputs": [
    {
     "data": {
      "text/html": [
       "<div>\n",
       "<style scoped>\n",
       "    .dataframe tbody tr th:only-of-type {\n",
       "        vertical-align: middle;\n",
       "    }\n",
       "\n",
       "    .dataframe tbody tr th {\n",
       "        vertical-align: top;\n",
       "    }\n",
       "\n",
       "    .dataframe thead th {\n",
       "        text-align: right;\n",
       "    }\n",
       "</style>\n",
       "<table border=\"1\" class=\"dataframe\">\n",
       "  <thead>\n",
       "    <tr style=\"text-align: right;\">\n",
       "      <th></th>\n",
       "      <th>brands_url</th>\n",
       "      <th>models</th>\n",
       "    </tr>\n",
       "  </thead>\n",
       "  <tbody>\n",
       "    <tr>\n",
       "      <th>0</th>\n",
       "      <td>https://www.auto-data.net/en/abarth-brand-200</td>\n",
       "      <td>abarth-124-spider-model-2152</td>\n",
       "    </tr>\n",
       "    <tr>\n",
       "      <th>0</th>\n",
       "      <td>https://www.auto-data.net/en/abarth-brand-200</td>\n",
       "      <td>abarth-500-model-2872</td>\n",
       "    </tr>\n",
       "    <tr>\n",
       "      <th>0</th>\n",
       "      <td>https://www.auto-data.net/en/abarth-brand-200</td>\n",
       "      <td>abarth-595-model-2149</td>\n",
       "    </tr>\n",
       "    <tr>\n",
       "      <th>0</th>\n",
       "      <td>https://www.auto-data.net/en/abarth-brand-200</td>\n",
       "      <td>abarth-695-model-2150</td>\n",
       "    </tr>\n",
       "    <tr>\n",
       "      <th>1</th>\n",
       "      <td>https://www.auto-data.net/en/ac-brand-1</td>\n",
       "      <td>ac-ace-model-1</td>\n",
       "    </tr>\n",
       "  </tbody>\n",
       "</table>\n",
       "</div>"
      ],
      "text/plain": [
       "                                      brands_url                        models\n",
       "0  https://www.auto-data.net/en/abarth-brand-200  abarth-124-spider-model-2152\n",
       "0  https://www.auto-data.net/en/abarth-brand-200         abarth-500-model-2872\n",
       "0  https://www.auto-data.net/en/abarth-brand-200         abarth-595-model-2149\n",
       "0  https://www.auto-data.net/en/abarth-brand-200         abarth-695-model-2150\n",
       "1        https://www.auto-data.net/en/ac-brand-1                ac-ace-model-1"
      ]
     },
     "execution_count": 69,
     "metadata": {},
     "output_type": "execute_result"
    }
   ],
   "source": [
    "dicto['a'].head()         #Just checking"
   ]
  },
  {
   "cell_type": "code",
   "execution_count": 70,
   "metadata": {},
   "outputs": [],
   "source": [
    "#Loop to create a column with models_url\n",
    "for csvs in dicto.values():\n",
    "    csvs['models_url'] = csvs['models'].apply(lambda x: url + x)"
   ]
  },
  {
   "cell_type": "code",
   "execution_count": 71,
   "metadata": {},
   "outputs": [],
   "source": [
    "#Saving the models_url column\n",
    "for letter, letter_csvs in dicto.items():\n",
    "    letter_csvs.to_csv('../BEEV/letter_csvs/' + letter + '.csv')"
   ]
  },
  {
   "cell_type": "code",
   "execution_count": 76,
   "metadata": {},
   "outputs": [
    {
     "data": {
      "text/plain": [
       "['abarth-124-gt-generation-6774',\n",
       " 'abarth-124-gt-generation-6774',\n",
       " 'abarth-124-spider-generation-5004',\n",
       " 'abarth-124-spider-generation-5004']"
      ]
     },
     "execution_count": 76,
     "metadata": {},
     "output_type": "execute_result"
    }
   ],
   "source": [
    "#Creating function to scrap the generation names for each models\n",
    "def generation_of_each_model(model_url):\n",
    "    gens_list = []\n",
    "    html3 = requests.get(model_url, headers={'User-Agent': navigator})\n",
    "    soup3 = BeautifulSoup(html3.text, 'html.parser')\n",
    "    gens = soup3.find_all('a', {'class' : 'position'}) \n",
    "    gens_list_final = re.findall('en/(\\S+)', str(gens))\n",
    "    return [x[:-1] for x in gens_list_final]\n",
    "model_url = 'https://www.auto-data.net/en/abarth-124-spider-model-2152'\n",
    "generation_of_each_model(model_url)"
   ]
  },
  {
   "cell_type": "code",
   "execution_count": 78,
   "metadata": {},
   "outputs": [],
   "source": [
    "#Applying function to get the generation names for each models\n",
    "for csvs in dicto.values():\n",
    "    csvs['generations'] = csvs['models_url'].apply(lambda x: generation_of_each_model(x))"
   ]
  },
  {
   "cell_type": "code",
   "execution_count": 79,
   "metadata": {},
   "outputs": [],
   "source": [
    "#Saving the generations columns\n",
    "for letter, letter_csvs in dicto.items():\n",
    "    letter_csvs.to_csv('../BEEV/letter_csvs/' + letter + '.csv')"
   ]
  },
  {
   "cell_type": "code",
   "execution_count": 80,
   "metadata": {},
   "outputs": [],
   "source": [
    "#Loop to explode the generations names\n",
    "for letter, letter_csvs in dicto.items():\n",
    "    dicto[letter] = dicto[letter].explode('generations')"
   ]
  },
  {
   "cell_type": "code",
   "execution_count": 81,
   "metadata": {},
   "outputs": [],
   "source": [
    "#Saving the exploded generations names\n",
    "for letter, letter_csvs in dicto.items():\n",
    "    letter_csvs.to_csv('../BEEV/letter_csvs/' + letter + '.csv')"
   ]
  },
  {
   "cell_type": "code",
   "execution_count": 83,
   "metadata": {},
   "outputs": [],
   "source": [
    "#Dropping duplicates that were created\n",
    "for letter, letter_csvs in dicto.items():\n",
    "    dicto[letter].drop_duplicates(inplace = True)\n",
    "    letter_csvs.to_csv('../BEEV/letter_csvs/' + letter + '.csv')"
   ]
  },
  {
   "cell_type": "code",
   "execution_count": 84,
   "metadata": {},
   "outputs": [],
   "source": [
    "#Looping to create a column for the generations url\n",
    "for csvs in dicto.values():\n",
    "    csvs['generations_url'] = csvs['generations'].apply(lambda x: url + x)"
   ]
  },
  {
   "cell_type": "code",
   "execution_count": 85,
   "metadata": {},
   "outputs": [],
   "source": [
    "#Saving the column with the generations urls\n",
    "for letter, letter_csvs in dicto.items():\n",
    "    letter_csvs.to_csv('../BEEV/letter_csvs/' + letter + '.csv')"
   ]
  },
  {
   "cell_type": "code",
   "execution_count": null,
   "metadata": {},
   "outputs": [],
   "source": [
    "#Creating a function to scrap for the modifications of each generation\n",
    "def modifications_of_each_generation(gen_url):\n",
    "    mods_list = []\n",
    "    html4 = requests.get(gen_url, headers={'User-Agent': navigator})\n",
    "    soup4 = BeautifulSoup(html4.text, 'html.parser')\n",
    "    mods = soup4.find_all('table', {'class' : 'carlist'}) \n",
    "    gens_list_final = re.findall('en/(\\S+)', str(mods))\n",
    "    return [x[:-1] for x in gens_list_final]\n",
    "gen_url = 'https://www.auto-data.net/en/alfa-romeo-mito-generation-363'\n",
    "modifications_of_each_generation(gen_url)          "
   ]
  },
  {
   "cell_type": "code",
   "execution_count": 91,
   "metadata": {},
   "outputs": [],
   "source": [
    "#Applying function to get the modifications names for each generation\n",
    "for csvs in dicto.values():\n",
    "    csvs['modifications'] = csvs['generations_url'].apply(lambda x: modifications_of_each_generation(x))"
   ]
  },
  {
   "cell_type": "code",
   "execution_count": 94,
   "metadata": {},
   "outputs": [],
   "source": [
    "#Saving the mods column\n",
    "for letter, letter_csvs in dicto.items():\n",
    "    letter_csvs.to_csv('../BEEV/letter_csvs/' + letter + '.csv')"
   ]
  },
  {
   "cell_type": "code",
   "execution_count": 96,
   "metadata": {},
   "outputs": [],
   "source": [
    "#Exploding the mods column to get one per row\n",
    "for letter, letter_csvs in dicto.items():\n",
    "    dicto[letter] = dicto[letter].explode('modifications')"
   ]
  },
  {
   "cell_type": "code",
   "execution_count": 97,
   "metadata": {},
   "outputs": [],
   "source": [
    "#Saving the exploded generations names\n",
    "for letter, letter_csvs in dicto.items():\n",
    "    letter_csvs.to_csv('../BEEV/letter_csvs/' + letter + '.csv')"
   ]
  },
  {
   "cell_type": "code",
   "execution_count": 98,
   "metadata": {},
   "outputs": [],
   "source": [
    "#Dropping duplicates that were created\n",
    "for letter, letter_csvs in dicto.items():\n",
    "    dicto[letter].drop_duplicates(inplace = True)\n",
    "    letter_csvs.to_csv('../BEEV/letter_csvs/' + letter + '.csv')"
   ]
  },
  {
   "cell_type": "code",
   "execution_count": 102,
   "metadata": {},
   "outputs": [],
   "source": [
    "#Loop to create a column for the mods url\n",
    "for csvs in dicto.values():\n",
    "    csvs['modifications_url'] = csvs['modifications'].apply(lambda x: url + str(x))"
   ]
  },
  {
   "cell_type": "code",
   "execution_count": 103,
   "metadata": {},
   "outputs": [],
   "source": [
    "#Saving the column for the mods urls\n",
    "for letter, letter_csvs in dicto.items():\n",
    "    letter_csvs.to_csv('../BEEV/letter_csvs/' + letter + '.csv')"
   ]
  },
  {
   "cell_type": "code",
   "execution_count": null,
   "metadata": {},
   "outputs": [],
   "source": [
    "#This is the final loop to get the details for the cars\n",
    "specs = soup4.find_all('table', {'class' : 'cardetailsout car2'})"
   ]
  },
  {
   "cell_type": "code",
   "execution_count": null,
   "metadata": {},
   "outputs": [],
   "source": [
    "#Need to install this library to work\n",
    "!pip install html5lib"
   ]
  },
  {
   "cell_type": "markdown",
   "metadata": {},
   "source": [
    "## Final dataframe"
   ]
  },
  {
   "cell_type": "code",
   "execution_count": 107,
   "metadata": {},
   "outputs": [
    {
     "data": {
      "text/html": [
       "<div>\n",
       "<style scoped>\n",
       "    .dataframe tbody tr th:only-of-type {\n",
       "        vertical-align: middle;\n",
       "    }\n",
       "\n",
       "    .dataframe tbody tr th {\n",
       "        vertical-align: top;\n",
       "    }\n",
       "\n",
       "    .dataframe thead th {\n",
       "        text-align: right;\n",
       "    }\n",
       "</style>\n",
       "<table border=\"1\" class=\"dataframe\">\n",
       "  <thead>\n",
       "    <tr style=\"text-align: right;\">\n",
       "      <th></th>\n",
       "      <th>General information</th>\n",
       "      <th>General information.1</th>\n",
       "    </tr>\n",
       "  </thead>\n",
       "  <tbody>\n",
       "    <tr>\n",
       "      <th>0</th>\n",
       "      <td>Brand</td>\n",
       "      <td>Abarth</td>\n",
       "    </tr>\n",
       "    <tr>\n",
       "      <th>1</th>\n",
       "      <td>Model</td>\n",
       "      <td>124 Spider</td>\n",
       "    </tr>\n",
       "    <tr>\n",
       "      <th>2</th>\n",
       "      <td>Generation</td>\n",
       "      <td>124 GT</td>\n",
       "    </tr>\n",
       "    <tr>\n",
       "      <th>3</th>\n",
       "      <td>Modification (Engine)</td>\n",
       "      <td>1.4 MultiAir (170 Hp) Automatic</td>\n",
       "    </tr>\n",
       "    <tr>\n",
       "      <th>4</th>\n",
       "      <td>Start of production</td>\n",
       "      <td>2018 year</td>\n",
       "    </tr>\n",
       "    <tr>\n",
       "      <th>...</th>\n",
       "      <td>...</td>\n",
       "      <td>...</td>\n",
       "    </tr>\n",
       "    <tr>\n",
       "      <th>57</th>\n",
       "      <td>Steering type</td>\n",
       "      <td>Steering rack and pinion</td>\n",
       "    </tr>\n",
       "    <tr>\n",
       "      <th>58</th>\n",
       "      <td>Power steering</td>\n",
       "      <td>Electric Steering</td>\n",
       "    </tr>\n",
       "    <tr>\n",
       "      <th>59</th>\n",
       "      <td>Tires size</td>\n",
       "      <td>205/45 R17 W84</td>\n",
       "    </tr>\n",
       "    <tr>\n",
       "      <th>60</th>\n",
       "      <td>Wheel rims size</td>\n",
       "      <td>17</td>\n",
       "    </tr>\n",
       "    <tr>\n",
       "      <th>61</th>\n",
       "      <td>(adsbygoogle = window.adsbygoogle || []).push(...</td>\n",
       "      <td>(adsbygoogle = window.adsbygoogle || []).push(...</td>\n",
       "    </tr>\n",
       "  </tbody>\n",
       "</table>\n",
       "<p>62 rows × 2 columns</p>\n",
       "</div>"
      ],
      "text/plain": [
       "                                  General information  \\\n",
       "0                                               Brand   \n",
       "1                                               Model   \n",
       "2                                          Generation   \n",
       "3                               Modification (Engine)   \n",
       "4                                 Start of production   \n",
       "..                                                ...   \n",
       "57                                      Steering type   \n",
       "58                                     Power steering   \n",
       "59                                         Tires size   \n",
       "60                                    Wheel rims size   \n",
       "61  (adsbygoogle = window.adsbygoogle || []).push(...   \n",
       "\n",
       "                                General information.1  \n",
       "0                                              Abarth  \n",
       "1                                          124 Spider  \n",
       "2                                              124 GT  \n",
       "3                     1.4 MultiAir (170 Hp) Automatic  \n",
       "4                                           2018 year  \n",
       "..                                                ...  \n",
       "57                           Steering rack and pinion  \n",
       "58                                  Electric Steering  \n",
       "59                                     205/45 R17 W84  \n",
       "60                                                 17  \n",
       "61  (adsbygoogle = window.adsbygoogle || []).push(...  \n",
       "\n",
       "[62 rows x 2 columns]"
      ]
     },
     "execution_count": 107,
     "metadata": {},
     "output_type": "execute_result"
    }
   ],
   "source": [
    "#Creating the final function \n",
    "def specifications_of_each_car(mods_url):\n",
    "    specs = pd.read_html(mods_url)[1]\n",
    "    return specs\n",
    "\n",
    "specifications_of_each_car('https://www.auto-data.net/en/abarth-124-gt-1.4-multiair-170hp-automatic-35172')"
   ]
  },
  {
   "cell_type": "code",
   "execution_count": null,
   "metadata": {},
   "outputs": [],
   "source": []
  },
  {
   "cell_type": "code",
   "execution_count": 96,
   "metadata": {},
   "outputs": [
    {
     "data": {
      "text/html": [
       "<div>\n",
       "<style scoped>\n",
       "    .dataframe tbody tr th:only-of-type {\n",
       "        vertical-align: middle;\n",
       "    }\n",
       "\n",
       "    .dataframe tbody tr th {\n",
       "        vertical-align: top;\n",
       "    }\n",
       "\n",
       "    .dataframe thead th {\n",
       "        text-align: right;\n",
       "    }\n",
       "</style>\n",
       "<table border=\"1\" class=\"dataframe\">\n",
       "  <thead>\n",
       "    <tr style=\"text-align: right;\">\n",
       "      <th>General information</th>\n",
       "      <th>Brand</th>\n",
       "      <th>Model</th>\n",
       "      <th>Generation</th>\n",
       "      <th>Modification (Engine)</th>\n",
       "      <th>Body type</th>\n",
       "      <th>CO2 emissions</th>\n",
       "      <th>Fuel Type</th>\n",
       "      <th>Power</th>\n",
       "      <th>Fuel tank(l)</th>\n",
       "      <th>Fuel consumption(l/100km)</th>\n",
       "      <th>Power(Hp)</th>\n",
       "      <th>Range (Km)</th>\n",
       "    </tr>\n",
       "  </thead>\n",
       "  <tbody>\n",
       "    <tr>\n",
       "      <th>General information.1</th>\n",
       "      <td>Alfa Romeo</td>\n",
       "      <td>MiTo</td>\n",
       "      <td>MiTo</td>\n",
       "      <td>1.6 JTDm (120 Hp)</td>\n",
       "      <td>Hatchback</td>\n",
       "      <td>122 g/km</td>\n",
       "      <td>Diesel</td>\n",
       "      <td>120 Hp @ 3750 rpm.</td>\n",
       "      <td>45</td>\n",
       "      <td>4.8</td>\n",
       "      <td>120</td>\n",
       "      <td>937.5</td>\n",
       "    </tr>\n",
       "  </tbody>\n",
       "</table>\n",
       "</div>"
      ],
      "text/plain": [
       "General information         Brand Model Generation Modification (Engine)  \\\n",
       "General information.1  Alfa Romeo  MiTo       MiTo     1.6 JTDm (120 Hp)   \n",
       "\n",
       "General information    Body type CO2 emissions Fuel Type               Power  \\\n",
       "General information.1  Hatchback      122 g/km    Diesel  120 Hp @ 3750 rpm.   \n",
       "\n",
       "General information   Fuel tank(l) Fuel consumption(l/100km) Power(Hp)  \\\n",
       "General information.1           45                       4.8       120   \n",
       "\n",
       "General information    Range (Km)  \n",
       "General information.1       937.5  "
      ]
     },
     "execution_count": 96,
     "metadata": {},
     "output_type": "execute_result"
    }
   ],
   "source": [
    "#This is the dataframe with all the information we want\n",
    "page4 = 'https://www.auto-data.net/en/alfa-romeo-mito-1.6-jtdm-120hp-16680'\n",
    "what = pd.read_html(page4)[1]  \n",
    "what\n",
    "\n",
    "what2 = what[(what['General information'] == 'Brand')\n",
    "|(what['General information'] == 'Model')\n",
    "|(what['General information'] == 'Generation')\n",
    "|(what['General information'] == 'Modification (Engine)')\n",
    "|(what['General information'] == 'CO2 emissions') \n",
    "|(what['General information'] == 'Body type')\n",
    "|(what['General information'] == 'Fuel tank capacity')\n",
    "|(what['General information'] == 'Fuel consumption (economy) - combined')\n",
    "|(what['General information'] == 'Fuel Type')\n",
    "|(what['General information'] == 'Power')]\n",
    "what2.index = what2['General information']\n",
    "what3 = what2.T\n",
    "what3.drop(axis = 0, labels = 'General information', inplace = True)\n",
    "what3['Fuel tank(l)'] = what3['Fuel tank capacity'].apply(lambda x : x.split(' ')[0])\n",
    "what3['Fuel consumption(l/100km)'] = what3['Fuel consumption (economy) - combined'].apply(lambda x : x.split(' ')[0])\n",
    "what3['Power(Hp)'] = what3['Power'].apply(lambda x: x.split(' ')[0])\n",
    "what3['Range (Km)'] = what3[['Fuel tank(l)','Fuel consumption(l/100km)']].apply(lambda item: int(item[0])/float(item[1])*100,axis=1)\n",
    "\n",
    "what4 = what3\n",
    "what4.drop(columns = ['Fuel consumption (economy) - combined', 'Fuel tank capacity'], inplace = True)\n",
    "what4                               #We need to remove this General information column still"
   ]
  }
 ],
 "metadata": {
  "interpreter": {
   "hash": "9551cd33bf16c35239638d01283791bf06f66b16b64b8c1df3bd1173c0151abf"
  },
  "kernelspec": {
   "display_name": "Python 3 (ipykernel)",
   "language": "python",
   "name": "python3"
  },
  "language_info": {
   "codemirror_mode": {
    "name": "ipython",
    "version": 3
   },
   "file_extension": ".py",
   "mimetype": "text/x-python",
   "name": "python",
   "nbconvert_exporter": "python",
   "pygments_lexer": "ipython3",
   "version": "3.8.12"
  }
 },
 "nbformat": 4,
 "nbformat_minor": 2
}
