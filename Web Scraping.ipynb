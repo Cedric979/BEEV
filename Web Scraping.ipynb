{
 "cells": [
  {
   "cell_type": "markdown",
   "metadata": {},
   "source": [
    "# **Imports and defining variables**"
   ]
  },
  {
   "cell_type": "code",
   "execution_count": 2,
   "metadata": {},
   "outputs": [],
   "source": [
    "import pandas as pd\n",
    "import re\n",
    "import requests\n",
    "import seaborn as sns\n",
    "import matplotlib.pyplot as plt\n",
    "from bs4 import BeautifulSoup"
   ]
  },
  {
   "cell_type": "code",
   "execution_count": 3,
   "metadata": {},
   "outputs": [],
   "source": [
    "navigator = 'Microsoft Edge (Scrapping; This is my system)'\n",
    "url = 'https://www.auto-data.net/en'"
   ]
  },
  {
   "cell_type": "code",
   "execution_count": 4,
   "metadata": {},
   "outputs": [
    {
     "data": {
      "text/plain": [
       "<Response [200]>"
      ]
     },
     "execution_count": 4,
     "metadata": {},
     "output_type": "execute_result"
    }
   ],
   "source": [
    "html = requests.get(url, headers={'User-Agent': navigator})\n",
    "html"
   ]
  },
  {
   "cell_type": "markdown",
   "metadata": {},
   "source": [
    "# **Scraping**"
   ]
  },
  {
   "cell_type": "markdown",
   "metadata": {},
   "source": [
    "## Creating the soup and cleaning the information to get only text"
   ]
  },
  {
   "cell_type": "code",
   "execution_count": 5,
   "metadata": {},
   "outputs": [],
   "source": [
    "soup = BeautifulSoup(html.text, 'html.parser')"
   ]
  },
  {
   "cell_type": "code",
   "execution_count": 6,
   "metadata": {},
   "outputs": [
    {
     "data": {
      "text/plain": [
       "<a class=\"marki_blok\" href=\"/en/alfa-romeo-brand-11\" title=\"Alfa Romeo - Technical Specs, Fuel consumption, Dimensions\"><img alt=\"Alfa Romeo - Technical Specs, Fuel consumption, Dimensions\" src=\"/img/logos/Alfa_Romeo.png\"/><strong>Alfa Romeo</strong></a>"
      ]
     },
     "execution_count": 6,
     "metadata": {},
     "output_type": "execute_result"
    }
   ],
   "source": [
    "brands = soup.find_all('a', {'class' : 'marki_blok'})\n",
    "brands[1]"
   ]
  },
  {
   "cell_type": "code",
   "execution_count": 17,
   "metadata": {},
   "outputs": [
    {
     "data": {
      "text/plain": [
       "['/en/acura-brand-6',\n",
       " '/en/alfa-romeo-brand-11',\n",
       " '/en/alpina-brand-16',\n",
       " '/en/aston-martin-brand-36',\n",
       " '/en/audi-brand-41']"
      ]
     },
     "execution_count": 17,
     "metadata": {},
     "output_type": "execute_result"
    }
   ],
   "source": [
    "#This loop is to get only the part to use in link ie whatever is after 'href='\n",
    "brand_list = re.findall('href=\"(\\S+)\"',str(brands))\n",
    "brand_list[0:5]"
   ]
  },
  {
   "cell_type": "code",
   "execution_count": 16,
   "metadata": {},
   "outputs": [
    {
     "data": {
      "text/plain": [
       "['acura-brand-6',\n",
       " 'alfa-romeo-brand-11',\n",
       " 'alpina-brand-16',\n",
       " 'aston-martin-brand-36',\n",
       " 'audi-brand-41']"
      ]
     },
     "execution_count": 16,
     "metadata": {},
     "output_type": "execute_result"
    }
   ],
   "source": [
    "#Looping to remove the /en since the url already has it and removing it makes it so it will default to another language\n",
    "brand_list_final = []\n",
    "for i in range(len(brand_list)):\n",
    "    brand_list_final += re.findall('en/(\\S+)', brand_list[i])\n",
    "brand_list_final[0:5]"
   ]
  },
  {
   "cell_type": "markdown",
   "metadata": {},
   "source": [
    "## Creating the loops for the actual scraping"
   ]
  },
  {
   "cell_type": "code",
   "execution_count": 48,
   "metadata": {},
   "outputs": [
    {
     "data": {
      "text/plain": [
       "['https://www.auto-data.net/en/acura-brand-6',\n",
       " 'https://www.auto-data.net/en/alfa-romeo-brand-11',\n",
       " 'https://www.auto-data.net/en/alpina-brand-16',\n",
       " 'https://www.auto-data.net/en/aston-martin-brand-36',\n",
       " 'https://www.auto-data.net/en/audi-brand-41']"
      ]
     },
     "execution_count": 48,
     "metadata": {},
     "output_type": "execute_result"
    }
   ],
   "source": [
    "#Looping to get the actual url for each brand\n",
    "urls_list = []\n",
    "for urls in brand_list:\n",
    "    url = 'https://www.auto-data.net'\n",
    "    urls_list += [url + urls]\n",
    "    \n",
    "\n",
    "urls_list[0:5]\n",
    "# \" \".join(urls_list)\n",
    "# urls_list"
   ]
  },
  {
   "cell_type": "code",
   "execution_count": 35,
   "metadata": {},
   "outputs": [
    {
     "data": {
      "text/plain": [
       "'https://www.auto-data.net'"
      ]
     },
     "execution_count": 35,
     "metadata": {},
     "output_type": "execute_result"
    }
   ],
   "source": [
    "url"
   ]
  },
  {
   "cell_type": "code",
   "execution_count": null,
   "metadata": {},
   "outputs": [],
   "source": [
    "page2 = 'https://www.auto-data.net/fr/acura-cl-model-138'         #Inside each brand, find the models"
   ]
  },
  {
   "cell_type": "code",
   "execution_count": null,
   "metadata": {},
   "outputs": [],
   "source": [
    "page3 = 'https://www.auto-data.net/fr/acura-cl-ii-generation-7196'    #Inside each model, find the correct generation/series"
   ]
  },
  {
   "cell_type": "code",
   "execution_count": 47,
   "metadata": {},
   "outputs": [
    {
     "data": {
      "text/plain": [
       "[<table class=\"cardetailsout car2\"><caption><h2 class=\"car\">Alfa Romeo MiTo 1.6 JTDm (120 Hp) 2009, 2010, 2011, 2012, 2013 Specs</h2></caption><tr class=\"no\"><th class=\"no\" colspan=\"2\"><strong class=\"car\" id=\"_general\">General information</strong></th></tr>\n",
       " <tr><th>Brand</th><td><a href=\"/en/alfa-romeo-brand-11\">Alfa Romeo</a></td></tr>\n",
       " <tr><th>Model </th><td><a href=\"/en/alfa-romeo-mito-model-178\">MiTo</a></td></tr>\n",
       " <tr><th>Generation  </th><td><a href=\"/en/alfa-romeo-mito-generation-363\">MiTo</a></td></tr>\n",
       " <tr><th>Modification (Engine) </th><td>1.6 JTDm (120 Hp) </td></tr>\n",
       " <tr><th>Start of production </th><td>2009 year </td></tr>\n",
       " <tr><th>End of production </th><td>2013 year </td></tr>\n",
       " <tr><th>Powertrain Architecture </th><td>Internal Combustion engine </td></tr>\n",
       " <tr><th>Body type</th><td>Hatchback </td></tr>\n",
       " <tr><th>Seats </th><td>5 </td></tr>\n",
       " <tr><th>Doors </th><td>2/3 </td></tr>\n",
       " <tr class=\"no\"><th class=\"no\" colspan=\"2\"><strong class=\"car\" id=\"_performance\">Performance specs</strong></th></tr><tr>\n",
       " <th>Fuel consumption (economy) - urban </th>\n",
       " <td>5.9 l/100 km\n",
       " \t\t\t\t\t\t\t<span class=\"val2\">39.87 US mpg<br>47.88 UK mpg<br>16.95 km/l</br></br></span></td>\n",
       " </tr>\n",
       " <tr>\n",
       " <th>Fuel consumption (economy) - extra urban</th>\n",
       " <td>4.1 l/100 km\n",
       " \t\t\t\t\t\t\t<span class=\"val2\">57.37 US mpg<br>68.9 UK mpg<br>24.39 km/l</br></br></span></td></tr>\n",
       " <tr>\n",
       " <th>Fuel consumption (economy) - combined</th>\n",
       " <td>4.8 l/100 km\n",
       " \t\t\t\t\t\t\t<span class=\"val2\">49 US mpg<br>58.85 UK mpg<br>20.83 km/l</br></br></span></td></tr>\n",
       " <tr><th>CO<sub>2</sub> emissions</th><td>122 g/km </td></tr>\n",
       " <tr><th>Fuel Type </th><td>Diesel </td></tr>\n",
       " <tr><th>Acceleration 0 - 100 km/h</th><td>9.9 sec </td></tr>\n",
       " <tr><th>Acceleration 0 - 62 mph</th><td>9.9 sec </td></tr>\n",
       " <tr><th>Acceleration 0 - 60 mph (Calculated by Auto-Data.net) </th><td>9.4 sec </td></tr>\n",
       " <tr>\n",
       " <th>Maximum speed </th>\n",
       " <td>198 km/h\n",
       " \t\t\t\t\t\t<span class=\"val2\">123.03 mph</span></td></tr>\n",
       " <tr><th>Weight-to-power ratio </th><td>10 kg/Hp, 99.6 Hp/tonne </td></tr>\n",
       " <tr><th>Weight-to-torque ratio </th><td>3.8 kg/Nm, 265.6 Nm/tonne </td></tr>\n",
       " <tr class=\"no\"><th class=\"no\" colspan=\"2\"><strong class=\"car\" id=\"_engine\">Engine specs</strong></th></tr><tr><th>Power </th><td>120 Hp @ 3750 rpm. </td></tr>\n",
       " <tr><th>Power per litre </th><td>75.1 Hp/l </td></tr>\n",
       " <tr>\n",
       " <th>Torque </th>\n",
       " <td>320 Nm @ 1750 rpm.\n",
       " \t\t\t\t\t\t<span class=\"val2\">236.02 lb.-ft. @ 1750 rpm.</span></td></tr>\n",
       " <tr><th>Engine location </th><td>Front, Transverse </td></tr>\n",
       " <tr><th>Engine Model/Code </th><td>955A3000 </td></tr>\n",
       " <tr>\n",
       " <th>Engine displacement </th>\n",
       " <td>1598 cm<sup>3</sup>\n",
       " <span class=\"val2\">97.52 cu. in.</span></td></tr>\n",
       " <tr><th>Number of cylinders </th><td>4 </td></tr>\n",
       " <tr><th>Position of cylinders </th><td>Inline </td></tr>\n",
       " <tr><th>Number of valves per cylinder </th><td>4 </td></tr>\n",
       " <tr><th>Fuel System </th><td>Diesel Commonrail </td></tr>\n",
       " <tr><th>Engine aspiration </th><td>Turbocharger, Intercooler </td></tr>\n",
       " <tr>\n",
       " <th>Engine oil capacity </th>\n",
       " <td>4.6 l\n",
       " \t\t\t\t\t<span class=\"val2\">4.86 US qt | 4.05 UK qt</span></td></tr>\n",
       " <tr>\n",
       " <th>Oil viscosity </th><td><img alt=\"Log in to see.\" class=\"datalock\" src=\"/img/lock.png\"/><a href=\"/en/login\" rel=\"nofollow\">Log in to see.</a></td></tr>\n",
       " <tr>\n",
       " <th>Coolant </th>\n",
       " <td>5.7 l\n",
       " \t\t\t\t\t<span class=\"val2\">6.02 US qt | 5.02 UK qt</span></td></tr>\n",
       " <tr class=\"no\"><th class=\"no2\" colspan=\"2\"><div class=\"adin top\">\n",
       " <!-- auto-data desktop incar -->\n",
       " <ins class=\"adsbygoogle\" data-ad-client=\"ca-pub-9633304932986032\" data-ad-slot=\"4271739190\" style=\"display:inline-block;width:634px;height:280px\"></ins>\n",
       " <script>\n",
       "      (adsbygoogle = window.adsbygoogle || []).push({});\n",
       " </script>\n",
       " </div></th></tr><tr class=\"no\"><th class=\"no\" colspan=\"2\"><strong class=\"car\" id=\"_volume\">Space, Volume and weights</strong></th></tr><tr>\n",
       " <th>Kerb Weight </th>\n",
       " <td>1205 kg\n",
       " \t\t\t\t\t<span class=\"val2\">2656.57 lbs.</span></td></tr>\n",
       " <tr>\n",
       " <th>Trunk (boot) space - minimum </th>\n",
       " <td>270 l\n",
       " \t\t\t\t\t<span class=\"val2\">9.53 cu. ft.</span></td></tr>\n",
       " <tr>\n",
       " <th>Fuel tank capacity </th>\n",
       " <td>45 l\n",
       " \t\t\t\t\t\t<span class=\"val2\">11.89 US gal | 9.9 UK gal</span></td></tr>\n",
       " <tr class=\"no\"><th class=\"no\" colspan=\"2\"><strong class=\"car\" id=\"_dimensions\">Dimensions</strong></th></tr><tr>\n",
       " <th>Length </th>\n",
       " <td>4060 mm\n",
       " \t\t\t\t\t<span class=\"val2\">159.84 in.</span></td></tr>\n",
       " <tr>\n",
       " <th>Width </th>\n",
       " <td>1720 mm\n",
       " \t\t\t\t\t<span class=\"val2\">67.72 in.</span></td></tr>\n",
       " <tr>\n",
       " <th>Height </th>\n",
       " <td>1440 mm\n",
       " \t\t\t\t\t<span class=\"val2\">56.69 in.</span></td></tr>\n",
       " <tr>\n",
       " <th>Wheelbase </th>\n",
       " <td>2511 mm\n",
       " \t\t\t\t\t<span class=\"val2\">98.86 in.</span></td></tr>\n",
       " <tr>\n",
       " <th>Minimum turning circle (turning diameter) </th>\n",
       " <td>11.2 m\n",
       " \t\t\t\t\t<span class=\"val2\">36.75 ft.</span></td></tr>\n",
       " <tr class=\"no\"><th class=\"no\" colspan=\"2\"><strong class=\"car\" id=\"_drivetrain\">Drivetrain, brakes and suspension specs</strong></th></tr><tr><th>Drivetrain Architecture </th><td>The Internal combustion engine (ICE) drives the front wheels of the vehicle. </td></tr>\n",
       " <tr><th>Drive wheel </th><td>Front wheel drive </td></tr>\n",
       " <tr><th>Number of Gears (manual transmission) </th><td>6 </td></tr>\n",
       " <tr><th>Front suspension </th><td>McPherson </td></tr>\n",
       " <tr><th>Front brakes</th><td>Ventilated discs </td></tr>\n",
       " <tr><th>Rear brakes</th><td>Disc </td></tr>\n",
       " <tr><th>Assisting systems</th><td>ABS (Anti-lock braking system)<br> </br></td></tr>\n",
       " <tr><th>Steering type </th><td>Steering rack and pinion </td></tr>\n",
       " <tr><th>Power steering </th><td>Electric Steering </td></tr>\n",
       " <tr> <th>Tires size</th> <td>195/55 R16 </td></tr>\n",
       " <tr><th>Wheel rims size</th><td>16 </td></tr>\n",
       " <tr class=\"no\"><th class=\"no2\" colspan=\"2\"><div class=\"adin top bottom\">\n",
       " <!-- auto-data desktop incar -->\n",
       " <ins class=\"adsbygoogle\" data-ad-client=\"ca-pub-9633304932986032\" data-ad-slot=\"4271739190\" style=\"display:inline-block;width:634px;height:280px\"></ins>\n",
       " <script>\n",
       "      (adsbygoogle = window.adsbygoogle || []).push({});\n",
       " </script>\n",
       " </div></th></tr></table>]"
      ]
     },
     "execution_count": 47,
     "metadata": {},
     "output_type": "execute_result"
    }
   ],
   "source": [
    "page4 = 'https://www.auto-data.net/en/alfa-romeo-mito-1.6-jtdm-120hp-16680'   #This is the final page, retrieve the desired information from here\n",
    "#\n",
    "html4 = requests.get(page4, headers={'User-Agent': navigator})\n",
    "\n",
    "\n",
    "soup4 = BeautifulSoup(html4.text, 'html.parser')\n",
    "specs = soup4.find_all('table', {'class' : 'cardetailsout car2'})\n",
    "specs"
   ]
  },
  {
   "cell_type": "code",
   "execution_count": 49,
   "metadata": {},
   "outputs": [
    {
     "data": {
      "text/plain": [
       "[                                                    0  \\\n",
       " 0             What is the body type, Alfa Romeo MiTo?   \n",
       " 1   What is the fuel economy, Alfa Romeo MiTo 1.6 ...   \n",
       " 2   How ECO is the car, Alfa Romeo MiTo 1.6 JTDm (...   \n",
       " 3   How fast is the car, 2009 MiTo 1.6 JTDm (120 Hp)?   \n",
       " 4   How much power, Alfa Romeo MiTo Hatchback 2009...   \n",
       " 5   What is the engine size, Alfa Romeo MiTo Hatch...   \n",
       " 6   How many cylinders, 2009 Alfa Romeo 1.6 JTDm (...   \n",
       " 7   What is the drivetrain, Alfa Romeo MiTo Hatchb...   \n",
       " 8   How long is this vehicle, 2009 Alfa Romeo MiTo...   \n",
       " 9   How wide is the vehicle, 2009 Alfa Romeo MiTo ...   \n",
       " 10  What is the curb weight, 2009 Alfa Romeo MiTo ...   \n",
       " 11  How much trunk (boot) space, 2009 Alfa Romeo M...   \n",
       " 12  How many gears, What type is the gearbox, 2009...   \n",
       " \n",
       "                                                     1  \n",
       " 0                       Hatchback, 2/3 Doors, 5 Seats  \n",
       " 1      4.8 l/100 km 49 US mpg 58.85 UK mpg 20.83 km/l  \n",
       " 2                                        122 g/km CO2  \n",
       " 3   198 km/h | 123.03 mph0-100 km/h: 9.9 sec0-60 m...  \n",
       " 4                        120 Hp, 320 Nm236.02 lb.-ft.  \n",
       " 5                         1.6 l1598 cm3 97.52 cu. in.  \n",
       " 6                                           4, Inline  \n",
       " 7   Front wheel drive. Internal Combustion engine....  \n",
       " 8                                   4060 mm159.84 in.  \n",
       " 9                                    1720 mm67.72 in.  \n",
       " 10                                1205 kg2656.57 lbs.  \n",
       " 11                                  270 l9.53 cu. ft.  \n",
       " 12                             6, manual transmission  ,\n",
       "                                   General information  \\\n",
       " 0                                               Brand   \n",
       " 1                                               Model   \n",
       " 2                                          Generation   \n",
       " 3                               Modification (Engine)   \n",
       " 4                                 Start of production   \n",
       " ..                                                ...   \n",
       " 56                                      Steering type   \n",
       " 57                                     Power steering   \n",
       " 58                                         Tires size   \n",
       " 59                                    Wheel rims size   \n",
       " 60  (adsbygoogle = window.adsbygoogle || []).push(...   \n",
       " \n",
       "                                 General information.1  \n",
       " 0                                          Alfa Romeo  \n",
       " 1                                                MiTo  \n",
       " 2                                                MiTo  \n",
       " 3                                   1.6 JTDm (120 Hp)  \n",
       " 4                                           2009 year  \n",
       " ..                                                ...  \n",
       " 56                           Steering rack and pinion  \n",
       " 57                                  Electric Steering  \n",
       " 58                                         195/55 R16  \n",
       " 59                                                 16  \n",
       " 60  (adsbygoogle = window.adsbygoogle || []).push(...  \n",
       " \n",
       " [61 rows x 2 columns]]"
      ]
     },
     "execution_count": 49,
     "metadata": {},
     "output_type": "execute_result"
    }
   ],
   "source": [
    "pd.read_html(page4)"
   ]
  }
 ],
 "metadata": {
  "interpreter": {
   "hash": "9551cd33bf16c35239638d01283791bf06f66b16b64b8c1df3bd1173c0151abf"
  },
  "kernelspec": {
   "display_name": "Python 3 (ipykernel)",
   "language": "python",
   "name": "python3"
  },
  "language_info": {
   "codemirror_mode": {
    "name": "ipython",
    "version": 3
   },
   "file_extension": ".py",
   "mimetype": "text/x-python",
   "name": "python",
   "nbconvert_exporter": "python",
   "pygments_lexer": "ipython3",
   "version": "3.8.12"
  }
 },
 "nbformat": 4,
 "nbformat_minor": 2
}
