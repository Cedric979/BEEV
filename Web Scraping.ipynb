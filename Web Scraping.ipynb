{
 "cells": [
  {
   "cell_type": "code",
   "execution_count": 2,
   "metadata": {},
   "outputs": [],
   "source": [
    "import pandas as pd\n",
    "import re\n",
    "import requests\n",
    "import seaborn as sns\n",
    "import matplotlib.pyplot as plt\n",
    "from bs4 import BeautifulSoup"
   ]
  },
  {
   "cell_type": "code",
   "execution_count": 3,
   "metadata": {},
   "outputs": [],
   "source": [
    "navigator = 'Microsoft Edge (Scrapping; This is my system)'\n",
    "url = 'https://www.auto-data.net'"
   ]
  },
  {
   "cell_type": "code",
   "execution_count": 4,
   "metadata": {},
   "outputs": [
    {
     "data": {
      "text/plain": [
       "<Response [200]>"
      ]
     },
     "execution_count": 4,
     "metadata": {},
     "output_type": "execute_result"
    }
   ],
   "source": [
    "html = requests.get(url, headers={'User-Agent': navigator})\n",
    "html"
   ]
  },
  {
   "cell_type": "code",
   "execution_count": 5,
   "metadata": {},
   "outputs": [],
   "source": [
    "soup = BeautifulSoup(html.text, 'html.parser')"
   ]
  },
  {
   "cell_type": "code",
   "execution_count": 126,
   "metadata": {},
   "outputs": [
    {
     "data": {
      "text/plain": [
       "<a class=\"marki_blok\" href=\"/en/alfa-romeo-brand-11\" title=\"Alfa Romeo - Technical Specs, Fuel consumption, Dimensions\"><img alt=\"Alfa Romeo - Technical Specs, Fuel consumption, Dimensions\" src=\"/img/logos/Alfa_Romeo.png\"/><strong>Alfa Romeo</strong></a>"
      ]
     },
     "execution_count": 126,
     "metadata": {},
     "output_type": "execute_result"
    }
   ],
   "source": [
    "brands = soup.find_all('a', {'class' : 'marki_blok'})\n",
    "brands[1]"
   ]
  },
  {
   "cell_type": "code",
   "execution_count": 131,
   "metadata": {},
   "outputs": [
    {
     "data": {
      "text/plain": [
       "['/en/acura-brand-6',\n",
       " '/en/alfa-romeo-brand-11',\n",
       " '/en/alpina-brand-16',\n",
       " '/en/aston-martin-brand-36',\n",
       " '/en/audi-brand-41',\n",
       " '/en/bentley-brand-66',\n",
       " '/en/bmw-brand-86',\n",
       " '/en/bugatti-brand-106',\n",
       " '/en/cadillac-brand-121',\n",
       " '/en/chevrolet-brand-156',\n",
       " '/en/chrysler-brand-161',\n",
       " '/en/citroen-brand-166',\n",
       " '/en/cupra-brand-256',\n",
       " '/en/dacia-brand-181',\n",
       " '/en/daewoo-brand-191',\n",
       " '/en/daihatsu-brand-2',\n",
       " '/en/dodge-brand-32',\n",
       " '/en/ds-brand-198',\n",
       " '/en/ferrari-brand-62',\n",
       " '/en/fiat-brand-67',\n",
       " '/en/ford-brand-72',\n",
       " '/en/gmc-brand-97',\n",
       " '/en/great-wall-brand-107',\n",
       " '/en/honda-brand-127',\n",
       " '/en/hummer-brand-137',\n",
       " '/en/hyundai-brand-147',\n",
       " '/en/infiniti-brand-152',\n",
       " '/en/jaguar-brand-3',\n",
       " '/en/jeep-brand-8',\n",
       " '/en/kia-brand-23',\n",
       " '/en/koenigsegg-brand-28',\n",
       " '/en/lada-brand-140',\n",
       " '/en/lamborghini-brand-38',\n",
       " '/en/lancia-brand-43',\n",
       " '/en/land-rover-brand-48',\n",
       " '/en/lexus-brand-58',\n",
       " '/en/lotus-brand-78',\n",
       " '/en/maserati-brand-108',\n",
       " '/en/mazda-brand-118',\n",
       " '/en/mclaren-brand-123',\n",
       " '/en/mercedes-benz-brand-138',\n",
       " '/en/mg-brand-153',\n",
       " '/en/mini-brand-168',\n",
       " '/en/mitsubishi-brand-173',\n",
       " '/en/nio-brand-295',\n",
       " '/en/nissan-brand-4',\n",
       " '/en/opel-brand-19',\n",
       " '/en/pagani-brand-29',\n",
       " '/en/peugeot-brand-49',\n",
       " '/en/porsche-brand-64',\n",
       " '/en/ram-brand-240',\n",
       " '/en/renault-brand-99',\n",
       " '/en/rolls-royce-brand-109',\n",
       " '/en/rover-brand-119',\n",
       " '/en/saab-brand-124',\n",
       " '/en/seat-brand-144',\n",
       " '/en/skoda-brand-154',\n",
       " '/en/smart-brand-164',\n",
       " '/en/subaru-brand-189',\n",
       " '/en/suzuki-brand-194',\n",
       " '/en/tesla-brand-197',\n",
       " '/en/toyota-brand-40',\n",
       " '/en/vauxhall-brand-60',\n",
       " '/en/volkswagen-brand-80',\n",
       " '/en/volvo-brand-85',\n",
       " '/en/allbrands']"
      ]
     },
     "execution_count": 131,
     "metadata": {},
     "output_type": "execute_result"
    }
   ],
   "source": [
    "brand_list = re.findall('href=\"(\\S+)\"',str(brands))\n",
    "brand_list"
   ]
  },
  {
   "cell_type": "code",
   "execution_count": 22,
   "metadata": {},
   "outputs": [],
   "source": [
    "for urls in brand_list:\n",
    "    "
   ]
  },
  {
   "cell_type": "code",
   "execution_count": null,
   "metadata": {},
   "outputs": [],
   "source": [
    "page2 = 'https://www.auto-data.net/fr/acura-cl-model-138'         #Inside each brand, find the models"
   ]
  },
  {
   "cell_type": "code",
   "execution_count": null,
   "metadata": {},
   "outputs": [],
   "source": [
    "page3 = 'https://www.auto-data.net/fr/acura-cl-ii-generation-7196'    #Inside each model, find the correct generation/series"
   ]
  },
  {
   "cell_type": "code",
   "execution_count": null,
   "metadata": {},
   "outputs": [],
   "source": [
    "page4 = 'https://www.auto-data.net/fr/acura-cl-ii-3.2-i-v6-24v-type-s-263hp-automatic-31069'   #This is the final page, retrieve the desired information from here\n",
    "\n",
    "#"
   ]
  }
 ],
 "metadata": {
  "interpreter": {
   "hash": "9551cd33bf16c35239638d01283791bf06f66b16b64b8c1df3bd1173c0151abf"
  },
  "kernelspec": {
   "display_name": "Python 3.8.12 64-bit ('Safe space': conda)",
   "language": "python",
   "name": "python3"
  },
  "language_info": {
   "codemirror_mode": {
    "name": "ipython",
    "version": 3
   },
   "file_extension": ".py",
   "mimetype": "text/x-python",
   "name": "python",
   "nbconvert_exporter": "python",
   "pygments_lexer": "ipython3",
   "version": "3.8.12"
  },
  "orig_nbformat": 4
 },
 "nbformat": 4,
 "nbformat_minor": 2
}
