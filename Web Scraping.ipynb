{
 "cells": [
  {
   "cell_type": "markdown",
   "metadata": {},
   "source": [
    "# **Imports and defining variables**"
   ]
  },
  {
   "cell_type": "code",
   "execution_count": 1,
   "metadata": {},
   "outputs": [],
   "source": [
    "import pandas as pd\n",
    "import re\n",
    "import requests\n",
    "import seaborn as sns\n",
    "import matplotlib.pyplot as plt\n",
    "from bs4 import BeautifulSoup"
   ]
  },
  {
   "cell_type": "code",
   "execution_count": 2,
   "metadata": {},
   "outputs": [],
   "source": [
    "navigator = 'Microsoft Edge (Scrapping; This is my system)'\n",
    "url_allbrands_homepage = 'https://www.auto-data.net/en/allbrands'\n",
    "url = 'https://www.auto-data.net'"
   ]
  },
  {
   "cell_type": "code",
   "execution_count": 3,
   "metadata": {},
   "outputs": [
    {
     "data": {
      "text/plain": [
       "<Response [200]>"
      ]
     },
     "execution_count": 3,
     "metadata": {},
     "output_type": "execute_result"
    }
   ],
   "source": [
    "html = requests.get(url_allbrands_homepage, headers={'User-Agent': navigator})\n",
    "html"
   ]
  },
  {
   "cell_type": "markdown",
   "metadata": {},
   "source": [
    "# **Scraping**"
   ]
  },
  {
   "cell_type": "markdown",
   "metadata": {},
   "source": [
    "## Creating the soup and cleaning the information to get only text"
   ]
  },
  {
   "cell_type": "code",
   "execution_count": 4,
   "metadata": {},
   "outputs": [],
   "source": [
    "soup = BeautifulSoup(html.text, 'html.parser')"
   ]
  },
  {
   "cell_type": "code",
   "execution_count": 5,
   "metadata": {},
   "outputs": [
    {
     "data": {
      "text/plain": [
       "[<a class=\"marki_blok\" href=\"/en/abarth-brand-200\" title=\"Abarth - Technical Specs, Fuel consumption, Dimensions\"><img alt=\"Abarth - Technical Specs, Fuel consumption, Dimensions\" src=\"/img/logos/Abarth.png\"/><strong>Abarth</strong></a>,\n",
       " <a class=\"marki_blok\" href=\"/en/ac-brand-1\" title=\"AC - Technical Specs, Fuel consumption, Dimensions\"><img alt=\"AC - Technical Specs, Fuel consumption, Dimensions\" src=\"/img/logos/AC.png\"/><strong>AC</strong></a>,\n",
       " <a class=\"marki_blok\" href=\"/en/acura-brand-6\" title=\"Acura - Technical Specs, Fuel consumption, Dimensions\"><img alt=\"Acura - Technical Specs, Fuel consumption, Dimensions\" src=\"/img/logos/Acura.png\"/><strong>Acura</strong></a>,\n",
       " <a class=\"marki_blok\" href=\"/en/aiways-brand-301\" title=\"Aiways - Technical Specs, Fuel consumption, Dimensions\"><img alt=\"Aiways - Technical Specs, Fuel consumption, Dimensions\" src=\"/img/logos/Aiways.png\"/><strong>Aiways</strong></a>,\n",
       " <a class=\"marki_blok\" href=\"/en/aixam-brand-255\" title=\"Aixam - Technical Specs, Fuel consumption, Dimensions\"><img alt=\"Aixam - Technical Specs, Fuel consumption, Dimensions\" src=\"/img/logos/Aixam.png\"/><strong>Aixam</strong></a>]"
      ]
     },
     "execution_count": 5,
     "metadata": {},
     "output_type": "execute_result"
    }
   ],
   "source": [
    "brands = soup.find_all('a', {'class' : 'marki_blok'})\n",
    "brands[0:5]"
   ]
  },
  {
   "cell_type": "code",
   "execution_count": 6,
   "metadata": {},
   "outputs": [
    {
     "data": {
      "text/plain": [
       "['/en/abarth-brand-200',\n",
       " '/en/ac-brand-1',\n",
       " '/en/acura-brand-6',\n",
       " '/en/aiways-brand-301',\n",
       " '/en/aixam-brand-255']"
      ]
     },
     "execution_count": 6,
     "metadata": {},
     "output_type": "execute_result"
    }
   ],
   "source": [
    "#This loop is to get only the part to use in link ie whatever is after 'href='\n",
    "brand_list = re.findall('href=\"(\\S+)\"',str(brands))\n",
    "brand_list[0:5]"
   ]
  },
  {
   "cell_type": "code",
   "execution_count": 57,
   "metadata": {},
   "outputs": [
    {
     "data": {
      "text/plain": [
       "array(['a', 'b', 'c', 'd', 'e', 'f', 'g', 'h', 'i', 'j', 'k', 'l', 'm',\n",
       "       'n', 'o', 'p', 'q', 'r', 's', 't', 'u', 'v', 'w', 'x', 'z'],\n",
       "      dtype=object)"
      ]
     },
     "execution_count": 57,
     "metadata": {},
     "output_type": "execute_result"
    }
   ],
   "source": [
    "#Looping to remove the /en since the url already has it and removing it makes it so it will default to another language\n",
    "brand_list_final = []\n",
    "for i in range(len(brand_list)):\n",
    "    brand_list_final += re.findall('en/(\\S+)', brand_list[i])\n",
    "brand_list_final[0:5]\n",
    "#Starting to create dataframe for the links\n",
    "df = pd.DataFrame(brand_list_final)\n",
    "df['letter'] = df[0].apply(lambda x: x[0])\n",
    "df['letter'].unique()"
   ]
  },
  {
   "cell_type": "code",
   "execution_count": 73,
   "metadata": {},
   "outputs": [],
   "source": [
    "#Creating CSV files for each starting letter of the brand names so we can save it more often\n",
    "dicto = {}\n",
    "for letter in df['letter'].unique():\n",
    "    a = df[df['letter'] == letter].drop(columns = 'letter')\n",
    "    a.to_csv('../BEEV/letter_csvs/' + letter + '.csv')\n",
    "    dicto[letter] = a"
   ]
  },
  {
   "cell_type": "markdown",
   "metadata": {},
   "source": [
    "## Creating the loops for the actual scraping"
   ]
  },
  {
   "cell_type": "code",
   "execution_count": 75,
   "metadata": {},
   "outputs": [],
   "source": [
    "url = 'https://www.auto-data.net/en/'\n",
    "for csvs in dicto.values():\n",
    "    csvs[0] = csvs[0].apply(lambda x: url + x)"
   ]
  },
  {
   "cell_type": "code",
   "execution_count": 78,
   "metadata": {},
   "outputs": [],
   "source": [
    "#Dataframe with url for each brand\n",
    "for letter, letter_csvs in dicto.items():\n",
    "    letter_csvs.to_csv('../BEEV/letter_csvs/' + letter + '.csv')"
   ]
  },
  {
   "cell_type": "code",
   "execution_count": null,
   "metadata": {},
   "outputs": [],
   "source": [
    "# #Looping to get the actual url for each brand\n",
    "# urls_list = []\n",
    "# for urls in brand_list:\n",
    "#     url = 'https://www.auto-data.net'\n",
    "#     urls_list += [url + urls]\n",
    "# urls_list[0:5]"
   ]
  },
  {
   "cell_type": "code",
   "execution_count": 99,
   "metadata": {},
   "outputs": [
    {
     "data": {
      "text/plain": [
       "['abarth-124-spider-model-2152',\n",
       " 'abarth-500-model-2872',\n",
       " 'abarth-595-model-2149',\n",
       " 'abarth-695-model-2150']"
      ]
     },
     "execution_count": 99,
     "metadata": {},
     "output_type": "execute_result"
    }
   ],
   "source": [
    "#Function to get the models inside each brand\n",
    "def model_of_each_brand(brand_url):\n",
    "    models_list = []\n",
    "    html2 = requests.get(brand_url, headers={'User-Agent': navigator})\n",
    "    soup2 = BeautifulSoup(html2.text, 'html.parser')\n",
    "    models = soup2.find_all('a', {'class' : 'modeli'}) \n",
    "    models_list_final = re.findall('en/(\\S+)', str(models))\n",
    "    return [x[:-1] for x in models_list_final]\n",
    "brand_url = 'https://www.auto-data.net/en/abarth-brand-200'\n",
    "model_of_each_brand(brand_url)"
   ]
  },
  {
   "cell_type": "code",
   "execution_count": 123,
   "metadata": {},
   "outputs": [
    {
     "ename": "KeyError",
     "evalue": "'model_url'",
     "output_type": "error",
     "traceback": [
      "\u001b[1;31m---------------------------------------------------------------------------\u001b[0m",
      "\u001b[1;31mKeyError\u001b[0m                                  Traceback (most recent call last)",
      "\u001b[1;32m~\\anaconda3\\envs\\Safe space\\lib\\site-packages\\pandas\\core\\indexes\\base.py\u001b[0m in \u001b[0;36mget_loc\u001b[1;34m(self, key, method, tolerance)\u001b[0m\n\u001b[0;32m   3079\u001b[0m             \u001b[1;32mtry\u001b[0m\u001b[1;33m:\u001b[0m\u001b[1;33m\u001b[0m\u001b[1;33m\u001b[0m\u001b[0m\n\u001b[1;32m-> 3080\u001b[1;33m                 \u001b[1;32mreturn\u001b[0m \u001b[0mself\u001b[0m\u001b[1;33m.\u001b[0m\u001b[0m_engine\u001b[0m\u001b[1;33m.\u001b[0m\u001b[0mget_loc\u001b[0m\u001b[1;33m(\u001b[0m\u001b[0mcasted_key\u001b[0m\u001b[1;33m)\u001b[0m\u001b[1;33m\u001b[0m\u001b[1;33m\u001b[0m\u001b[0m\n\u001b[0m\u001b[0;32m   3081\u001b[0m             \u001b[1;32mexcept\u001b[0m \u001b[0mKeyError\u001b[0m \u001b[1;32mas\u001b[0m \u001b[0merr\u001b[0m\u001b[1;33m:\u001b[0m\u001b[1;33m\u001b[0m\u001b[1;33m\u001b[0m\u001b[0m\n",
      "\u001b[1;32mpandas\\_libs\\index.pyx\u001b[0m in \u001b[0;36mpandas._libs.index.IndexEngine.get_loc\u001b[1;34m()\u001b[0m\n",
      "\u001b[1;32mpandas\\_libs\\index.pyx\u001b[0m in \u001b[0;36mpandas._libs.index.IndexEngine.get_loc\u001b[1;34m()\u001b[0m\n",
      "\u001b[1;32mpandas\\_libs\\hashtable_class_helper.pxi\u001b[0m in \u001b[0;36mpandas._libs.hashtable.PyObjectHashTable.get_item\u001b[1;34m()\u001b[0m\n",
      "\u001b[1;32mpandas\\_libs\\hashtable_class_helper.pxi\u001b[0m in \u001b[0;36mpandas._libs.hashtable.PyObjectHashTable.get_item\u001b[1;34m()\u001b[0m\n",
      "\u001b[1;31mKeyError\u001b[0m: 'model_url'",
      "\nThe above exception was the direct cause of the following exception:\n",
      "\u001b[1;31mKeyError\u001b[0m                                  Traceback (most recent call last)",
      "\u001b[1;32mC:\\Users\\UTILIZ~1\\AppData\\Local\\Temp/ipykernel_14088/2074615750.py\u001b[0m in \u001b[0;36m<module>\u001b[1;34m\u001b[0m\n\u001b[0;32m      1\u001b[0m \u001b[1;31m#Applying the function to get add the url to the models\u001b[0m\u001b[1;33m\u001b[0m\u001b[1;33m\u001b[0m\u001b[1;33m\u001b[0m\u001b[0m\n\u001b[0;32m      2\u001b[0m \u001b[1;32mfor\u001b[0m \u001b[0mcsvs\u001b[0m \u001b[1;32min\u001b[0m \u001b[0mdicto\u001b[0m\u001b[1;33m.\u001b[0m\u001b[0mvalues\u001b[0m\u001b[1;33m(\u001b[0m\u001b[1;33m)\u001b[0m\u001b[1;33m:\u001b[0m\u001b[1;33m\u001b[0m\u001b[1;33m\u001b[0m\u001b[0m\n\u001b[1;32m----> 3\u001b[1;33m     \u001b[0mcsvs\u001b[0m\u001b[1;33m[\u001b[0m\u001b[1;34m'model_url'\u001b[0m\u001b[1;33m]\u001b[0m\u001b[1;33m.\u001b[0m\u001b[0mto_csv\u001b[0m \u001b[1;33m=\u001b[0m \u001b[0mcsvs\u001b[0m\u001b[1;33m[\u001b[0m\u001b[1;36m0\u001b[0m\u001b[1;33m]\u001b[0m\u001b[1;33m.\u001b[0m\u001b[0mapply\u001b[0m\u001b[1;33m(\u001b[0m\u001b[0mmodel_of_each_brand\u001b[0m\u001b[1;33m)\u001b[0m\u001b[1;33m\u001b[0m\u001b[1;33m\u001b[0m\u001b[0m\n\u001b[0m",
      "\u001b[1;32m~\\anaconda3\\envs\\Safe space\\lib\\site-packages\\pandas\\core\\frame.py\u001b[0m in \u001b[0;36m__getitem__\u001b[1;34m(self, key)\u001b[0m\n\u001b[0;32m   3022\u001b[0m             \u001b[1;32mif\u001b[0m \u001b[0mself\u001b[0m\u001b[1;33m.\u001b[0m\u001b[0mcolumns\u001b[0m\u001b[1;33m.\u001b[0m\u001b[0mnlevels\u001b[0m \u001b[1;33m>\u001b[0m \u001b[1;36m1\u001b[0m\u001b[1;33m:\u001b[0m\u001b[1;33m\u001b[0m\u001b[1;33m\u001b[0m\u001b[0m\n\u001b[0;32m   3023\u001b[0m                 \u001b[1;32mreturn\u001b[0m \u001b[0mself\u001b[0m\u001b[1;33m.\u001b[0m\u001b[0m_getitem_multilevel\u001b[0m\u001b[1;33m(\u001b[0m\u001b[0mkey\u001b[0m\u001b[1;33m)\u001b[0m\u001b[1;33m\u001b[0m\u001b[1;33m\u001b[0m\u001b[0m\n\u001b[1;32m-> 3024\u001b[1;33m             \u001b[0mindexer\u001b[0m \u001b[1;33m=\u001b[0m \u001b[0mself\u001b[0m\u001b[1;33m.\u001b[0m\u001b[0mcolumns\u001b[0m\u001b[1;33m.\u001b[0m\u001b[0mget_loc\u001b[0m\u001b[1;33m(\u001b[0m\u001b[0mkey\u001b[0m\u001b[1;33m)\u001b[0m\u001b[1;33m\u001b[0m\u001b[1;33m\u001b[0m\u001b[0m\n\u001b[0m\u001b[0;32m   3025\u001b[0m             \u001b[1;32mif\u001b[0m \u001b[0mis_integer\u001b[0m\u001b[1;33m(\u001b[0m\u001b[0mindexer\u001b[0m\u001b[1;33m)\u001b[0m\u001b[1;33m:\u001b[0m\u001b[1;33m\u001b[0m\u001b[1;33m\u001b[0m\u001b[0m\n\u001b[0;32m   3026\u001b[0m                 \u001b[0mindexer\u001b[0m \u001b[1;33m=\u001b[0m \u001b[1;33m[\u001b[0m\u001b[0mindexer\u001b[0m\u001b[1;33m]\u001b[0m\u001b[1;33m\u001b[0m\u001b[1;33m\u001b[0m\u001b[0m\n",
      "\u001b[1;32m~\\anaconda3\\envs\\Safe space\\lib\\site-packages\\pandas\\core\\indexes\\base.py\u001b[0m in \u001b[0;36mget_loc\u001b[1;34m(self, key, method, tolerance)\u001b[0m\n\u001b[0;32m   3080\u001b[0m                 \u001b[1;32mreturn\u001b[0m \u001b[0mself\u001b[0m\u001b[1;33m.\u001b[0m\u001b[0m_engine\u001b[0m\u001b[1;33m.\u001b[0m\u001b[0mget_loc\u001b[0m\u001b[1;33m(\u001b[0m\u001b[0mcasted_key\u001b[0m\u001b[1;33m)\u001b[0m\u001b[1;33m\u001b[0m\u001b[1;33m\u001b[0m\u001b[0m\n\u001b[0;32m   3081\u001b[0m             \u001b[1;32mexcept\u001b[0m \u001b[0mKeyError\u001b[0m \u001b[1;32mas\u001b[0m \u001b[0merr\u001b[0m\u001b[1;33m:\u001b[0m\u001b[1;33m\u001b[0m\u001b[1;33m\u001b[0m\u001b[0m\n\u001b[1;32m-> 3082\u001b[1;33m                 \u001b[1;32mraise\u001b[0m \u001b[0mKeyError\u001b[0m\u001b[1;33m(\u001b[0m\u001b[0mkey\u001b[0m\u001b[1;33m)\u001b[0m \u001b[1;32mfrom\u001b[0m \u001b[0merr\u001b[0m\u001b[1;33m\u001b[0m\u001b[1;33m\u001b[0m\u001b[0m\n\u001b[0m\u001b[0;32m   3083\u001b[0m \u001b[1;33m\u001b[0m\u001b[0m\n\u001b[0;32m   3084\u001b[0m         \u001b[1;32mif\u001b[0m \u001b[0mtolerance\u001b[0m \u001b[1;32mis\u001b[0m \u001b[1;32mnot\u001b[0m \u001b[1;32mNone\u001b[0m\u001b[1;33m:\u001b[0m\u001b[1;33m\u001b[0m\u001b[1;33m\u001b[0m\u001b[0m\n",
      "\u001b[1;31mKeyError\u001b[0m: 'model_url'"
     ]
    }
   ],
   "source": [
    "#Applying the function to get add the url to the models\n",
    "for csvs in dicto.values():\n",
    "    csvs['model_url'] = csvs[0].apply(model_of_each_brand)"
   ]
  },
  {
   "cell_type": "code",
   "execution_count": null,
   "metadata": {},
   "outputs": [],
   "source": [
    "###Looping for the correct generation/series in each model\n",
    "series_list = []\n",
    "series_list_final = []\n",
    "for page3 in urls_list2:\n",
    "    # time.sleep(60 * random.random.uniform(1-10))\n",
    "    html3 = requests.get(page3, headers={'User-Agent': navigator})\n",
    "    soup3 = BeautifulSoup(html3.text, 'html.parser')\n",
    "    series = soup3.find_all('a', {'class' : 'position'}) \n",
    "    for serie in series:\n",
    "        # print('\\n')\n",
    "        # print(serie)\n",
    "        varible = re.findall('href=\"(\\S+)\"',str(serie))\n",
    "        # print(varible)\n",
    "        series_list_final += varible"
   ]
  },
  {
   "cell_type": "code",
   "execution_count": 51,
   "metadata": {},
   "outputs": [],
   "source": [
    "var_list = pd.DataFrame(series_list_final).drop_duplicates().reset_index().drop(columns = ['index'])\n",
    "var_list.to_csv('series_list_final_2.csv', header = False, index = False)"
   ]
  },
  {
   "cell_type": "code",
   "execution_count": null,
   "metadata": {},
   "outputs": [],
   "source": [
    "#Creating another urls list for the final part\n",
    "# urls_list3 = []\n",
    "# for urls3 in var_list['0']:\n",
    "    # url = 'https://www.auto-data.net'\n",
    "#     urls_list3 += [url + \"/\" +urls3]\n",
    "\n",
    "# urls_list3\n",
    "var_list['url3'] = var_list['0'].apply(lambda x: 'https://www.auto-data.net' + x)"
   ]
  },
  {
   "cell_type": "code",
   "execution_count": null,
   "metadata": {},
   "outputs": [],
   "source": [
    "#This is the loop for the modifications(engines, facelifts, etc)\n",
    "for page4 in var_list['url3']:\n",
    "    html4 = requests.get(page4, headers={'User-Agent': navigator})\n",
    "    soup4 = BeautifulSoup(html4.text, 'html.parser')\n",
    "    mods = soup4.find_all('a', {'rel' : 'nofollow'})           #It's working!!\n",
    "     "
   ]
  },
  {
   "cell_type": "code",
   "execution_count": null,
   "metadata": {},
   "outputs": [],
   "source": [
    "#This is the final loop to get the details for the cars\n",
    "specs = soup4.find_all('table', {'class' : 'cardetailsout car2'})"
   ]
  },
  {
   "cell_type": "code",
   "execution_count": null,
   "metadata": {},
   "outputs": [],
   "source": [
    "#Need to install this library to work\n",
    "!pip install html5lib"
   ]
  },
  {
   "cell_type": "markdown",
   "metadata": {},
   "source": [
    "## Final dataframe"
   ]
  },
  {
   "cell_type": "code",
   "execution_count": 96,
   "metadata": {},
   "outputs": [
    {
     "data": {
      "text/html": [
       "<div>\n",
       "<style scoped>\n",
       "    .dataframe tbody tr th:only-of-type {\n",
       "        vertical-align: middle;\n",
       "    }\n",
       "\n",
       "    .dataframe tbody tr th {\n",
       "        vertical-align: top;\n",
       "    }\n",
       "\n",
       "    .dataframe thead th {\n",
       "        text-align: right;\n",
       "    }\n",
       "</style>\n",
       "<table border=\"1\" class=\"dataframe\">\n",
       "  <thead>\n",
       "    <tr style=\"text-align: right;\">\n",
       "      <th>General information</th>\n",
       "      <th>Brand</th>\n",
       "      <th>Model</th>\n",
       "      <th>Generation</th>\n",
       "      <th>Modification (Engine)</th>\n",
       "      <th>Body type</th>\n",
       "      <th>CO2 emissions</th>\n",
       "      <th>Fuel Type</th>\n",
       "      <th>Power</th>\n",
       "      <th>Fuel tank(l)</th>\n",
       "      <th>Fuel consumption(l/100km)</th>\n",
       "      <th>Power(Hp)</th>\n",
       "      <th>Range (Km)</th>\n",
       "    </tr>\n",
       "  </thead>\n",
       "  <tbody>\n",
       "    <tr>\n",
       "      <th>General information.1</th>\n",
       "      <td>Alfa Romeo</td>\n",
       "      <td>MiTo</td>\n",
       "      <td>MiTo</td>\n",
       "      <td>1.6 JTDm (120 Hp)</td>\n",
       "      <td>Hatchback</td>\n",
       "      <td>122 g/km</td>\n",
       "      <td>Diesel</td>\n",
       "      <td>120 Hp @ 3750 rpm.</td>\n",
       "      <td>45</td>\n",
       "      <td>4.8</td>\n",
       "      <td>120</td>\n",
       "      <td>937.5</td>\n",
       "    </tr>\n",
       "  </tbody>\n",
       "</table>\n",
       "</div>"
      ],
      "text/plain": [
       "General information         Brand Model Generation Modification (Engine)  \\\n",
       "General information.1  Alfa Romeo  MiTo       MiTo     1.6 JTDm (120 Hp)   \n",
       "\n",
       "General information    Body type CO2 emissions Fuel Type               Power  \\\n",
       "General information.1  Hatchback      122 g/km    Diesel  120 Hp @ 3750 rpm.   \n",
       "\n",
       "General information   Fuel tank(l) Fuel consumption(l/100km) Power(Hp)  \\\n",
       "General information.1           45                       4.8       120   \n",
       "\n",
       "General information    Range (Km)  \n",
       "General information.1       937.5  "
      ]
     },
     "execution_count": 96,
     "metadata": {},
     "output_type": "execute_result"
    }
   ],
   "source": [
    "#This is the dataframe with all the information we want\n",
    "page4 = 'https://www.auto-data.net/en/alfa-romeo-mito-1.6-jtdm-120hp-16680'\n",
    "what = pd.read_html(page4)[1]  \n",
    "what\n",
    "\n",
    "what2 = what[(what['General information'] == 'Brand')\n",
    "|(what['General information'] == 'Model')\n",
    "|(what['General information'] == 'Generation')\n",
    "|(what['General information'] == 'Modification (Engine)')\n",
    "|(what['General information'] == 'CO2 emissions') \n",
    "|(what['General information'] == 'Body type')\n",
    "|(what['General information'] == 'Fuel tank capacity')\n",
    "|(what['General information'] == 'Fuel consumption (economy) - combined')\n",
    "|(what['General information'] == 'Fuel Type')\n",
    "|(what['General information'] == 'Power')]\n",
    "what2.index = what2['General information']\n",
    "what3 = what2.T\n",
    "what3.drop(axis = 0, labels = 'General information', inplace = True)\n",
    "what3['Fuel tank(l)'] = what3['Fuel tank capacity'].apply(lambda x : x.split(' ')[0])\n",
    "what3['Fuel consumption(l/100km)'] = what3['Fuel consumption (economy) - combined'].apply(lambda x : x.split(' ')[0])\n",
    "what3['Power(Hp)'] = what3['Power'].apply(lambda x: x.split(' ')[0])\n",
    "what3['Range (Km)'] = what3[['Fuel tank(l)','Fuel consumption(l/100km)']].apply(lambda item: int(item[0])/float(item[1])*100,axis=1)\n",
    "\n",
    "what4 = what3\n",
    "what4.drop(columns = ['Fuel consumption (economy) - combined', 'Fuel tank capacity'], inplace = True)\n",
    "what4                               #We need to remove this General information column still"
   ]
  }
 ],
 "metadata": {
  "interpreter": {
   "hash": "9551cd33bf16c35239638d01283791bf06f66b16b64b8c1df3bd1173c0151abf"
  },
  "kernelspec": {
   "display_name": "Python 3 (ipykernel)",
   "language": "python",
   "name": "python3"
  },
  "language_info": {
   "codemirror_mode": {
    "name": "ipython",
    "version": 3
   },
   "file_extension": ".py",
   "mimetype": "text/x-python",
   "name": "python",
   "nbconvert_exporter": "python",
   "pygments_lexer": "ipython3",
   "version": "3.8.12"
  }
 },
 "nbformat": 4,
 "nbformat_minor": 2
}
