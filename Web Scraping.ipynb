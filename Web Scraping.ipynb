{
 "cells": [
  {
   "cell_type": "markdown",
   "metadata": {},
   "source": [
    "# **Imports and defining variables**"
   ]
  },
  {
   "cell_type": "code",
   "execution_count": 1,
   "metadata": {},
   "outputs": [],
   "source": [
    "import pandas as pd\n",
    "import re\n",
    "import requests\n",
    "import seaborn as sns\n",
    "import matplotlib.pyplot as plt\n",
    "from bs4 import BeautifulSoup"
   ]
  },
  {
   "cell_type": "code",
   "execution_count": 7,
   "metadata": {},
   "outputs": [],
   "source": [
    "navigator = 'Microsoft Edge (Scrapping; This is my system)'\n",
    "url = 'https://www.auto-data.net/en'"
   ]
  },
  {
   "cell_type": "code",
   "execution_count": 8,
   "metadata": {},
   "outputs": [
    {
     "data": {
      "text/plain": [
       "<Response [200]>"
      ]
     },
     "execution_count": 8,
     "metadata": {},
     "output_type": "execute_result"
    }
   ],
   "source": [
    "html = requests.get(url, headers={'User-Agent': navigator})\n",
    "html"
   ]
  },
  {
   "cell_type": "markdown",
   "metadata": {},
   "source": [
    "# **Scraping**"
   ]
  },
  {
   "cell_type": "markdown",
   "metadata": {},
   "source": [
    "## Creating the soup and cleaning the information to get only text"
   ]
  },
  {
   "cell_type": "code",
   "execution_count": 9,
   "metadata": {},
   "outputs": [],
   "source": [
    "soup = BeautifulSoup(html.text, 'html.parser')"
   ]
  },
  {
   "cell_type": "code",
   "execution_count": 10,
   "metadata": {},
   "outputs": [
    {
     "data": {
      "text/plain": [
       "<a class=\"marki_blok\" href=\"/en/alfa-romeo-brand-11\" title=\"Alfa Romeo - Technical Specs, Fuel consumption, Dimensions\"><img alt=\"Alfa Romeo - Technical Specs, Fuel consumption, Dimensions\" src=\"/img/logos/Alfa_Romeo.png\"/><strong>Alfa Romeo</strong></a>"
      ]
     },
     "execution_count": 10,
     "metadata": {},
     "output_type": "execute_result"
    }
   ],
   "source": [
    "brands = soup.find_all('a', {'class' : 'marki_blok'})\n",
    "brands[1]"
   ]
  },
  {
   "cell_type": "code",
   "execution_count": 56,
   "metadata": {},
   "outputs": [
    {
     "data": {
      "text/plain": [
       "'/en/acura-brand-6'"
      ]
     },
     "execution_count": 56,
     "metadata": {},
     "output_type": "execute_result"
    }
   ],
   "source": [
    "#This loop is to get only the part to use in link ie whatever is after 'href='\n",
    "brand_list = re.findall('href=\"(\\S+)\"',str(brands))\n",
    "brand_list[0]"
   ]
  },
  {
   "cell_type": "code",
   "execution_count": 54,
   "metadata": {},
   "outputs": [
    {
     "data": {
      "text/plain": [
       "[['acura-brand-6'],\n",
       " ['alfa-romeo-brand-11'],\n",
       " ['alpina-brand-16'],\n",
       " ['aston-martin-brand-36'],\n",
       " ['audi-brand-41'],\n",
       " ['bentley-brand-66'],\n",
       " ['bmw-brand-86'],\n",
       " ['bugatti-brand-106'],\n",
       " ['cadillac-brand-121'],\n",
       " ['chevrolet-brand-156'],\n",
       " ['chrysler-brand-161'],\n",
       " ['citroen-brand-166'],\n",
       " ['cupra-brand-256'],\n",
       " ['dacia-brand-181'],\n",
       " ['daewoo-brand-191'],\n",
       " ['daihatsu-brand-2'],\n",
       " ['dodge-brand-32'],\n",
       " ['ds-brand-198'],\n",
       " ['ferrari-brand-62'],\n",
       " ['fiat-brand-67'],\n",
       " ['ford-brand-72'],\n",
       " ['gmc-brand-97'],\n",
       " ['great-wall-brand-107'],\n",
       " ['honda-brand-127'],\n",
       " ['hummer-brand-137'],\n",
       " ['hyundai-brand-147'],\n",
       " ['infiniti-brand-152'],\n",
       " ['jaguar-brand-3'],\n",
       " ['jeep-brand-8'],\n",
       " ['kia-brand-23'],\n",
       " ['koenigsegg-brand-28'],\n",
       " ['lada-brand-140'],\n",
       " ['lamborghini-brand-38'],\n",
       " ['lancia-brand-43'],\n",
       " ['land-rover-brand-48'],\n",
       " ['lexus-brand-58'],\n",
       " ['lotus-brand-78'],\n",
       " ['maserati-brand-108'],\n",
       " ['mazda-brand-118'],\n",
       " ['mclaren-brand-123'],\n",
       " ['mercedes-benz-brand-138'],\n",
       " ['mg-brand-153'],\n",
       " ['mini-brand-168'],\n",
       " ['mitsubishi-brand-173'],\n",
       " ['nio-brand-295'],\n",
       " ['nissan-brand-4'],\n",
       " ['opel-brand-19'],\n",
       " ['pagani-brand-29'],\n",
       " ['peugeot-brand-49'],\n",
       " ['porsche-brand-64'],\n",
       " ['ram-brand-240'],\n",
       " ['renault-brand-99'],\n",
       " ['rolls-royce-brand-109'],\n",
       " ['rover-brand-119'],\n",
       " ['saab-brand-124'],\n",
       " ['seat-brand-144'],\n",
       " ['skoda-brand-154'],\n",
       " ['smart-brand-164'],\n",
       " ['subaru-brand-189'],\n",
       " ['suzuki-brand-194'],\n",
       " ['tesla-brand-197'],\n",
       " ['toyota-brand-40'],\n",
       " ['vauxhall-brand-60'],\n",
       " ['volkswagen-brand-80'],\n",
       " ['volvo-brand-85'],\n",
       " ['allbrands']]"
      ]
     },
     "execution_count": 54,
     "metadata": {},
     "output_type": "execute_result"
    }
   ],
   "source": [
    "#Looping to remove the /en since the url already has it and removing it makes it so it will default to another language\n",
    "brand_list_final = []\n",
    "for i in range(len(brand_list)):\n",
    "    brand_list_final += [re.findall('en/(\\S+)', brand_list[i])]\n",
    "brand_list_final"
   ]
  },
  {
   "cell_type": "markdown",
   "metadata": {},
   "source": [
    "## Creating the loops for the actual scraping"
   ]
  },
  {
   "cell_type": "code",
   "execution_count": 22,
   "metadata": {},
   "outputs": [],
   "source": [
    "for urls in brand_list:\n",
    "    "
   ]
  },
  {
   "cell_type": "code",
   "execution_count": null,
   "metadata": {},
   "outputs": [],
   "source": [
    "page2 = 'https://www.auto-data.net/fr/acura-cl-model-138'         #Inside each brand, find the models"
   ]
  },
  {
   "cell_type": "code",
   "execution_count": null,
   "metadata": {},
   "outputs": [],
   "source": [
    "page3 = 'https://www.auto-data.net/fr/acura-cl-ii-generation-7196'    #Inside each model, find the correct generation/series"
   ]
  },
  {
   "cell_type": "code",
   "execution_count": null,
   "metadata": {},
   "outputs": [],
   "source": [
    "page4 = 'https://www.auto-data.net/fr/acura-cl-ii-3.2-i-v6-24v-type-s-263hp-automatic-31069'   #This is the final page, retrieve the desired information from here\n",
    "\n",
    "#"
   ]
  }
 ],
 "metadata": {
  "interpreter": {
   "hash": "9551cd33bf16c35239638d01283791bf06f66b16b64b8c1df3bd1173c0151abf"
  },
  "kernelspec": {
   "display_name": "Python 3.8.12 64-bit ('Safe space': conda)",
   "language": "python",
   "name": "python3"
  },
  "language_info": {
   "codemirror_mode": {
    "name": "ipython",
    "version": 3
   },
   "file_extension": ".py",
   "mimetype": "text/x-python",
   "name": "python",
   "nbconvert_exporter": "python",
   "pygments_lexer": "ipython3",
   "version": "3.8.12"
  },
  "orig_nbformat": 4
 },
 "nbformat": 4,
 "nbformat_minor": 2
}
