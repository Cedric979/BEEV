{
 "cells": [
  {
   "cell_type": "markdown",
   "metadata": {},
   "source": [
    "# **Imports and defining variables**"
   ]
  },
  {
   "cell_type": "code",
   "execution_count": 56,
   "metadata": {},
   "outputs": [],
   "source": [
    "import pandas as pd\n",
    "import re\n",
    "import requests\n",
    "import seaborn as sns\n",
    "import matplotlib.pyplot as plt\n",
    "from bs4 import BeautifulSoup"
   ]
  },
  {
   "cell_type": "code",
   "execution_count": 90,
   "metadata": {},
   "outputs": [],
   "source": [
    "navigator = 'Microsoft Edge (Scrapping; This is my system)'\n",
    "url_allbrands_homepage = 'https://www.auto-data.net/en/allbrands'"
   ]
  },
  {
   "cell_type": "code",
   "execution_count": 91,
   "metadata": {},
   "outputs": [
    {
     "data": {
      "text/plain": [
       "<Response [200]>"
      ]
     },
     "execution_count": 91,
     "metadata": {},
     "output_type": "execute_result"
    }
   ],
   "source": [
    "html = requests.get(url, headers={'User-Agent': navigator})\n",
    "html"
   ]
  },
  {
   "cell_type": "markdown",
   "metadata": {},
   "source": [
    "# **Scraping**"
   ]
  },
  {
   "cell_type": "markdown",
   "metadata": {},
   "source": [
    "## Creating the soup and cleaning the information to get only text"
   ]
  },
  {
   "cell_type": "code",
   "execution_count": 76,
   "metadata": {},
   "outputs": [],
   "source": [
    "soup = BeautifulSoup(html.text, 'html.parser')"
   ]
  },
  {
   "cell_type": "code",
   "execution_count": 60,
   "metadata": {},
   "outputs": [
    {
     "data": {
      "text/plain": [
       "[<a class=\"marki_blok\" href=\"/en/abarth-brand-200\" title=\"Abarth - Technical Specs, Fuel consumption, Dimensions\"><img alt=\"Abarth - Technical Specs, Fuel consumption, Dimensions\" src=\"/img/logos/Abarth.png\"/><strong>Abarth</strong></a>,\n",
       " <a class=\"marki_blok\" href=\"/en/ac-brand-1\" title=\"AC - Technical Specs, Fuel consumption, Dimensions\"><img alt=\"AC - Technical Specs, Fuel consumption, Dimensions\" src=\"/img/logos/AC.png\"/><strong>AC</strong></a>,\n",
       " <a class=\"marki_blok\" href=\"/en/acura-brand-6\" title=\"Acura - Technical Specs, Fuel consumption, Dimensions\"><img alt=\"Acura - Technical Specs, Fuel consumption, Dimensions\" src=\"/img/logos/Acura.png\"/><strong>Acura</strong></a>,\n",
       " <a class=\"marki_blok\" href=\"/en/aiways-brand-301\" title=\"Aiways - Technical Specs, Fuel consumption, Dimensions\"><img alt=\"Aiways - Technical Specs, Fuel consumption, Dimensions\" src=\"/img/logos/Aiways.png\"/><strong>Aiways</strong></a>,\n",
       " <a class=\"marki_blok\" href=\"/en/aixam-brand-255\" title=\"Aixam - Technical Specs, Fuel consumption, Dimensions\"><img alt=\"Aixam - Technical Specs, Fuel consumption, Dimensions\" src=\"/img/logos/Aixam.png\"/><strong>Aixam</strong></a>]"
      ]
     },
     "execution_count": 60,
     "metadata": {},
     "output_type": "execute_result"
    }
   ],
   "source": [
    "brands = soup.find_all('a', {'class' : 'marki_blok'})\n",
    "brands[0:5]"
   ]
  },
  {
   "cell_type": "code",
   "execution_count": 61,
   "metadata": {},
   "outputs": [
    {
     "data": {
      "text/plain": [
       "['/en/abarth-brand-200',\n",
       " '/en/ac-brand-1',\n",
       " '/en/acura-brand-6',\n",
       " '/en/aiways-brand-301',\n",
       " '/en/aixam-brand-255']"
      ]
     },
     "execution_count": 61,
     "metadata": {},
     "output_type": "execute_result"
    }
   ],
   "source": [
    "#This loop is to get only the part to use in link ie whatever is after 'href='\n",
    "brand_list = re.findall('href=\"(\\S+)\"',str(brands))\n",
    "brand_list[0:5]"
   ]
  },
  {
   "cell_type": "code",
   "execution_count": 62,
   "metadata": {},
   "outputs": [
    {
     "data": {
      "text/plain": [
       "['abarth-brand-200',\n",
       " 'ac-brand-1',\n",
       " 'acura-brand-6',\n",
       " 'aiways-brand-301',\n",
       " 'aixam-brand-255']"
      ]
     },
     "execution_count": 62,
     "metadata": {},
     "output_type": "execute_result"
    }
   ],
   "source": [
    "#Looping to remove the /en since the url already has it and removing it makes it so it will default to another language\n",
    "brand_list_final = []\n",
    "for i in range(len(brand_list)):\n",
    "    brand_list_final += re.findall('en/(\\S+)', brand_list[i])\n",
    "brand_list_final[0:5]"
   ]
  },
  {
   "cell_type": "markdown",
   "metadata": {},
   "source": [
    "## Creating the loops for the actual scraping"
   ]
  },
  {
   "cell_type": "code",
   "execution_count": 149,
   "metadata": {},
   "outputs": [
    {
     "data": {
      "text/plain": [
       "['https://www.auto-data.net/en/abarth-brand-200',\n",
       " 'https://www.auto-data.net/en/ac-brand-1',\n",
       " 'https://www.auto-data.net/en/acura-brand-6',\n",
       " 'https://www.auto-data.net/en/aiways-brand-301',\n",
       " 'https://www.auto-data.net/en/aixam-brand-255']"
      ]
     },
     "execution_count": 149,
     "metadata": {},
     "output_type": "execute_result"
    }
   ],
   "source": [
    "#Looping to get the actual url for each brand\n",
    "urls_list = []\n",
    "for urls in brand_list:\n",
    "    url = 'https://www.auto-data.net'\n",
    "    urls_list += [url + urls]\n",
    "    \n",
    "\n",
    "urls_list[0:5]\n",
    "# \" \".join(urls_list)\n",
    "# urls_list"
   ]
  },
  {
   "cell_type": "code",
   "execution_count": 93,
   "metadata": {},
   "outputs": [
    {
     "data": {
      "text/plain": [
       "'https://www.auto-data.net'"
      ]
     },
     "execution_count": 93,
     "metadata": {},
     "output_type": "execute_result"
    }
   ],
   "source": [
    "url"
   ]
  },
  {
   "cell_type": "markdown",
   "metadata": {},
   "source": [
    "# **Selenium attempt**"
   ]
  },
  {
   "cell_type": "code",
   "execution_count": null,
   "metadata": {},
   "outputs": [],
   "source": [
    "!pip install webdriver-manager"
   ]
  },
  {
   "cell_type": "code",
   "execution_count": 133,
   "metadata": {},
   "outputs": [],
   "source": [
    "from getpass import getpass\n",
    "from selenium import webdriver\n",
    "from webdriver_manager.chrome import ChromeDriverManager\n",
    "from selenium.webdriver.common.keys import Keys"
   ]
  },
  {
   "cell_type": "code",
   "execution_count": 137,
   "metadata": {},
   "outputs": [
    {
     "name": "stderr",
     "output_type": "stream",
     "text": [
      "\n",
      "\n",
      "====== WebDriver manager ======\n",
      "Current google-chrome version is 96.0.4664\n",
      "Get LATEST chromedriver version for 96.0.4664 google-chrome\n",
      "Driver [C:\\Users\\Utilizador\\.wdm\\drivers\\chromedriver\\win32\\96.0.4664.45\\chromedriver.exe] found in cache\n"
     ]
    }
   ],
   "source": [
    "driver = webdriver.Chrome(ChromeDriverManager().install())\n",
    "driver.get(\"https://www.auto-data.net/en/allbrands\")"
   ]
  },
  {
   "cell_type": "code",
   "execution_count": 140,
   "metadata": {},
   "outputs": [],
   "source": [
    "soup_selenium = BeautifulSoup(driver.page_source, 'html.parser')\n"
   ]
  },
  {
   "cell_type": "code",
   "execution_count": 163,
   "metadata": {},
   "outputs": [],
   "source": [
    "models_list = []\n",
    "for page2 in urls_list:                                                #Inside each brand, find the models\n",
    "     html2 = requests.get(page2, headers={'User-Agent': navigator})\n",
    "     soup2 = BeautifulSoup(html2.text, 'html.parser')\n",
    "     models = soup2.find_all('a', {'class' : 'modeli'}) \n",
    "     for model in models:\n",
    "          models_list += re.findall('en/(\\S+)', str(model))\n",
    "\n",
    "models_list"
   ]
  },
  {
   "cell_type": "code",
   "execution_count": 66,
   "metadata": {},
   "outputs": [],
   "source": [
    "page3 = 'https://www.auto-data.net/fr/acura-cl-ii-generation-7196'    #Inside each model, find the correct generation/series"
   ]
  },
  {
   "cell_type": "code",
   "execution_count": 67,
   "metadata": {},
   "outputs": [
    {
     "data": {
      "text/plain": [
       "[<table class=\"cardetailsout car2\"><caption><h2 class=\"car\">Alfa Romeo MiTo 1.6 JTDm (120 Hp) 2009, 2010, 2011, 2012, 2013 Specs</h2></caption><tr class=\"no\"><th class=\"no\" colspan=\"2\"><strong class=\"car\" id=\"_general\">General information</strong></th></tr>\n",
       " <tr><th>Brand</th><td><a href=\"/en/alfa-romeo-brand-11\">Alfa Romeo</a></td></tr>\n",
       " <tr><th>Model </th><td><a href=\"/en/alfa-romeo-mito-model-178\">MiTo</a></td></tr>\n",
       " <tr><th>Generation  </th><td><a href=\"/en/alfa-romeo-mito-generation-363\">MiTo</a></td></tr>\n",
       " <tr><th>Modification (Engine) </th><td>1.6 JTDm (120 Hp) </td></tr>\n",
       " <tr><th>Start of production </th><td>2009 year </td></tr>\n",
       " <tr><th>End of production </th><td>2013 year </td></tr>\n",
       " <tr><th>Powertrain Architecture </th><td>Internal Combustion engine </td></tr>\n",
       " <tr><th>Body type</th><td>Hatchback </td></tr>\n",
       " <tr><th>Seats </th><td>5 </td></tr>\n",
       " <tr><th>Doors </th><td>2/3 </td></tr>\n",
       " <tr class=\"no\"><th class=\"no\" colspan=\"2\"><strong class=\"car\" id=\"_performance\">Performance specs</strong></th></tr><tr>\n",
       " <th>Fuel consumption (economy) - urban </th>\n",
       " <td>5.9 l/100 km\n",
       " \t\t\t\t\t\t\t<span class=\"val2\">39.87 US mpg<br>47.88 UK mpg<br>16.95 km/l</br></br></span></td>\n",
       " </tr>\n",
       " <tr>\n",
       " <th>Fuel consumption (economy) - extra urban</th>\n",
       " <td>4.1 l/100 km\n",
       " \t\t\t\t\t\t\t<span class=\"val2\">57.37 US mpg<br>68.9 UK mpg<br>24.39 km/l</br></br></span></td></tr>\n",
       " <tr>\n",
       " <th>Fuel consumption (economy) - combined</th>\n",
       " <td>4.8 l/100 km\n",
       " \t\t\t\t\t\t\t<span class=\"val2\">49 US mpg<br>58.85 UK mpg<br>20.83 km/l</br></br></span></td></tr>\n",
       " <tr><th>CO<sub>2</sub> emissions</th><td>122 g/km </td></tr>\n",
       " <tr><th>Fuel Type </th><td>Diesel </td></tr>\n",
       " <tr><th>Acceleration 0 - 100 km/h</th><td>9.9 sec </td></tr>\n",
       " <tr><th>Acceleration 0 - 62 mph</th><td>9.9 sec </td></tr>\n",
       " <tr><th>Acceleration 0 - 60 mph (Calculated by Auto-Data.net) </th><td>9.4 sec </td></tr>\n",
       " <tr>\n",
       " <th>Maximum speed </th>\n",
       " <td>198 km/h\n",
       " \t\t\t\t\t\t<span class=\"val2\">123.03 mph</span></td></tr>\n",
       " <tr><th>Weight-to-power ratio </th><td>10 kg/Hp, 99.6 Hp/tonne </td></tr>\n",
       " <tr><th>Weight-to-torque ratio </th><td>3.8 kg/Nm, 265.6 Nm/tonne </td></tr>\n",
       " <tr class=\"no\"><th class=\"no\" colspan=\"2\"><strong class=\"car\" id=\"_engine\">Engine specs</strong></th></tr><tr><th>Power </th><td>120 Hp @ 3750 rpm. </td></tr>\n",
       " <tr><th>Power per litre </th><td>75.1 Hp/l </td></tr>\n",
       " <tr>\n",
       " <th>Torque </th>\n",
       " <td>320 Nm @ 1750 rpm.\n",
       " \t\t\t\t\t\t<span class=\"val2\">236.02 lb.-ft. @ 1750 rpm.</span></td></tr>\n",
       " <tr><th>Engine location </th><td>Front, Transverse </td></tr>\n",
       " <tr><th>Engine Model/Code </th><td>955A3000 </td></tr>\n",
       " <tr>\n",
       " <th>Engine displacement </th>\n",
       " <td>1598 cm<sup>3</sup>\n",
       " <span class=\"val2\">97.52 cu. in.</span></td></tr>\n",
       " <tr><th>Number of cylinders </th><td>4 </td></tr>\n",
       " <tr><th>Position of cylinders </th><td>Inline </td></tr>\n",
       " <tr><th>Number of valves per cylinder </th><td>4 </td></tr>\n",
       " <tr><th>Fuel System </th><td>Diesel Commonrail </td></tr>\n",
       " <tr><th>Engine aspiration </th><td>Turbocharger, Intercooler </td></tr>\n",
       " <tr>\n",
       " <th>Engine oil capacity </th>\n",
       " <td>4.6 l\n",
       " \t\t\t\t\t<span class=\"val2\">4.86 US qt | 4.05 UK qt</span></td></tr>\n",
       " <tr>\n",
       " <th>Oil viscosity </th><td><img alt=\"Log in to see.\" class=\"datalock\" src=\"/img/lock.png\"/><a href=\"/en/login\" rel=\"nofollow\">Log in to see.</a></td></tr>\n",
       " <tr>\n",
       " <th>Coolant </th>\n",
       " <td>5.7 l\n",
       " \t\t\t\t\t<span class=\"val2\">6.02 US qt | 5.02 UK qt</span></td></tr>\n",
       " <tr class=\"no\"><th class=\"no2\" colspan=\"2\"><div class=\"adin top\">\n",
       " <!-- auto-data desktop incar -->\n",
       " <ins class=\"adsbygoogle\" data-ad-client=\"ca-pub-9633304932986032\" data-ad-slot=\"4271739190\" style=\"display:inline-block;width:634px;height:280px\"></ins>\n",
       " <script>\n",
       "      (adsbygoogle = window.adsbygoogle || []).push({});\n",
       " </script>\n",
       " </div></th></tr><tr class=\"no\"><th class=\"no\" colspan=\"2\"><strong class=\"car\" id=\"_volume\">Space, Volume and weights</strong></th></tr><tr>\n",
       " <th>Kerb Weight </th>\n",
       " <td>1205 kg\n",
       " \t\t\t\t\t<span class=\"val2\">2656.57 lbs.</span></td></tr>\n",
       " <tr>\n",
       " <th>Trunk (boot) space - minimum </th>\n",
       " <td>270 l\n",
       " \t\t\t\t\t<span class=\"val2\">9.53 cu. ft.</span></td></tr>\n",
       " <tr>\n",
       " <th>Fuel tank capacity </th>\n",
       " <td>45 l\n",
       " \t\t\t\t\t\t<span class=\"val2\">11.89 US gal | 9.9 UK gal</span></td></tr>\n",
       " <tr class=\"no\"><th class=\"no\" colspan=\"2\"><strong class=\"car\" id=\"_dimensions\">Dimensions</strong></th></tr><tr>\n",
       " <th>Length </th>\n",
       " <td>4060 mm\n",
       " \t\t\t\t\t<span class=\"val2\">159.84 in.</span></td></tr>\n",
       " <tr>\n",
       " <th>Width </th>\n",
       " <td>1720 mm\n",
       " \t\t\t\t\t<span class=\"val2\">67.72 in.</span></td></tr>\n",
       " <tr>\n",
       " <th>Height </th>\n",
       " <td>1440 mm\n",
       " \t\t\t\t\t<span class=\"val2\">56.69 in.</span></td></tr>\n",
       " <tr>\n",
       " <th>Wheelbase </th>\n",
       " <td>2511 mm\n",
       " \t\t\t\t\t<span class=\"val2\">98.86 in.</span></td></tr>\n",
       " <tr>\n",
       " <th>Minimum turning circle (turning diameter) </th>\n",
       " <td>11.2 m\n",
       " \t\t\t\t\t<span class=\"val2\">36.75 ft.</span></td></tr>\n",
       " <tr class=\"no\"><th class=\"no\" colspan=\"2\"><strong class=\"car\" id=\"_drivetrain\">Drivetrain, brakes and suspension specs</strong></th></tr><tr><th>Drivetrain Architecture </th><td>The Internal combustion engine (ICE) drives the front wheels of the vehicle. </td></tr>\n",
       " <tr><th>Drive wheel </th><td>Front wheel drive </td></tr>\n",
       " <tr><th>Number of Gears (manual transmission) </th><td>6 </td></tr>\n",
       " <tr><th>Front suspension </th><td>McPherson </td></tr>\n",
       " <tr><th>Front brakes</th><td>Ventilated discs </td></tr>\n",
       " <tr><th>Rear brakes</th><td>Disc </td></tr>\n",
       " <tr><th>Assisting systems</th><td>ABS (Anti-lock braking system)<br> </br></td></tr>\n",
       " <tr><th>Steering type </th><td>Steering rack and pinion </td></tr>\n",
       " <tr><th>Power steering </th><td>Electric Steering </td></tr>\n",
       " <tr> <th>Tires size</th> <td>195/55 R16 </td></tr>\n",
       " <tr><th>Wheel rims size</th><td>16 </td></tr>\n",
       " <tr class=\"no\"><th class=\"no2\" colspan=\"2\"><div class=\"adin top bottom\">\n",
       " <!-- auto-data desktop incar -->\n",
       " <ins class=\"adsbygoogle\" data-ad-client=\"ca-pub-9633304932986032\" data-ad-slot=\"4271739190\" style=\"display:inline-block;width:634px;height:280px\"></ins>\n",
       " <script>\n",
       "      (adsbygoogle = window.adsbygoogle || []).push({});\n",
       " </script>\n",
       " </div></th></tr></table>]"
      ]
     },
     "execution_count": 67,
     "metadata": {},
     "output_type": "execute_result"
    }
   ],
   "source": [
    "page4 = 'https://www.auto-data.net/en/alfa-romeo-mito-1.6-jtdm-120hp-16680'   #This is the final page, retrieve the desired information from here\n",
    "#\n",
    "html4 = requests.get(page4, headers={'User-Agent': navigator})\n",
    "\n",
    "soup4 = BeautifulSoup(html4.text, 'html.parser')\n",
    "specs = soup4.find_all('table', {'class' : 'cardetailsout car2'})\n",
    "specs[0:5]"
   ]
  },
  {
   "cell_type": "code",
   "execution_count": 68,
   "metadata": {},
   "outputs": [
    {
     "name": "stdout",
     "output_type": "stream",
     "text": [
      "Requirement already satisfied: html5lib in c:\\users\\utilizador\\anaconda3\\envs\\safe space\\lib\\site-packages (1.1)\n",
      "Requirement already satisfied: six>=1.9 in c:\\users\\utilizador\\anaconda3\\envs\\safe space\\lib\\site-packages (from html5lib) (1.16.0)\n",
      "Requirement already satisfied: webencodings in c:\\users\\utilizador\\anaconda3\\envs\\safe space\\lib\\site-packages (from html5lib) (0.5.1)\n"
     ]
    }
   ],
   "source": [
    "!pip install html5lib"
   ]
  },
  {
   "cell_type": "code",
   "execution_count": 55,
   "metadata": {},
   "outputs": [
    {
     "data": {
      "text/html": [
       "<div>\n",
       "<style scoped>\n",
       "    .dataframe tbody tr th:only-of-type {\n",
       "        vertical-align: middle;\n",
       "    }\n",
       "\n",
       "    .dataframe tbody tr th {\n",
       "        vertical-align: top;\n",
       "    }\n",
       "\n",
       "    .dataframe thead th {\n",
       "        text-align: right;\n",
       "    }\n",
       "</style>\n",
       "<table border=\"1\" class=\"dataframe\">\n",
       "  <thead>\n",
       "    <tr style=\"text-align: right;\">\n",
       "      <th>General information</th>\n",
       "      <th>Body type</th>\n",
       "      <th>CO2 emissions</th>\n",
       "      <th>Fuel Type</th>\n",
       "      <th>Power</th>\n",
       "      <th>Fuel tank(l)</th>\n",
       "      <th>Fuel consumption(l/100km)</th>\n",
       "      <th>Power(Hp)</th>\n",
       "      <th>Range (Km)</th>\n",
       "    </tr>\n",
       "  </thead>\n",
       "  <tbody>\n",
       "    <tr>\n",
       "      <th>General information.1</th>\n",
       "      <td>Hatchback</td>\n",
       "      <td>122 g/km</td>\n",
       "      <td>Diesel</td>\n",
       "      <td>120 Hp @ 3750 rpm.</td>\n",
       "      <td>45</td>\n",
       "      <td>4.8</td>\n",
       "      <td>120</td>\n",
       "      <td>937.5</td>\n",
       "    </tr>\n",
       "  </tbody>\n",
       "</table>\n",
       "</div>"
      ],
      "text/plain": [
       "General information    Body type CO2 emissions Fuel Type               Power  \\\n",
       "General information.1  Hatchback      122 g/km    Diesel  120 Hp @ 3750 rpm.   \n",
       "\n",
       "General information   Fuel tank(l) Fuel consumption(l/100km) Power(Hp)  \\\n",
       "General information.1           45                       4.8       120   \n",
       "\n",
       "General information    Range (Km)  \n",
       "General information.1       937.5  "
      ]
     },
     "execution_count": 55,
     "metadata": {},
     "output_type": "execute_result"
    }
   ],
   "source": [
    "what = pd.read_html(page4)[1]  \n",
    "what\n",
    "\n",
    "what2 = what[(what['General information'] == 'CO2 emissions') \n",
    "|(what['General information'] == 'Body type')\n",
    "|(what['General information'] == 'Fuel tank capacity')\n",
    "|(what['General information'] == 'Fuel consumption (economy) - combined')\n",
    "|(what['General information'] == 'Fuel Type')\n",
    "|(what['General information'] == 'Power')]\n",
    "what2.index = what2['General information']\n",
    "what3 = what2.T\n",
    "what3.drop(axis = 0, labels = 'General information', inplace = True)\n",
    "what3['Fuel tank(l)'] = what3['Fuel tank capacity'].apply(lambda x : x.split(' ')[0])\n",
    "what3['Fuel consumption(l/100km)'] = what3['Fuel consumption (economy) - combined'].apply(lambda x : x.split(' ')[0])\n",
    "what3['Power(Hp)'] = what3['Power'].apply(lambda x: x.split(' ')[0])\n",
    "what3['Range (Km)'] = what3[['Fuel tank(l)','Fuel consumption(l/100km)']].apply(lambda item: int(item[0])/float(item[1])*100,axis=1)\n",
    "\n",
    "what4 = what3\n",
    "what4.drop(columns = ['Fuel consumption (economy) - combined', 'Fuel tank capacity'], inplace = True)\n",
    "what4"
   ]
  },
  {
   "cell_type": "code",
   "execution_count": null,
   "metadata": {},
   "outputs": [],
   "source": []
  }
 ],
 "metadata": {
  "interpreter": {
   "hash": "9551cd33bf16c35239638d01283791bf06f66b16b64b8c1df3bd1173c0151abf"
  },
  "kernelspec": {
   "display_name": "Python 3 (ipykernel)",
   "language": "python",
   "name": "python3"
  },
  "language_info": {
   "codemirror_mode": {
    "name": "ipython",
    "version": 3
   },
   "file_extension": ".py",
   "mimetype": "text/x-python",
   "name": "python",
   "nbconvert_exporter": "python",
   "pygments_lexer": "ipython3",
   "version": "3.8.12"
  }
 },
 "nbformat": 4,
 "nbformat_minor": 2
}
