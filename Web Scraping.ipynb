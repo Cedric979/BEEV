{
 "cells": [
  {
   "cell_type": "markdown",
   "metadata": {},
   "source": [
    "# **Imports and defining variables**"
   ]
  },
  {
   "cell_type": "code",
   "execution_count": 2,
   "metadata": {},
   "outputs": [],
   "source": [
    "import pandas as pd\n",
    "import re\n",
    "import requests\n",
    "import seaborn as sns\n",
    "import matplotlib.pyplot as plt\n",
    "from bs4 import BeautifulSoup"
   ]
  },
  {
   "cell_type": "code",
   "execution_count": 3,
   "metadata": {},
   "outputs": [],
   "source": [
    "navigator = 'Microsoft Edge (Scrapping; This is my system)'\n",
    "url = 'https://www.auto-data.net/en'"
   ]
  },
  {
   "cell_type": "code",
   "execution_count": 4,
   "metadata": {},
   "outputs": [
    {
     "data": {
      "text/plain": [
       "<Response [200]>"
      ]
     },
     "execution_count": 4,
     "metadata": {},
     "output_type": "execute_result"
    }
   ],
   "source": [
    "html = requests.get(url, headers={'User-Agent': navigator})\n",
    "html"
   ]
  },
  {
   "cell_type": "markdown",
   "metadata": {},
   "source": [
    "# **Scraping**"
   ]
  },
  {
   "cell_type": "markdown",
   "metadata": {},
   "source": [
    "## Creating the soup and cleaning the information to get only text"
   ]
  },
  {
   "cell_type": "code",
   "execution_count": 5,
   "metadata": {},
   "outputs": [],
   "source": [
    "soup = BeautifulSoup(html.text, 'html.parser')"
   ]
  },
  {
   "cell_type": "code",
   "execution_count": 6,
   "metadata": {},
   "outputs": [
    {
     "data": {
      "text/plain": [
       "<a class=\"marki_blok\" href=\"/en/alfa-romeo-brand-11\" title=\"Alfa Romeo - Technical Specs, Fuel consumption, Dimensions\"><img alt=\"Alfa Romeo - Technical Specs, Fuel consumption, Dimensions\" src=\"/img/logos/Alfa_Romeo.png\"/><strong>Alfa Romeo</strong></a>"
      ]
     },
     "execution_count": 6,
     "metadata": {},
     "output_type": "execute_result"
    }
   ],
   "source": [
    "brands = soup.find_all('a', {'class' : 'marki_blok'})\n",
    "brands[1]"
   ]
  },
  {
   "cell_type": "code",
   "execution_count": 17,
   "metadata": {},
   "outputs": [
    {
     "data": {
      "text/plain": [
       "['/en/acura-brand-6',\n",
       " '/en/alfa-romeo-brand-11',\n",
       " '/en/alpina-brand-16',\n",
       " '/en/aston-martin-brand-36',\n",
       " '/en/audi-brand-41']"
      ]
     },
     "execution_count": 17,
     "metadata": {},
     "output_type": "execute_result"
    }
   ],
   "source": [
    "#This loop is to get only the part to use in link ie whatever is after 'href='\n",
    "brand_list = re.findall('href=\"(\\S+)\"',str(brands))\n",
    "brand_list[0:5]"
   ]
  },
  {
   "cell_type": "code",
   "execution_count": 16,
   "metadata": {},
   "outputs": [
    {
     "data": {
      "text/plain": [
       "['acura-brand-6',\n",
       " 'alfa-romeo-brand-11',\n",
       " 'alpina-brand-16',\n",
       " 'aston-martin-brand-36',\n",
       " 'audi-brand-41']"
      ]
     },
     "execution_count": 16,
     "metadata": {},
     "output_type": "execute_result"
    }
   ],
   "source": [
    "#Looping to remove the /en since the url already has it and removing it makes it so it will default to another language\n",
    "brand_list_final = []\n",
    "for i in range(len(brand_list)):\n",
    "    brand_list_final += re.findall('en/(\\S+)', brand_list[i])\n",
    "brand_list_final[0:5]"
   ]
  },
  {
   "cell_type": "markdown",
   "metadata": {},
   "source": [
    "## Creating the loops for the actual scraping"
   ]
  },
  {
   "cell_type": "code",
   "execution_count": 27,
   "metadata": {},
   "outputs": [
    {
     "name": "stdout",
     "output_type": "stream",
     "text": [
      "https://www.auto-data.net/enacura-brand-6\n",
      "https://www.auto-data.net/enalfa-romeo-brand-11\n",
      "https://www.auto-data.net/enalpina-brand-16\n",
      "https://www.auto-data.net/enaston-martin-brand-36\n",
      "https://www.auto-data.net/enaudi-brand-41\n",
      "https://www.auto-data.net/enbentley-brand-66\n",
      "https://www.auto-data.net/enbmw-brand-86\n",
      "https://www.auto-data.net/enbugatti-brand-106\n",
      "https://www.auto-data.net/encadillac-brand-121\n",
      "https://www.auto-data.net/enchevrolet-brand-156\n",
      "https://www.auto-data.net/enchrysler-brand-161\n",
      "https://www.auto-data.net/encitroen-brand-166\n",
      "https://www.auto-data.net/encupra-brand-256\n",
      "https://www.auto-data.net/endacia-brand-181\n",
      "https://www.auto-data.net/endaewoo-brand-191\n",
      "https://www.auto-data.net/endaihatsu-brand-2\n",
      "https://www.auto-data.net/endodge-brand-32\n",
      "https://www.auto-data.net/ends-brand-198\n",
      "https://www.auto-data.net/enferrari-brand-62\n",
      "https://www.auto-data.net/enfiat-brand-67\n",
      "https://www.auto-data.net/enford-brand-72\n",
      "https://www.auto-data.net/engmc-brand-97\n",
      "https://www.auto-data.net/engreat-wall-brand-107\n",
      "https://www.auto-data.net/enhonda-brand-127\n",
      "https://www.auto-data.net/enhummer-brand-137\n",
      "https://www.auto-data.net/enhyundai-brand-147\n",
      "https://www.auto-data.net/eninfiniti-brand-152\n",
      "https://www.auto-data.net/enjaguar-brand-3\n",
      "https://www.auto-data.net/enjeep-brand-8\n",
      "https://www.auto-data.net/enkia-brand-23\n",
      "https://www.auto-data.net/enkoenigsegg-brand-28\n",
      "https://www.auto-data.net/enlada-brand-140\n",
      "https://www.auto-data.net/enlamborghini-brand-38\n",
      "https://www.auto-data.net/enlancia-brand-43\n",
      "https://www.auto-data.net/enland-rover-brand-48\n",
      "https://www.auto-data.net/enlexus-brand-58\n",
      "https://www.auto-data.net/enlotus-brand-78\n",
      "https://www.auto-data.net/enmaserati-brand-108\n",
      "https://www.auto-data.net/enmazda-brand-118\n",
      "https://www.auto-data.net/enmclaren-brand-123\n",
      "https://www.auto-data.net/enmercedes-benz-brand-138\n",
      "https://www.auto-data.net/enmg-brand-153\n",
      "https://www.auto-data.net/enmini-brand-168\n",
      "https://www.auto-data.net/enmitsubishi-brand-173\n",
      "https://www.auto-data.net/ennio-brand-295\n",
      "https://www.auto-data.net/ennissan-brand-4\n",
      "https://www.auto-data.net/enopel-brand-19\n",
      "https://www.auto-data.net/enpagani-brand-29\n",
      "https://www.auto-data.net/enpeugeot-brand-49\n",
      "https://www.auto-data.net/enporsche-brand-64\n",
      "https://www.auto-data.net/enram-brand-240\n",
      "https://www.auto-data.net/enrenault-brand-99\n",
      "https://www.auto-data.net/enrolls-royce-brand-109\n",
      "https://www.auto-data.net/enrover-brand-119\n",
      "https://www.auto-data.net/ensaab-brand-124\n",
      "https://www.auto-data.net/enseat-brand-144\n",
      "https://www.auto-data.net/enskoda-brand-154\n",
      "https://www.auto-data.net/ensmart-brand-164\n",
      "https://www.auto-data.net/ensubaru-brand-189\n",
      "https://www.auto-data.net/ensuzuki-brand-194\n",
      "https://www.auto-data.net/entesla-brand-197\n",
      "https://www.auto-data.net/entoyota-brand-40\n",
      "https://www.auto-data.net/envauxhall-brand-60\n",
      "https://www.auto-data.net/envolkswagen-brand-80\n",
      "https://www.auto-data.net/envolvo-brand-85\n",
      "https://www.auto-data.net/enallbrands\n"
     ]
    },
    {
     "data": {
      "text/plain": [
       "'https://www.auto-data.net/enallbrands'"
      ]
     },
     "execution_count": 27,
     "metadata": {},
     "output_type": "execute_result"
    }
   ],
   "source": [
    "#Looping to get the actual url for each brand\n",
    "urls_list = []\n",
    "for urls in brand_list_final:\n",
    "    url = 'https://www.auto-data.net/en'\n",
    "    url += urls\n",
    "    print(url)\n",
    "\n",
    "url\n",
    "# \" \".join(urls_list)\n",
    "# urls_list"
   ]
  },
  {
   "cell_type": "code",
   "execution_count": null,
   "metadata": {},
   "outputs": [],
   "source": [
    "page2 = 'https://www.auto-data.net/fr/acura-cl-model-138'         #Inside each brand, find the models"
   ]
  },
  {
   "cell_type": "code",
   "execution_count": null,
   "metadata": {},
   "outputs": [],
   "source": [
    "page3 = 'https://www.auto-data.net/fr/acura-cl-ii-generation-7196'    #Inside each model, find the correct generation/series"
   ]
  },
  {
   "cell_type": "code",
   "execution_count": null,
   "metadata": {},
   "outputs": [],
   "source": [
    "page4 = 'https://www.auto-data.net/fr/acura-cl-ii-3.2-i-v6-24v-type-s-263hp-automatic-31069'   #This is the final page, retrieve the desired information from here\n",
    "\n",
    "#"
   ]
  }
 ],
 "metadata": {
  "interpreter": {
   "hash": "9551cd33bf16c35239638d01283791bf06f66b16b64b8c1df3bd1173c0151abf"
  },
  "kernelspec": {
   "display_name": "Python 3 (ipykernel)",
   "language": "python",
   "name": "python3"
  },
  "language_info": {
   "codemirror_mode": {
    "name": "ipython",
    "version": 3
   },
   "file_extension": ".py",
   "mimetype": "text/x-python",
   "name": "python",
   "nbconvert_exporter": "python",
   "pygments_lexer": "ipython3",
   "version": "3.8.12"
  }
 },
 "nbformat": 4,
 "nbformat_minor": 2
}
