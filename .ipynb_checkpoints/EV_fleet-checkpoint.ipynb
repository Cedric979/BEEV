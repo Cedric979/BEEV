{
 "cells": [
  {
   "cell_type": "code",
   "execution_count": 2,
   "id": "28f323df",
   "metadata": {},
   "outputs": [
    {
     "name": "stdout",
     "output_type": "stream",
     "text": [
      "Please check to create the DB with Beev Electic Vehicle Specs Data\n",
      "Alex, please answer\n"
     ]
    }
   ],
   "source": [
    "print(\"Please check to create the DB with Beev Electic Vehicle Specs Data\")\n",
    "print(\"Alex, please answer\")"
   ]
  },
  {
   "cell_type": "code",
   "execution_count": 3,
   "id": "2d5aacd5",
   "metadata": {},
   "outputs": [],
   "source": [
    "#LIBRARIES\n",
    "import numpy as np # linear algebra\n",
    "import pandas as pd # data processing, CSV file I/O (e.g. pd.read_csv)\n",
    "#Graphics\n",
    "import matplotlib.pyplot as plt\n",
    "import seaborn as sns\n",
    "#KNeighbors\n",
    "from sklearn.neighbors import NearestNeighbors\n",
    "#Scalers\n",
    "from sklearn import preprocessing\n",
    "from sklearn.preprocessing import StandardScaler, MinMaxScaler\n",
    "#Data selection\n",
    "from sklearn.model_selection import train_test_split\n",
    "from sklearn.model_selection import GridSearchCV\n",
    "from sklearn.model_selection import RandomizedSearchCV\n",
    "from sklearn.decomposition import PCA\n",
    "#METRICS\n",
    "from sklearn.model_selection import cross_val_score\n",
    "from sklearn.metrics import precision_score, recall_score,accuracy_score\n",
    "from sklearn.metrics import mean_squared_error\n",
    "#RANDOM\n",
    "import random as rd"
   ]
  },
  {
   "cell_type": "code",
   "execution_count": 4,
   "id": "7078ca1a",
   "metadata": {},
   "outputs": [],
   "source": [
    "df = pd.read_csv(\"Beev Electric Vehicle Specs Data.csv\")"
   ]
  },
  {
   "cell_type": "code",
   "execution_count": 40,
   "id": "68d4b85d",
   "metadata": {},
   "outputs": [
    {
     "data": {
      "text/plain": [
       "Index(['Full Name', 'Model', 'Brand', 'Acceleration (0-100 km/h)',\n",
       "       'Range (km)', 'Average Winter Range', 'Highway Winter Range',\n",
       "       'City Winter Range', 'Average Summer Range', 'Highway Summer Range',\n",
       "       'City Summer Range', 'Optimal Slow Charge', 'Optimal Fast Charge',\n",
       "       'Battery Capacity (kW)', 'Useable Battery Capacity', 'Category',\n",
       "       'Government Incentive Category for Help', 'Vehicle Consumption (Wh)',\n",
       "       'Average Winter Consumption', 'Highway Winter Consumption',\n",
       "       'City Winter Consumption', 'Average Summer Consumption',\n",
       "       'Highway Summer Consumption', 'City Summer Consumption', 'Torque',\n",
       "       'Availability - deleted', 'Distance', 'Main Finishes', 'Finishes',\n",
       "       'Height (mm)', 'Main Image', 'Product Image', 'Images', 'Width',\n",
       "       'Last Edition of Finishes Date', 'Length (mm)', 'Label',\n",
       "       'Average Range', 'Seats', 'Empty Weight (kg)', 'Max Price', 'Min Price',\n",
       "       'Slow Charge Port', 'Fast Charge Port', 'Main Price',\n",
       "       'Max Power for Slow Charge', 'Max Power for Fast Charge',\n",
       "       'Power output (hp)', 'Power output KW', 'Status', 'Height - deleted',\n",
       "       'Charging Time 11 kW', 'Charging Time 175 kW', 'Charging Time 2,3 kW',\n",
       "       'Charging Time 22 kW', 'Charging Time 3,7 kW', 'Charging Time 350 kW',\n",
       "       'Charging Time 50 kW', 'Charging Time 7,4 kW', 'Transmission',\n",
       "       'Type of Driver', 'Max Speed', 'Max Trunk Volume (mm)',\n",
       "       'Min Trunk Volume (mm)', 'youtube_video', 'Creation Date',\n",
       "       'Modified Date', 'Slug', 'Creator', 'unique id'],\n",
       "      dtype='object')"
      ]
     },
     "execution_count": 40,
     "metadata": {},
     "output_type": "execute_result"
    }
   ],
   "source": [
    "df.columns"
   ]
  },
  {
   "cell_type": "code",
   "execution_count": 6,
   "id": "a56a6fa7",
   "metadata": {},
   "outputs": [],
   "source": [
    "nan_values = df.isna().sum()"
   ]
  },
  {
   "cell_type": "code",
   "execution_count": 28,
   "id": "8179f8f4",
   "metadata": {},
   "outputs": [],
   "source": [
    "#New Dataframe with just columns I thought were good idea to display. \n",
    "#However, I already put on trello a question so we know which information to display at the end\n",
    "df_new = pd.DataFrame(zip(df['Full Name'],df['Brand'], df['Model'], df['Main Price'], df['Category']))"
   ]
  },
  {
   "cell_type": "code",
   "execution_count": 29,
   "id": "9ba7c72f",
   "metadata": {},
   "outputs": [],
   "source": [
    "#Renaming the columns to the correct name\n",
    "df_new.rename(columns = {0:'Full Name', 1:'Brand', 2:'Model', 3:'Main Price',4: 'Category'}, inplace = True)"
   ]
  },
  {
   "cell_type": "code",
   "execution_count": 30,
   "id": "581cc2bc",
   "metadata": {},
   "outputs": [],
   "source": [
    "df_new['Main Price'].value_counts(dropna = False)   # We either drop the Nans or we fill with the average\n",
    "df_new['Main Price'].fillna(df_new['Main Price'].mean(), inplace = True)  #The mean is ok since thre are very few values. But giving a wrong price for even 1 care can be really bad"
   ]
  },
  {
   "cell_type": "code",
   "execution_count": 31,
   "id": "a910048a",
   "metadata": {},
   "outputs": [],
   "source": [
    "df_new['Category'].value_counts(dropna = False)         #I would say we can use get_dummies for the Category so we can use it as X?\n",
    "df_new = pd.get_dummies(df_new, columns=['Category'])   #The thing about the dummies, is, how will the user input the correct Category?\n",
    "#An idea would be to rename the columns to just for example: 'SUV' or 'Citadine'"
   ]
  },
  {
   "cell_type": "code",
   "execution_count": 32,
   "id": "e9299ddf",
   "metadata": {},
   "outputs": [
    {
     "data": {
      "text/plain": [
       "Index(['Full Name', 'Brand', 'Model', 'Main Price', 'Category_Berline',\n",
       "       'Category_Citadine', 'Category_Compacte', 'Category_SUV',\n",
       "       'Category_Utilitaire', 'Category_Van'],\n",
       "      dtype='object')"
      ]
     },
     "execution_count": 32,
     "metadata": {},
     "output_type": "execute_result"
    }
   ],
   "source": [
    "df_new.columns                                        "
   ]
  },
  {
   "cell_type": "code",
   "execution_count": 33,
   "id": "c3ce62ce",
   "metadata": {},
   "outputs": [
    {
     "data": {
      "text/html": [
       "<div>\n",
       "<style scoped>\n",
       "    .dataframe tbody tr th:only-of-type {\n",
       "        vertical-align: middle;\n",
       "    }\n",
       "\n",
       "    .dataframe tbody tr th {\n",
       "        vertical-align: top;\n",
       "    }\n",
       "\n",
       "    .dataframe thead th {\n",
       "        text-align: right;\n",
       "    }\n",
       "</style>\n",
       "<table border=\"1\" class=\"dataframe\">\n",
       "  <thead>\n",
       "    <tr style=\"text-align: right;\">\n",
       "      <th></th>\n",
       "      <th>Full Name</th>\n",
       "      <th>Brand</th>\n",
       "      <th>Model</th>\n",
       "      <th>Main Price</th>\n",
       "      <th>Category_Berline</th>\n",
       "      <th>Category_Citadine</th>\n",
       "      <th>Category_Compacte</th>\n",
       "      <th>Category_SUV</th>\n",
       "      <th>Category_Utilitaire</th>\n",
       "      <th>Category_Van</th>\n",
       "    </tr>\n",
       "  </thead>\n",
       "  <tbody>\n",
       "    <tr>\n",
       "      <th>0</th>\n",
       "      <td>Aiways U5</td>\n",
       "      <td>Aiways</td>\n",
       "      <td>U5</td>\n",
       "      <td>39300.0</td>\n",
       "      <td>0</td>\n",
       "      <td>0</td>\n",
       "      <td>0</td>\n",
       "      <td>1</td>\n",
       "      <td>0</td>\n",
       "      <td>0</td>\n",
       "    </tr>\n",
       "    <tr>\n",
       "      <th>1</th>\n",
       "      <td>Audi e-tron 50 quattro</td>\n",
       "      <td>Audi</td>\n",
       "      <td>e-tron 50</td>\n",
       "      <td>71900.0</td>\n",
       "      <td>0</td>\n",
       "      <td>0</td>\n",
       "      <td>0</td>\n",
       "      <td>1</td>\n",
       "      <td>0</td>\n",
       "      <td>0</td>\n",
       "    </tr>\n",
       "    <tr>\n",
       "      <th>2</th>\n",
       "      <td>Audi e-tron 55 quattro</td>\n",
       "      <td>Audi</td>\n",
       "      <td>e-tron 55</td>\n",
       "      <td>84200.0</td>\n",
       "      <td>0</td>\n",
       "      <td>0</td>\n",
       "      <td>0</td>\n",
       "      <td>1</td>\n",
       "      <td>0</td>\n",
       "      <td>0</td>\n",
       "    </tr>\n",
       "    <tr>\n",
       "      <th>3</th>\n",
       "      <td>Audi e-tron GT quattro</td>\n",
       "      <td>Audi</td>\n",
       "      <td>e-tron GT quattro</td>\n",
       "      <td>103040.0</td>\n",
       "      <td>1</td>\n",
       "      <td>0</td>\n",
       "      <td>0</td>\n",
       "      <td>0</td>\n",
       "      <td>0</td>\n",
       "      <td>0</td>\n",
       "    </tr>\n",
       "    <tr>\n",
       "      <th>4</th>\n",
       "      <td>Audi e-tron GT RS</td>\n",
       "      <td>Audi</td>\n",
       "      <td>e-tron GT RS</td>\n",
       "      <td>142830.0</td>\n",
       "      <td>1</td>\n",
       "      <td>0</td>\n",
       "      <td>0</td>\n",
       "      <td>0</td>\n",
       "      <td>0</td>\n",
       "      <td>0</td>\n",
       "    </tr>\n",
       "  </tbody>\n",
       "</table>\n",
       "</div>"
      ],
      "text/plain": [
       "                Full Name   Brand              Model  Main Price  \\\n",
       "0               Aiways U5  Aiways                 U5     39300.0   \n",
       "1  Audi e-tron 50 quattro    Audi          e-tron 50     71900.0   \n",
       "2  Audi e-tron 55 quattro    Audi          e-tron 55     84200.0   \n",
       "3  Audi e-tron GT quattro    Audi  e-tron GT quattro    103040.0   \n",
       "4       Audi e-tron GT RS    Audi       e-tron GT RS    142830.0   \n",
       "\n",
       "   Category_Berline  Category_Citadine  Category_Compacte  Category_SUV  \\\n",
       "0                 0                  0                  0             1   \n",
       "1                 0                  0                  0             1   \n",
       "2                 0                  0                  0             1   \n",
       "3                 1                  0                  0             0   \n",
       "4                 1                  0                  0             0   \n",
       "\n",
       "   Category_Utilitaire  Category_Van  \n",
       "0                    0             0  \n",
       "1                    0             0  \n",
       "2                    0             0  \n",
       "3                    0             0  \n",
       "4                    0             0  "
      ]
     },
     "execution_count": 33,
     "metadata": {},
     "output_type": "execute_result"
    }
   ],
   "source": [
    "df_new.head()"
   ]
  },
  {
   "cell_type": "code",
   "execution_count": 34,
   "id": "f0480b50",
   "metadata": {},
   "outputs": [],
   "source": [
    "X = df_new[['Main Price']]          \n",
    "distanceKNN = NearestNeighbors(n_neighbors=3).fit(X)"
   ]
  },
  {
   "cell_type": "code",
   "execution_count": 35,
   "id": "fdd41e5c",
   "metadata": {},
   "outputs": [
    {
     "name": "stderr",
     "output_type": "stream",
     "text": [
      "/Users/cedricpinel/opt/anaconda3/envs/Wild_code/lib/python3.8/site-packages/sklearn/base.py:445: UserWarning: X does not have valid feature names, but NearestNeighbors was fitted with feature names\n",
      "  warnings.warn(\n"
     ]
    },
    {
     "data": {
      "text/plain": [
       "array([[148,  16,  57]])"
      ]
     },
     "execution_count": 35,
     "metadata": {},
     "output_type": "execute_result"
    }
   ],
   "source": [
    "distanceKNN.kneighbors([[60000]], 3, return_distance = False)"
   ]
  },
  {
   "cell_type": "code",
   "execution_count": 36,
   "id": "3dda345f",
   "metadata": {},
   "outputs": [
    {
     "data": {
      "text/html": [
       "<div>\n",
       "<style scoped>\n",
       "    .dataframe tbody tr th:only-of-type {\n",
       "        vertical-align: middle;\n",
       "    }\n",
       "\n",
       "    .dataframe tbody tr th {\n",
       "        vertical-align: top;\n",
       "    }\n",
       "\n",
       "    .dataframe thead th {\n",
       "        text-align: right;\n",
       "    }\n",
       "</style>\n",
       "<table border=\"1\" class=\"dataframe\">\n",
       "  <thead>\n",
       "    <tr style=\"text-align: right;\">\n",
       "      <th></th>\n",
       "      <th>Full Name</th>\n",
       "      <th>Main Price</th>\n",
       "    </tr>\n",
       "  </thead>\n",
       "  <tbody>\n",
       "    <tr>\n",
       "      <th>148</th>\n",
       "      <td>Volvo C40 Recharge Twin</td>\n",
       "      <td>59760.0</td>\n",
       "    </tr>\n",
       "    <tr>\n",
       "      <th>16</th>\n",
       "      <td>BMW i4 eDrive40</td>\n",
       "      <td>59700.0</td>\n",
       "    </tr>\n",
       "    <tr>\n",
       "      <th>57</th>\n",
       "      <td>Mercedes EQA 350 4MATIC</td>\n",
       "      <td>60700.0</td>\n",
       "    </tr>\n",
       "  </tbody>\n",
       "</table>\n",
       "</div>"
      ],
      "text/plain": [
       "                   Full Name  Main Price\n",
       "148  Volvo C40 Recharge Twin     59760.0\n",
       "16           BMW i4 eDrive40     59700.0\n",
       "57   Mercedes EQA 350 4MATIC     60700.0"
      ]
     },
     "execution_count": 36,
     "metadata": {},
     "output_type": "execute_result"
    }
   ],
   "source": [
    "df[['Full Name', 'Main Price']].iloc[[148, 16, 57]]  #This was a try with just the main price set at 60000. It's a pretty great result"
   ]
  },
  {
   "cell_type": "code",
   "execution_count": 38,
   "id": "02dcdefd",
   "metadata": {},
   "outputs": [],
   "source": [
    "#Fit model2 with the getdummies added in X2\n",
    "X2 = df_new[['Main Price','Category_Berline','Category_Citadine','Category_Compacte','Category_SUV','Category_Utilitaire','Category_Van']]\n",
    "model2 = NearestNeighbors(n_neighbors=3).fit(X2)\n"
   ]
  },
  {
   "cell_type": "code",
   "execution_count": 39,
   "id": "d215fa93",
   "metadata": {},
   "outputs": [
    {
     "name": "stderr",
     "output_type": "stream",
     "text": [
      "/Users/cedricpinel/opt/anaconda3/envs/Wild_code/lib/python3.8/site-packages/sklearn/base.py:445: UserWarning: X does not have valid feature names, but NearestNeighbors was fitted with feature names\n",
      "  warnings.warn(\n"
     ]
    },
    {
     "data": {
      "text/plain": [
       "array([[148,  16,  57]])"
      ]
     },
     "execution_count": 39,
     "metadata": {},
     "output_type": "execute_result"
    }
   ],
   "source": [
    "model2.kneighbors([[60000,0,0,0,1,0,0]], 3, return_distance = False) # checking the result for a SUV category with 60000€"
   ]
  },
  {
   "cell_type": "code",
   "execution_count": 41,
   "id": "2df207b4",
   "metadata": {},
   "outputs": [
    {
     "data": {
      "text/html": [
       "<div>\n",
       "<style scoped>\n",
       "    .dataframe tbody tr th:only-of-type {\n",
       "        vertical-align: middle;\n",
       "    }\n",
       "\n",
       "    .dataframe tbody tr th {\n",
       "        vertical-align: top;\n",
       "    }\n",
       "\n",
       "    .dataframe thead th {\n",
       "        text-align: right;\n",
       "    }\n",
       "</style>\n",
       "<table border=\"1\" class=\"dataframe\">\n",
       "  <thead>\n",
       "    <tr style=\"text-align: right;\">\n",
       "      <th></th>\n",
       "      <th>Full Name</th>\n",
       "      <th>Main Price</th>\n",
       "      <th>Category</th>\n",
       "    </tr>\n",
       "  </thead>\n",
       "  <tbody>\n",
       "    <tr>\n",
       "      <th>148</th>\n",
       "      <td>Volvo C40 Recharge Twin</td>\n",
       "      <td>59760.0</td>\n",
       "      <td>SUV</td>\n",
       "    </tr>\n",
       "    <tr>\n",
       "      <th>16</th>\n",
       "      <td>BMW i4 eDrive40</td>\n",
       "      <td>59700.0</td>\n",
       "      <td>Berline</td>\n",
       "    </tr>\n",
       "    <tr>\n",
       "      <th>57</th>\n",
       "      <td>Mercedes EQA 350 4MATIC</td>\n",
       "      <td>60700.0</td>\n",
       "      <td>SUV</td>\n",
       "    </tr>\n",
       "  </tbody>\n",
       "</table>\n",
       "</div>"
      ],
      "text/plain": [
       "                   Full Name  Main Price Category\n",
       "148  Volvo C40 Recharge Twin     59760.0      SUV\n",
       "16           BMW i4 eDrive40     59700.0  Berline\n",
       "57   Mercedes EQA 350 4MATIC     60700.0      SUV"
      ]
     },
     "execution_count": 41,
     "metadata": {},
     "output_type": "execute_result"
    }
   ],
   "source": [
    "df[['Full Name', 'Main Price', 'Category']].iloc[[148, 16, 57]] # in the result two are SUV"
   ]
  },
  {
   "cell_type": "code",
   "execution_count": 42,
   "id": "1a496812",
   "metadata": {},
   "outputs": [
    {
     "name": "stderr",
     "output_type": "stream",
     "text": [
      "/Users/cedricpinel/opt/anaconda3/envs/Wild_code/lib/python3.8/site-packages/sklearn/base.py:445: UserWarning: X does not have valid feature names, but NearestNeighbors was fitted with feature names\n",
      "  warnings.warn(\n"
     ]
    },
    {
     "data": {
      "text/plain": [
       "array([[148,  16,  57]])"
      ]
     },
     "execution_count": 42,
     "metadata": {},
     "output_type": "execute_result"
    }
   ],
   "source": [
    "model2.kneighbors([[60000,0,0,0,0,1,0]], 3, return_distance = False) # checking the result for a Utilitaire category with 60000€"
   ]
  },
  {
   "cell_type": "code",
   "execution_count": null,
   "id": "79c920e8",
   "metadata": {},
   "outputs": [],
   "source": [
    "#The result is the same so we will have to filter, fit and Kneighbors I think\n",
    "#In this case I am not sure that get dummies will help us"
   ]
  },
  {
   "cell_type": "code",
   "execution_count": null,
   "id": "10dc9258",
   "metadata": {},
   "outputs": [],
   "source": []
  }
 ],
 "metadata": {
  "kernelspec": {
   "display_name": "Python 3 (ipykernel)",
   "language": "python",
   "name": "python3"
  },
  "language_info": {
   "codemirror_mode": {
    "name": "ipython",
    "version": 3
   },
   "file_extension": ".py",
   "mimetype": "text/x-python",
   "name": "python",
   "nbconvert_exporter": "python",
   "pygments_lexer": "ipython3",
   "version": "3.8.12"
  }
 },
 "nbformat": 4,
 "nbformat_minor": 5
}
