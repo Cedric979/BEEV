{
 "cells": [
  {
   "cell_type": "markdown",
   "metadata": {},
   "source": [
    "# **Imports and defining variables**"
   ]
  },
  {
   "cell_type": "code",
   "execution_count": 15,
   "metadata": {},
   "outputs": [],
   "source": [
    "import pandas as pd\n",
    "import re\n",
    "import requests\n",
    "import seaborn as sns\n",
    "import matplotlib.pyplot as plt\n",
    "from bs4 import BeautifulSoup\n",
    "from random import randint\n",
    "from time import sleep"
   ]
  },
  {
   "cell_type": "code",
   "execution_count": 16,
   "metadata": {},
   "outputs": [],
   "source": [
    "navigator = 'Microsoft Edge (Scrapping; This is my system)'\n",
    "url_allbrands_homepage = 'https://www.auto-data.net/en/allbrands'\n",
    "url = 'https://www.auto-data.net'"
   ]
  },
  {
   "cell_type": "code",
   "execution_count": 17,
   "metadata": {},
   "outputs": [
    {
     "data": {
      "text/plain": [
       "<Response [200]>"
      ]
     },
     "execution_count": 17,
     "metadata": {},
     "output_type": "execute_result"
    }
   ],
   "source": [
    "html = requests.get(url_allbrands_homepage, headers={'User-Agent': navigator})\n",
    "html"
   ]
  },
  {
   "cell_type": "markdown",
   "metadata": {},
   "source": [
    "# **Scraping**"
   ]
  },
  {
   "cell_type": "markdown",
   "metadata": {},
   "source": [
    "## Creating the soup and cleaning the information to get only text"
   ]
  },
  {
   "cell_type": "code",
   "execution_count": 18,
   "metadata": {},
   "outputs": [],
   "source": [
    "soup = BeautifulSoup(html.text, 'html.parser')"
   ]
  },
  {
   "cell_type": "code",
   "execution_count": 19,
   "metadata": {},
   "outputs": [
    {
     "data": {
      "text/plain": [
       "[<a class=\"marki_blok\" href=\"/en/abarth-brand-200\" title=\"Abarth - Technical Specs, Fuel consumption, Dimensions\"><img alt=\"Abarth - Technical Specs, Fuel consumption, Dimensions\" src=\"/img/logos/Abarth.png\"/><strong>Abarth</strong></a>,\n",
       " <a class=\"marki_blok\" href=\"/en/ac-brand-1\" title=\"AC - Technical Specs, Fuel consumption, Dimensions\"><img alt=\"AC - Technical Specs, Fuel consumption, Dimensions\" src=\"/img/logos/AC.png\"/><strong>AC</strong></a>,\n",
       " <a class=\"marki_blok\" href=\"/en/acura-brand-6\" title=\"Acura - Technical Specs, Fuel consumption, Dimensions\"><img alt=\"Acura - Technical Specs, Fuel consumption, Dimensions\" src=\"/img/logos/Acura.png\"/><strong>Acura</strong></a>,\n",
       " <a class=\"marki_blok\" href=\"/en/aiways-brand-301\" title=\"Aiways - Technical Specs, Fuel consumption, Dimensions\"><img alt=\"Aiways - Technical Specs, Fuel consumption, Dimensions\" src=\"/img/logos/Aiways.png\"/><strong>Aiways</strong></a>,\n",
       " <a class=\"marki_blok\" href=\"/en/aixam-brand-255\" title=\"Aixam - Technical Specs, Fuel consumption, Dimensions\"><img alt=\"Aixam - Technical Specs, Fuel consumption, Dimensions\" src=\"/img/logos/Aixam.png\"/><strong>Aixam</strong></a>]"
      ]
     },
     "execution_count": 19,
     "metadata": {},
     "output_type": "execute_result"
    }
   ],
   "source": [
    "brands = soup.find_all('a', {'class' : 'marki_blok'})\n",
    "brands[0:5]"
   ]
  },
  {
   "cell_type": "code",
   "execution_count": 20,
   "metadata": {},
   "outputs": [
    {
     "data": {
      "text/plain": [
       "['/en/abarth-brand-200',\n",
       " '/en/ac-brand-1',\n",
       " '/en/acura-brand-6',\n",
       " '/en/aiways-brand-301',\n",
       " '/en/aixam-brand-255']"
      ]
     },
     "execution_count": 20,
     "metadata": {},
     "output_type": "execute_result"
    }
   ],
   "source": [
    "#This loop is to get only the part to use in link ie whatever is after 'href='\n",
    "brand_list = re.findall('href=\"(\\S+)\"',str(brands))\n",
    "brand_list[0:5]"
   ]
  },
  {
   "cell_type": "code",
   "execution_count": 21,
   "metadata": {},
   "outputs": [
    {
     "data": {
      "text/plain": [
       "array(['a', 'b', 'c', 'd', 'e', 'f', 'g', 'h', 'i', 'j', 'k', 'l', 'm',\n",
       "       'n', 'o', 'p', 'q', 'r', 's', 't', 'u', 'v', 'w', 'x', 'z'],\n",
       "      dtype=object)"
      ]
     },
     "execution_count": 21,
     "metadata": {},
     "output_type": "execute_result"
    }
   ],
   "source": [
    "#Looping to remove the /en since the url already has it and removing it makes it so it will default to another language\n",
    "brand_list_final = []\n",
    "for i in range(len(brand_list)):\n",
    "    brand_list_final += re.findall('en/(\\S+)', brand_list[i])\n",
    "brand_list_final[0:5]\n",
    "#Starting to create dataframe for the links\n",
    "df = pd.DataFrame(brand_list_final)\n",
    "df['letter'] = df[0].apply(lambda x: x[0])\n",
    "df['letter'].unique()"
   ]
  },
  {
   "cell_type": "code",
   "execution_count": 22,
   "metadata": {},
   "outputs": [],
   "source": [
    "#Creating CSV files for each starting letter of the brand names so we can save it more often\n",
    "dicto = {}\n",
    "for letter in df['letter'].unique():\n",
    "    a = df[df['letter'] == letter].drop(columns = 'letter')\n",
    "    a.to_csv('../BEEV/letter_csvs/' + letter + '.csv')\n",
    "    dicto[letter] = a"
   ]
  },
  {
   "cell_type": "markdown",
   "metadata": {},
   "source": [
    "## Creating the loops for the actual scraping"
   ]
  },
  {
   "cell_type": "code",
   "execution_count": 23,
   "metadata": {},
   "outputs": [],
   "source": [
    "#Looping to create a column with url brand names\n",
    "url = 'https://www.auto-data.net/en/'\n",
    "for csvs in dicto.values():\n",
    "    csvs[0] = csvs[0].apply(lambda x: url + x)"
   ]
  },
  {
   "cell_type": "code",
   "execution_count": 24,
   "metadata": {},
   "outputs": [],
   "source": [
    "#Renaming the column to make it easier to understand\n",
    "for csvs in dicto.values():\n",
    "    csvs.rename(columns={0 : 'brands_url'}, inplace = True)"
   ]
  },
  {
   "cell_type": "code",
   "execution_count": 25,
   "metadata": {},
   "outputs": [],
   "source": [
    "#Dataframe with url for each brand\n",
    "for letter, letter_csvs in dicto.items():\n",
    "    letter_csvs.to_csv('../BEEV/letter_csvs/' + letter + '.csv')"
   ]
  },
  {
   "cell_type": "code",
   "execution_count": 26,
   "metadata": {},
   "outputs": [
    {
     "data": {
      "text/plain": [
       "['abarth-124-spider-model-2152',\n",
       " 'abarth-500-model-2872',\n",
       " 'abarth-595-model-2149',\n",
       " 'abarth-695-model-2150']"
      ]
     },
     "execution_count": 26,
     "metadata": {},
     "output_type": "execute_result"
    }
   ],
   "source": [
    "#Function to get the models inside each brand\n",
    "def model_of_each_brand(brand_url):\n",
    "    models_list = []\n",
    "    html2 = requests.get(brand_url, headers={'User-Agent': navigator})\n",
    "    soup2 = BeautifulSoup(html2.text, 'html.parser')\n",
    "    models = soup2.find_all('a', {'class' : 'modeli'}) \n",
    "    models_list_final = re.findall('en/(\\S+)', str(models))\n",
    "    return [x[:-1] for x in models_list_final]\n",
    "brand_url = 'https://www.auto-data.net/en/abarth-brand-200'\n",
    "model_of_each_brand(brand_url)"
   ]
  },
  {
   "cell_type": "code",
   "execution_count": 27,
   "metadata": {},
   "outputs": [],
   "source": [
    "#Applying the function to get the models for each brand(displayed in lists inside the model_url column)\n",
    "for csvs in dicto.values():\n",
    "    csvs['models'] = csvs['brands_url'].apply(lambda x: model_of_each_brand(x))\n"
   ]
  },
  {
   "cell_type": "code",
   "execution_count": 28,
   "metadata": {},
   "outputs": [],
   "source": [
    "#Saving to keep a column with models names\n",
    "for letter, letter_csvs in dicto.items():\n",
    "    letter_csvs.to_csv('../BEEV/letter_csvs/' + letter + '.csv')"
   ]
  },
  {
   "cell_type": "code",
   "execution_count": 29,
   "metadata": {},
   "outputs": [],
   "source": [
    "#Loop to explode the models name and get 1 name per each line\n",
    "for letter, letter_csvs in dicto.items():\n",
    "    dicto[letter] = dicto[letter].explode('models')"
   ]
  },
  {
   "cell_type": "code",
   "execution_count": 30,
   "metadata": {},
   "outputs": [
    {
     "data": {
      "text/html": [
       "<div>\n",
       "<style scoped>\n",
       "    .dataframe tbody tr th:only-of-type {\n",
       "        vertical-align: middle;\n",
       "    }\n",
       "\n",
       "    .dataframe tbody tr th {\n",
       "        vertical-align: top;\n",
       "    }\n",
       "\n",
       "    .dataframe thead th {\n",
       "        text-align: right;\n",
       "    }\n",
       "</style>\n",
       "<table border=\"1\" class=\"dataframe\">\n",
       "  <thead>\n",
       "    <tr style=\"text-align: right;\">\n",
       "      <th></th>\n",
       "      <th>brands_url</th>\n",
       "      <th>models</th>\n",
       "    </tr>\n",
       "  </thead>\n",
       "  <tbody>\n",
       "    <tr>\n",
       "      <th>0</th>\n",
       "      <td>https://www.auto-data.net/en/abarth-brand-200</td>\n",
       "      <td>abarth-124-spider-model-2152</td>\n",
       "    </tr>\n",
       "    <tr>\n",
       "      <th>0</th>\n",
       "      <td>https://www.auto-data.net/en/abarth-brand-200</td>\n",
       "      <td>abarth-500-model-2872</td>\n",
       "    </tr>\n",
       "    <tr>\n",
       "      <th>0</th>\n",
       "      <td>https://www.auto-data.net/en/abarth-brand-200</td>\n",
       "      <td>abarth-595-model-2149</td>\n",
       "    </tr>\n",
       "    <tr>\n",
       "      <th>0</th>\n",
       "      <td>https://www.auto-data.net/en/abarth-brand-200</td>\n",
       "      <td>abarth-695-model-2150</td>\n",
       "    </tr>\n",
       "    <tr>\n",
       "      <th>1</th>\n",
       "      <td>https://www.auto-data.net/en/ac-brand-1</td>\n",
       "      <td>ac-ace-model-1</td>\n",
       "    </tr>\n",
       "  </tbody>\n",
       "</table>\n",
       "</div>"
      ],
      "text/plain": [
       "                                      brands_url                        models\n",
       "0  https://www.auto-data.net/en/abarth-brand-200  abarth-124-spider-model-2152\n",
       "0  https://www.auto-data.net/en/abarth-brand-200         abarth-500-model-2872\n",
       "0  https://www.auto-data.net/en/abarth-brand-200         abarth-595-model-2149\n",
       "0  https://www.auto-data.net/en/abarth-brand-200         abarth-695-model-2150\n",
       "1        https://www.auto-data.net/en/ac-brand-1                ac-ace-model-1"
      ]
     },
     "execution_count": 30,
     "metadata": {},
     "output_type": "execute_result"
    }
   ],
   "source": [
    "dicto['a'].head()         #Just checking"
   ]
  },
  {
   "cell_type": "code",
   "execution_count": 31,
   "metadata": {},
   "outputs": [],
   "source": [
    "#Loop to create a column with models_url\n",
    "for csvs in dicto.values():\n",
    "    csvs['models_url'] = csvs['models'].apply(lambda x: url + x)"
   ]
  },
  {
   "cell_type": "code",
   "execution_count": 32,
   "metadata": {},
   "outputs": [],
   "source": [
    "#Saving the models_url column\n",
    "for letter, letter_csvs in dicto.items():\n",
    "    letter_csvs.to_csv('../BEEV/letter_csvs/' + letter + '.csv')"
   ]
  },
  {
   "cell_type": "code",
   "execution_count": 33,
   "metadata": {},
   "outputs": [
    {
     "data": {
      "text/plain": [
       "['abarth-124-gt-generation-6774',\n",
       " 'abarth-124-gt-generation-6774',\n",
       " 'abarth-124-spider-generation-5004',\n",
       " 'abarth-124-spider-generation-5004']"
      ]
     },
     "execution_count": 33,
     "metadata": {},
     "output_type": "execute_result"
    }
   ],
   "source": [
    "#Creating function to scrap the generation names for each models\n",
    "def generation_of_each_model(model_url):\n",
    "    gens_list = []\n",
    "    html3 = requests.get(model_url, headers={'User-Agent': navigator})\n",
    "    soup3 = BeautifulSoup(html3.text, 'html.parser')\n",
    "    gens = soup3.find_all('a', {'class' : 'position'}) \n",
    "    gens_list_final = re.findall('en/(\\S+)', str(gens))\n",
    "    return [x[:-1] for x in gens_list_final]\n",
    "model_url = 'https://www.auto-data.net/en/abarth-124-spider-model-2152'\n",
    "generation_of_each_model(model_url)"
   ]
  },
  {
   "cell_type": "code",
   "execution_count": 34,
   "metadata": {},
   "outputs": [],
   "source": [
    "#Applying function to get the generation names for each models\n",
    "for csvs in dicto.values():\n",
    "    csvs['generations'] = csvs['models_url'].apply(lambda x: generation_of_each_model(x))"
   ]
  },
  {
   "cell_type": "code",
   "execution_count": 35,
   "metadata": {},
   "outputs": [],
   "source": [
    "#Saving the generations columns\n",
    "for letter, letter_csvs in dicto.items():\n",
    "    letter_csvs.to_csv('../BEEV/letter_csvs/' + letter + '.csv')"
   ]
  },
  {
   "cell_type": "code",
   "execution_count": 36,
   "metadata": {},
   "outputs": [],
   "source": [
    "#Loop to explode the generations names\n",
    "for letter, letter_csvs in dicto.items():\n",
    "    dicto[letter] = dicto[letter].explode('generations')"
   ]
  },
  {
   "cell_type": "code",
   "execution_count": 37,
   "metadata": {},
   "outputs": [],
   "source": [
    "#Saving the exploded generations names\n",
    "for letter, letter_csvs in dicto.items():\n",
    "    letter_csvs.to_csv('../BEEV/letter_csvs/' + letter + '.csv')"
   ]
  },
  {
   "cell_type": "code",
   "execution_count": 38,
   "metadata": {},
   "outputs": [],
   "source": [
    "#Dropping duplicates that were created\n",
    "for letter, letter_csvs in dicto.items():\n",
    "    dicto[letter].drop_duplicates(inplace = True)\n",
    "    letter_csvs.to_csv('../BEEV/letter_csvs/' + letter + '.csv')"
   ]
  },
  {
   "cell_type": "code",
   "execution_count": 39,
   "metadata": {},
   "outputs": [],
   "source": [
    "#Looping to create a column for the generations url\n",
    "for csvs in dicto.values():\n",
    "    csvs['generations_url'] = csvs['generations'].apply(lambda x: url + x)"
   ]
  },
  {
   "cell_type": "code",
   "execution_count": 40,
   "metadata": {},
   "outputs": [],
   "source": [
    "#Saving the column with the generations urls\n",
    "for letter, letter_csvs in dicto.items():\n",
    "    letter_csvs.to_csv('../BEEV/letter_csvs/' + letter + '.csv')"
   ]
  },
  {
   "cell_type": "code",
   "execution_count": 41,
   "metadata": {},
   "outputs": [
    {
     "data": {
      "text/plain": [
       "['alfa-romeo-mito-1.6-jtdm-120hp-16680',\n",
       " 'alfa-romeo-mito-1.6-jtdm-120hp-16680',\n",
       " 'alfa-romeo-mito-1.4-tb-multiair-170hp-44386',\n",
       " 'alfa-romeo-mito-1.4-tb-multiair-170hp-44386',\n",
       " 'alfa-romeo-mito-1.4-tb-155hp-16679',\n",
       " 'alfa-romeo-mito-1.4-tb-155hp-16679',\n",
       " 'alfa-romeo-mito-1.4-tb-multiair-135hp-tct-44377',\n",
       " 'alfa-romeo-mito-1.4-tb-multiair-135hp-tct-44377',\n",
       " 'alfa-romeo-mito-1.4-t-jet-120hp-16683',\n",
       " 'alfa-romeo-mito-1.4-t-jet-120hp-16683',\n",
       " 'alfa-romeo-mito-1.4-multiair-135hp-start-stop-16681',\n",
       " 'alfa-romeo-mito-1.4-multiair-135hp-start-stop-16681',\n",
       " 'alfa-romeo-mito-1.4-multiair-105hp-start-stop-16684',\n",
       " 'alfa-romeo-mito-1.4-multiair-105hp-start-stop-16684',\n",
       " 'alfa-romeo-mito-1.4-mpi-78hp-16682',\n",
       " 'alfa-romeo-mito-1.4-mpi-78hp-16682',\n",
       " 'alfa-romeo-mito-1.4-70hp-44378',\n",
       " 'alfa-romeo-mito-1.4-70hp-44378',\n",
       " 'alfa-romeo-mito-1.3-jtdm-90hp-40499',\n",
       " 'alfa-romeo-mito-1.3-jtdm-90hp-40499',\n",
       " 'alfa-romeo-mito-1.3-jtdm-eco-85hp-44387',\n",
       " 'alfa-romeo-mito-1.3-jtdm-eco-85hp-44387',\n",
       " 'alfa-romeo-mito-0.9-twinair-105hp-44381',\n",
       " 'alfa-romeo-mito-0.9-twinair-105hp-44381',\n",
       " 'alfa-romeo-mito-0.9-twinair-85hp-44380',\n",
       " 'alfa-romeo-mito-0.9-twinair-85hp-44380']"
      ]
     },
     "execution_count": 41,
     "metadata": {},
     "output_type": "execute_result"
    }
   ],
   "source": [
    "#Creating a function to scrap for the modifications of each generation\n",
    "def modifications_of_each_generation(gen_url):\n",
    "    mods_list = []\n",
    "    html4 = requests.get(gen_url, headers={'User-Agent': navigator})\n",
    "    soup4 = BeautifulSoup(html4.text, 'html.parser')\n",
    "    mods = soup4.find_all('table', {'class' : 'carlist'}) \n",
    "    gens_list_final = re.findall('en/(\\S+)', str(mods))\n",
    "    return [x[:-1] for x in gens_list_final]\n",
    "gen_url = 'https://www.auto-data.net/en/alfa-romeo-mito-generation-363'\n",
    "modifications_of_each_generation(gen_url)          "
   ]
  },
  {
   "cell_type": "code",
   "execution_count": 42,
   "metadata": {},
   "outputs": [],
   "source": [
    "#Applying function to get the modifications names for each generation\n",
    "for csvs in dicto.values():\n",
    "    csvs['modifications'] = csvs['generations_url'].apply(lambda x: modifications_of_each_generation(x))"
   ]
  },
  {
   "cell_type": "code",
   "execution_count": 43,
   "metadata": {},
   "outputs": [],
   "source": [
    "#Saving the mods column\n",
    "for letter, letter_csvs in dicto.items():\n",
    "    letter_csvs.to_csv('../BEEV/letter_csvs/' + letter + '.csv')"
   ]
  },
  {
   "cell_type": "code",
   "execution_count": 44,
   "metadata": {},
   "outputs": [],
   "source": [
    "#Exploding the mods column to get one per row\n",
    "for letter, letter_csvs in dicto.items():\n",
    "    dicto[letter] = dicto[letter].explode('modifications')"
   ]
  },
  {
   "cell_type": "code",
   "execution_count": 45,
   "metadata": {},
   "outputs": [],
   "source": [
    "#Saving the exploded generations names\n",
    "for letter, letter_csvs in dicto.items():\n",
    "    letter_csvs.to_csv('../BEEV/letter_csvs/' + letter + '.csv')"
   ]
  },
  {
   "cell_type": "code",
   "execution_count": 46,
   "metadata": {},
   "outputs": [],
   "source": [
    "#Dropping duplicates that were created\n",
    "for letter, letter_csvs in dicto.items():\n",
    "    dicto[letter].drop_duplicates(inplace = True)\n",
    "    letter_csvs.to_csv('../BEEV/letter_csvs/' + letter + '.csv')"
   ]
  },
  {
   "cell_type": "code",
   "execution_count": 47,
   "metadata": {},
   "outputs": [],
   "source": [
    "#Loop to create a column for the mods url\n",
    "for csvs in dicto.values():\n",
    "    csvs['modifications_url'] = csvs['modifications'].apply(lambda x: url + str(x))"
   ]
  },
  {
   "cell_type": "code",
   "execution_count": 48,
   "metadata": {},
   "outputs": [],
   "source": [
    "#Saving the column for the mods urls\n",
    "for letter, letter_csvs in dicto.items():\n",
    "    letter_csvs.to_csv('../BEEV/letter_csvs/' + letter + '.csv')"
   ]
  },
  {
   "cell_type": "code",
   "execution_count": 49,
   "metadata": {},
   "outputs": [],
   "source": [
    "#This is the final loop to get the details for the cars\n",
    "#specs = soup4.find_all('table', {'class' : 'cardetailsout car2'})"
   ]
  },
  {
   "cell_type": "code",
   "execution_count": 50,
   "metadata": {},
   "outputs": [
    {
     "name": "stdout",
     "output_type": "stream",
     "text": [
      "Requirement already satisfied: html5lib in /Users/cedricpinel/opt/anaconda3/lib/python3.8/site-packages (1.1)\r\n",
      "Requirement already satisfied: six>=1.9 in /Users/cedricpinel/opt/anaconda3/lib/python3.8/site-packages (from html5lib) (1.15.0)\r\n",
      "Requirement already satisfied: webencodings in /Users/cedricpinel/opt/anaconda3/lib/python3.8/site-packages (from html5lib) (0.5.1)\r\n"
     ]
    }
   ],
   "source": [
    "#Need to install this library to work\n",
    "!pip install html5lib"
   ]
  },
  {
   "cell_type": "markdown",
   "metadata": {},
   "source": [
    "## Final dataframe"
   ]
  },
  {
   "cell_type": "code",
   "execution_count": null,
   "metadata": {},
   "outputs": [],
   "source": []
  },
  {
   "cell_type": "code",
   "execution_count": 96,
   "metadata": {},
   "outputs": [
    {
     "data": {
      "text/html": [
       "<div>\n",
       "<style scoped>\n",
       "    .dataframe tbody tr th:only-of-type {\n",
       "        vertical-align: middle;\n",
       "    }\n",
       "\n",
       "    .dataframe tbody tr th {\n",
       "        vertical-align: top;\n",
       "    }\n",
       "\n",
       "    .dataframe thead th {\n",
       "        text-align: right;\n",
       "    }\n",
       "</style>\n",
       "<table border=\"1\" class=\"dataframe\">\n",
       "  <thead>\n",
       "    <tr style=\"text-align: right;\">\n",
       "      <th></th>\n",
       "      <th>Brand</th>\n",
       "      <th>Model</th>\n",
       "      <th>Generation</th>\n",
       "      <th>Modification (Engine)</th>\n",
       "      <th>Body type</th>\n",
       "      <th>Fuel consumption (economy) - combined</th>\n",
       "      <th>CO2 emissions</th>\n",
       "      <th>Fuel Type</th>\n",
       "      <th>Power</th>\n",
       "      <th>Fuel tank capacity</th>\n",
       "      <th>Fuel tank(l)</th>\n",
       "      <th>Fuel consumption(l/100km)</th>\n",
       "      <th>Power(Hp)</th>\n",
       "      <th>Range (Km)</th>\n",
       "    </tr>\n",
       "  </thead>\n",
       "  <tbody>\n",
       "    <tr>\n",
       "      <th>0</th>\n",
       "      <td>Abarth</td>\n",
       "      <td>124 Spider</td>\n",
       "      <td>124 GT</td>\n",
       "      <td>1.4 MultiAir (170 Hp) Automatic</td>\n",
       "      <td>Roadster</td>\n",
       "      <td>6.6 l/100 km  35.64 US mpg42.8 UK mpg15.15 km/l</td>\n",
       "      <td>153 g/km</td>\n",
       "      <td>Petrol (Gasoline)</td>\n",
       "      <td>170 Hp @ 5500 rpm.</td>\n",
       "      <td>45 l  11.89 US gal | 9.9 UK gal</td>\n",
       "      <td>45</td>\n",
       "      <td>6.6</td>\n",
       "      <td>170</td>\n",
       "      <td>681.818182</td>\n",
       "    </tr>\n",
       "  </tbody>\n",
       "</table>\n",
       "</div>"
      ],
      "text/plain": [
       "    Brand       Model Generation            Modification (Engine) Body type  \\\n",
       "0  Abarth  124 Spider     124 GT  1.4 MultiAir (170 Hp) Automatic  Roadster   \n",
       "\n",
       "             Fuel consumption (economy) - combined CO2 emissions  \\\n",
       "0  6.6 l/100 km  35.64 US mpg42.8 UK mpg15.15 km/l      153 g/km   \n",
       "\n",
       "           Fuel Type               Power               Fuel tank capacity  \\\n",
       "0  Petrol (Gasoline)  170 Hp @ 5500 rpm.  45 l  11.89 US gal | 9.9 UK gal   \n",
       "\n",
       "  Fuel tank(l) Fuel consumption(l/100km) Power(Hp)  Range (Km)  \n",
       "0           45                       6.6       170  681.818182  "
      ]
     },
     "execution_count": 96,
     "metadata": {},
     "output_type": "execute_result"
    }
   ],
   "source": [
    "#Creating the final function \n",
    "\n",
    "def specifications_of_each_car(mods_url):\n",
    "    global specs3\n",
    "    specs = pd.read_html(mods_url)[1]\n",
    "    specs2 = specs[(specs['General information'] == 'Brand')\n",
    "    |(specs['General information'] == 'Model')\n",
    "    |(specs['General information'] == 'Generation')\n",
    "    |(specs['General information'] == 'Modification (Engine)')\n",
    "    |(specs['General information'] == 'CO2 emissions') \n",
    "    |(specs['General information'] == 'Body type')\n",
    "    |(specs['General information'] == 'Fuel tank capacity')\n",
    "    |(specs['General information'] == 'Fuel consumption (economy) - combined')\n",
    "    |(specs['General information'] == 'Fuel Type')\n",
    "    |(specs['General information'] == 'Power')]\n",
    "    specs2.rename(columns = {'General information' : ''}, inplace = True)\n",
    "    specs2.set_index([''], inplace = True)\n",
    "    specs3 = specs2.T\n",
    "    specs3.reset_index(inplace = True)\n",
    "    specs3.drop(columns = ['index'], inplace = True)\n",
    "    specs3['Fuel tank(l)'] = specs3['Fuel tank capacity'].apply(lambda x : x.split(' ')[0])\n",
    "    specs3['Fuel consumption(l/100km)'] = specs3['Fuel consumption (economy) - combined'].apply(lambda x : x.split(' ')[0])\n",
    "    specs3['Power(Hp)'] = specs3['Power'].apply(lambda x: x.split(' ')[0])\n",
    "    specs3['Range (Km)'] = specs3[['Fuel tank(l)','Fuel consumption(l/100km)']].apply(lambda item: int(item[0])/float(item[1])*100,axis=1)\n",
    "    #specs3.drop(columns = ['Fuel consumption (economy) - combined', 'Fuel tank capacity', 'Power'], inplace = True)\n",
    "    return specs3\n",
    "    \n",
    "\n",
    "specifications_of_each_car('https://www.auto-data.net/en/abarth-124-gt-1.4-multiair-170hp-automatic-35172')"
   ]
  },
  {
   "cell_type": "code",
   "execution_count": 97,
   "metadata": {},
   "outputs": [
    {
     "data": {
      "text/html": [
       "<div>\n",
       "<style scoped>\n",
       "    .dataframe tbody tr th:only-of-type {\n",
       "        vertical-align: middle;\n",
       "    }\n",
       "\n",
       "    .dataframe tbody tr th {\n",
       "        vertical-align: top;\n",
       "    }\n",
       "\n",
       "    .dataframe thead th {\n",
       "        text-align: right;\n",
       "    }\n",
       "</style>\n",
       "<table border=\"1\" class=\"dataframe\">\n",
       "  <thead>\n",
       "    <tr style=\"text-align: right;\">\n",
       "      <th></th>\n",
       "      <th>index</th>\n",
       "      <th>Brand</th>\n",
       "      <th>Model</th>\n",
       "      <th>Generation</th>\n",
       "      <th>Modification(Engine)</th>\n",
       "      <th>Body type</th>\n",
       "      <th>Fuel consumption (economy) - combined</th>\n",
       "      <th>CO2 emissions</th>\n",
       "      <th>Fuel type</th>\n",
       "      <th>Power</th>\n",
       "      <th>Fuel tank capacity</th>\n",
       "      <th>Fuel tank(l)</th>\n",
       "      <th>Fuel consumption(l/100km)</th>\n",
       "      <th>Power(Hp)</th>\n",
       "      <th>Range (km)</th>\n",
       "    </tr>\n",
       "  </thead>\n",
       "  <tbody>\n",
       "  </tbody>\n",
       "</table>\n",
       "</div>"
      ],
      "text/plain": [
       "Empty DataFrame\n",
       "Columns: [index, Brand, Model, Generation, Modification(Engine), Body type, Fuel consumption (economy) - combined, CO2 emissions, Fuel type, Power, Fuel tank capacity, Fuel tank(l), Fuel consumption(l/100km), Power(Hp), Range (km)]\n",
       "Index: []"
      ]
     },
     "execution_count": 97,
     "metadata": {},
     "output_type": "execute_result"
    }
   ],
   "source": [
    "#Creating an empty dataframe\n",
    "df = pd.DataFrame(columns = ['Brand', 'Model', 'Generation', 'Modification(Engine)','Body type', 'Fuel consumption (economy) - combined', 'CO2 emissions', 'Fuel type','Power','Fuel tank capacity', 'Fuel tank(l)', 'Fuel consumption(l/100km)', 'Power(Hp)','Range (km)'])\n",
    "df.reset_index()\n"
   ]
  },
  {
   "cell_type": "code",
   "execution_count": 99,
   "metadata": {
    "scrolled": true
   },
   "outputs": [
    {
     "ename": "KeyError",
     "evalue": "'Fuel consumption (economy) - combined'",
     "output_type": "error",
     "traceback": [
      "\u001b[0;31m---------------------------------------------------------------------------\u001b[0m",
      "\u001b[0;31mKeyError\u001b[0m                                  Traceback (most recent call last)",
      "\u001b[0;32m~/opt/anaconda3/envs/web_scarping/lib/python3.8/site-packages/pandas/core/indexes/base.py\u001b[0m in \u001b[0;36mget_loc\u001b[0;34m(self, key, method, tolerance)\u001b[0m\n\u001b[1;32m   3360\u001b[0m             \u001b[0;32mtry\u001b[0m\u001b[0;34m:\u001b[0m\u001b[0;34m\u001b[0m\u001b[0;34m\u001b[0m\u001b[0m\n\u001b[0;32m-> 3361\u001b[0;31m                 \u001b[0;32mreturn\u001b[0m \u001b[0mself\u001b[0m\u001b[0;34m.\u001b[0m\u001b[0m_engine\u001b[0m\u001b[0;34m.\u001b[0m\u001b[0mget_loc\u001b[0m\u001b[0;34m(\u001b[0m\u001b[0mcasted_key\u001b[0m\u001b[0;34m)\u001b[0m\u001b[0;34m\u001b[0m\u001b[0;34m\u001b[0m\u001b[0m\n\u001b[0m\u001b[1;32m   3362\u001b[0m             \u001b[0;32mexcept\u001b[0m \u001b[0mKeyError\u001b[0m \u001b[0;32mas\u001b[0m \u001b[0merr\u001b[0m\u001b[0;34m:\u001b[0m\u001b[0;34m\u001b[0m\u001b[0;34m\u001b[0m\u001b[0m\n",
      "\u001b[0;32m~/opt/anaconda3/envs/web_scarping/lib/python3.8/site-packages/pandas/_libs/index.pyx\u001b[0m in \u001b[0;36mpandas._libs.index.IndexEngine.get_loc\u001b[0;34m()\u001b[0m\n",
      "\u001b[0;32m~/opt/anaconda3/envs/web_scarping/lib/python3.8/site-packages/pandas/_libs/index.pyx\u001b[0m in \u001b[0;36mpandas._libs.index.IndexEngine.get_loc\u001b[0;34m()\u001b[0m\n",
      "\u001b[0;32mpandas/_libs/hashtable_class_helper.pxi\u001b[0m in \u001b[0;36mpandas._libs.hashtable.PyObjectHashTable.get_item\u001b[0;34m()\u001b[0m\n",
      "\u001b[0;32mpandas/_libs/hashtable_class_helper.pxi\u001b[0m in \u001b[0;36mpandas._libs.hashtable.PyObjectHashTable.get_item\u001b[0;34m()\u001b[0m\n",
      "\u001b[0;31mKeyError\u001b[0m: 'Fuel consumption (economy) - combined'",
      "\nThe above exception was the direct cause of the following exception:\n",
      "\u001b[0;31mKeyError\u001b[0m                                  Traceback (most recent call last)",
      "\u001b[0;32m/var/folders/zp/g__9z3d17bl6nkkpnxb0p46r0000gn/T/ipykernel_3817/1883972907.py\u001b[0m in \u001b[0;36m<module>\u001b[0;34m\u001b[0m\n\u001b[1;32m      9\u001b[0m \u001b[0;31m#global specs3\u001b[0m\u001b[0;34m\u001b[0m\u001b[0;34m\u001b[0m\u001b[0;34m\u001b[0m\u001b[0m\n\u001b[1;32m     10\u001b[0m \u001b[0;32mfor\u001b[0m \u001b[0mi\u001b[0m \u001b[0;32min\u001b[0m \u001b[0mrange\u001b[0m\u001b[0;34m(\u001b[0m\u001b[0;36m0\u001b[0m\u001b[0;34m,\u001b[0m\u001b[0mdicto\u001b[0m\u001b[0;34m[\u001b[0m\u001b[0;34m'b'\u001b[0m\u001b[0;34m]\u001b[0m\u001b[0;34m[\u001b[0m\u001b[0;34m'modifications_url'\u001b[0m\u001b[0;34m]\u001b[0m\u001b[0;34m.\u001b[0m\u001b[0mshape\u001b[0m\u001b[0;34m[\u001b[0m\u001b[0;36m0\u001b[0m\u001b[0;34m]\u001b[0m\u001b[0;34m+\u001b[0m\u001b[0;36m1\u001b[0m\u001b[0;34m)\u001b[0m\u001b[0;34m:\u001b[0m\u001b[0;34m\u001b[0m\u001b[0;34m\u001b[0m\u001b[0m\n\u001b[0;32m---> 11\u001b[0;31m     \u001b[0mspecifications_of_each_car\u001b[0m\u001b[0;34m(\u001b[0m\u001b[0mdicto\u001b[0m\u001b[0;34m[\u001b[0m\u001b[0;34m'a'\u001b[0m\u001b[0;34m]\u001b[0m\u001b[0;34m[\u001b[0m\u001b[0;34m'modifications_url'\u001b[0m\u001b[0;34m]\u001b[0m\u001b[0;34m[\u001b[0m\u001b[0mi\u001b[0m\u001b[0;34m]\u001b[0m\u001b[0;34m)\u001b[0m\u001b[0;34m\u001b[0m\u001b[0;34m\u001b[0m\u001b[0m\n\u001b[0m\u001b[1;32m     12\u001b[0m     \u001b[0mdf\u001b[0m \u001b[0;34m=\u001b[0m \u001b[0mpd\u001b[0m\u001b[0;34m.\u001b[0m\u001b[0mconcat\u001b[0m\u001b[0;34m(\u001b[0m\u001b[0;34m[\u001b[0m\u001b[0mdf\u001b[0m\u001b[0;34m,\u001b[0m\u001b[0mspecs3\u001b[0m\u001b[0;34m]\u001b[0m\u001b[0;34m,\u001b[0m \u001b[0mignore_index\u001b[0m\u001b[0;34m=\u001b[0m\u001b[0;32mTrue\u001b[0m\u001b[0;34m)\u001b[0m\u001b[0;34m\u001b[0m\u001b[0;34m\u001b[0m\u001b[0m\n\u001b[1;32m     13\u001b[0m \u001b[0;34m\u001b[0m\u001b[0m\n",
      "\u001b[0;32m/var/folders/zp/g__9z3d17bl6nkkpnxb0p46r0000gn/T/ipykernel_3817/2715791715.py\u001b[0m in \u001b[0;36mspecifications_of_each_car\u001b[0;34m(mods_url)\u001b[0m\n\u001b[1;32m     20\u001b[0m     \u001b[0mspecs3\u001b[0m\u001b[0;34m.\u001b[0m\u001b[0mdrop\u001b[0m\u001b[0;34m(\u001b[0m\u001b[0mcolumns\u001b[0m \u001b[0;34m=\u001b[0m \u001b[0;34m[\u001b[0m\u001b[0;34m'index'\u001b[0m\u001b[0;34m]\u001b[0m\u001b[0;34m,\u001b[0m \u001b[0minplace\u001b[0m \u001b[0;34m=\u001b[0m \u001b[0;32mTrue\u001b[0m\u001b[0;34m)\u001b[0m\u001b[0;34m\u001b[0m\u001b[0;34m\u001b[0m\u001b[0m\n\u001b[1;32m     21\u001b[0m     \u001b[0mspecs3\u001b[0m\u001b[0;34m[\u001b[0m\u001b[0;34m'Fuel tank(l)'\u001b[0m\u001b[0;34m]\u001b[0m \u001b[0;34m=\u001b[0m \u001b[0mspecs3\u001b[0m\u001b[0;34m[\u001b[0m\u001b[0;34m'Fuel tank capacity'\u001b[0m\u001b[0;34m]\u001b[0m\u001b[0;34m.\u001b[0m\u001b[0mapply\u001b[0m\u001b[0;34m(\u001b[0m\u001b[0;32mlambda\u001b[0m \u001b[0mx\u001b[0m \u001b[0;34m:\u001b[0m \u001b[0mx\u001b[0m\u001b[0;34m.\u001b[0m\u001b[0msplit\u001b[0m\u001b[0;34m(\u001b[0m\u001b[0;34m' '\u001b[0m\u001b[0;34m)\u001b[0m\u001b[0;34m[\u001b[0m\u001b[0;36m0\u001b[0m\u001b[0;34m]\u001b[0m\u001b[0;34m)\u001b[0m\u001b[0;34m\u001b[0m\u001b[0;34m\u001b[0m\u001b[0m\n\u001b[0;32m---> 22\u001b[0;31m     \u001b[0mspecs3\u001b[0m\u001b[0;34m[\u001b[0m\u001b[0;34m'Fuel consumption(l/100km)'\u001b[0m\u001b[0;34m]\u001b[0m \u001b[0;34m=\u001b[0m \u001b[0mspecs3\u001b[0m\u001b[0;34m[\u001b[0m\u001b[0;34m'Fuel consumption (economy) - combined'\u001b[0m\u001b[0;34m]\u001b[0m\u001b[0;34m.\u001b[0m\u001b[0mapply\u001b[0m\u001b[0;34m(\u001b[0m\u001b[0;32mlambda\u001b[0m \u001b[0mx\u001b[0m \u001b[0;34m:\u001b[0m \u001b[0mx\u001b[0m\u001b[0;34m.\u001b[0m\u001b[0msplit\u001b[0m\u001b[0;34m(\u001b[0m\u001b[0;34m' '\u001b[0m\u001b[0;34m)\u001b[0m\u001b[0;34m[\u001b[0m\u001b[0;36m0\u001b[0m\u001b[0;34m]\u001b[0m\u001b[0;34m)\u001b[0m\u001b[0;34m\u001b[0m\u001b[0;34m\u001b[0m\u001b[0m\n\u001b[0m\u001b[1;32m     23\u001b[0m     \u001b[0mspecs3\u001b[0m\u001b[0;34m[\u001b[0m\u001b[0;34m'Power(Hp)'\u001b[0m\u001b[0;34m]\u001b[0m \u001b[0;34m=\u001b[0m \u001b[0mspecs3\u001b[0m\u001b[0;34m[\u001b[0m\u001b[0;34m'Power'\u001b[0m\u001b[0;34m]\u001b[0m\u001b[0;34m.\u001b[0m\u001b[0mapply\u001b[0m\u001b[0;34m(\u001b[0m\u001b[0;32mlambda\u001b[0m \u001b[0mx\u001b[0m\u001b[0;34m:\u001b[0m \u001b[0mx\u001b[0m\u001b[0;34m.\u001b[0m\u001b[0msplit\u001b[0m\u001b[0;34m(\u001b[0m\u001b[0;34m' '\u001b[0m\u001b[0;34m)\u001b[0m\u001b[0;34m[\u001b[0m\u001b[0;36m0\u001b[0m\u001b[0;34m]\u001b[0m\u001b[0;34m)\u001b[0m\u001b[0;34m\u001b[0m\u001b[0;34m\u001b[0m\u001b[0m\n\u001b[1;32m     24\u001b[0m     \u001b[0mspecs3\u001b[0m\u001b[0;34m[\u001b[0m\u001b[0;34m'Range (Km)'\u001b[0m\u001b[0;34m]\u001b[0m \u001b[0;34m=\u001b[0m \u001b[0mspecs3\u001b[0m\u001b[0;34m[\u001b[0m\u001b[0;34m[\u001b[0m\u001b[0;34m'Fuel tank(l)'\u001b[0m\u001b[0;34m,\u001b[0m\u001b[0;34m'Fuel consumption(l/100km)'\u001b[0m\u001b[0;34m]\u001b[0m\u001b[0;34m]\u001b[0m\u001b[0;34m.\u001b[0m\u001b[0mapply\u001b[0m\u001b[0;34m(\u001b[0m\u001b[0;32mlambda\u001b[0m \u001b[0mitem\u001b[0m\u001b[0;34m:\u001b[0m \u001b[0mint\u001b[0m\u001b[0;34m(\u001b[0m\u001b[0mitem\u001b[0m\u001b[0;34m[\u001b[0m\u001b[0;36m0\u001b[0m\u001b[0;34m]\u001b[0m\u001b[0;34m)\u001b[0m\u001b[0;34m/\u001b[0m\u001b[0mfloat\u001b[0m\u001b[0;34m(\u001b[0m\u001b[0mitem\u001b[0m\u001b[0;34m[\u001b[0m\u001b[0;36m1\u001b[0m\u001b[0;34m]\u001b[0m\u001b[0;34m)\u001b[0m\u001b[0;34m*\u001b[0m\u001b[0;36m100\u001b[0m\u001b[0;34m,\u001b[0m\u001b[0maxis\u001b[0m\u001b[0;34m=\u001b[0m\u001b[0;36m1\u001b[0m\u001b[0;34m)\u001b[0m\u001b[0;34m\u001b[0m\u001b[0;34m\u001b[0m\u001b[0m\n",
      "\u001b[0;32m~/opt/anaconda3/envs/web_scarping/lib/python3.8/site-packages/pandas/core/frame.py\u001b[0m in \u001b[0;36m__getitem__\u001b[0;34m(self, key)\u001b[0m\n\u001b[1;32m   3456\u001b[0m             \u001b[0;32mif\u001b[0m \u001b[0mself\u001b[0m\u001b[0;34m.\u001b[0m\u001b[0mcolumns\u001b[0m\u001b[0;34m.\u001b[0m\u001b[0mnlevels\u001b[0m \u001b[0;34m>\u001b[0m \u001b[0;36m1\u001b[0m\u001b[0;34m:\u001b[0m\u001b[0;34m\u001b[0m\u001b[0;34m\u001b[0m\u001b[0m\n\u001b[1;32m   3457\u001b[0m                 \u001b[0;32mreturn\u001b[0m \u001b[0mself\u001b[0m\u001b[0;34m.\u001b[0m\u001b[0m_getitem_multilevel\u001b[0m\u001b[0;34m(\u001b[0m\u001b[0mkey\u001b[0m\u001b[0;34m)\u001b[0m\u001b[0;34m\u001b[0m\u001b[0;34m\u001b[0m\u001b[0m\n\u001b[0;32m-> 3458\u001b[0;31m             \u001b[0mindexer\u001b[0m \u001b[0;34m=\u001b[0m \u001b[0mself\u001b[0m\u001b[0;34m.\u001b[0m\u001b[0mcolumns\u001b[0m\u001b[0;34m.\u001b[0m\u001b[0mget_loc\u001b[0m\u001b[0;34m(\u001b[0m\u001b[0mkey\u001b[0m\u001b[0;34m)\u001b[0m\u001b[0;34m\u001b[0m\u001b[0;34m\u001b[0m\u001b[0m\n\u001b[0m\u001b[1;32m   3459\u001b[0m             \u001b[0;32mif\u001b[0m \u001b[0mis_integer\u001b[0m\u001b[0;34m(\u001b[0m\u001b[0mindexer\u001b[0m\u001b[0;34m)\u001b[0m\u001b[0;34m:\u001b[0m\u001b[0;34m\u001b[0m\u001b[0;34m\u001b[0m\u001b[0m\n\u001b[1;32m   3460\u001b[0m                 \u001b[0mindexer\u001b[0m \u001b[0;34m=\u001b[0m \u001b[0;34m[\u001b[0m\u001b[0mindexer\u001b[0m\u001b[0;34m]\u001b[0m\u001b[0;34m\u001b[0m\u001b[0;34m\u001b[0m\u001b[0m\n",
      "\u001b[0;32m~/opt/anaconda3/envs/web_scarping/lib/python3.8/site-packages/pandas/core/indexes/base.py\u001b[0m in \u001b[0;36mget_loc\u001b[0;34m(self, key, method, tolerance)\u001b[0m\n\u001b[1;32m   3361\u001b[0m                 \u001b[0;32mreturn\u001b[0m \u001b[0mself\u001b[0m\u001b[0;34m.\u001b[0m\u001b[0m_engine\u001b[0m\u001b[0;34m.\u001b[0m\u001b[0mget_loc\u001b[0m\u001b[0;34m(\u001b[0m\u001b[0mcasted_key\u001b[0m\u001b[0;34m)\u001b[0m\u001b[0;34m\u001b[0m\u001b[0;34m\u001b[0m\u001b[0m\n\u001b[1;32m   3362\u001b[0m             \u001b[0;32mexcept\u001b[0m \u001b[0mKeyError\u001b[0m \u001b[0;32mas\u001b[0m \u001b[0merr\u001b[0m\u001b[0;34m:\u001b[0m\u001b[0;34m\u001b[0m\u001b[0;34m\u001b[0m\u001b[0m\n\u001b[0;32m-> 3363\u001b[0;31m                 \u001b[0;32mraise\u001b[0m \u001b[0mKeyError\u001b[0m\u001b[0;34m(\u001b[0m\u001b[0mkey\u001b[0m\u001b[0;34m)\u001b[0m \u001b[0;32mfrom\u001b[0m \u001b[0merr\u001b[0m\u001b[0;34m\u001b[0m\u001b[0;34m\u001b[0m\u001b[0m\n\u001b[0m\u001b[1;32m   3364\u001b[0m \u001b[0;34m\u001b[0m\u001b[0m\n\u001b[1;32m   3365\u001b[0m         \u001b[0;32mif\u001b[0m \u001b[0mis_scalar\u001b[0m\u001b[0;34m(\u001b[0m\u001b[0mkey\u001b[0m\u001b[0;34m)\u001b[0m \u001b[0;32mand\u001b[0m \u001b[0misna\u001b[0m\u001b[0;34m(\u001b[0m\u001b[0mkey\u001b[0m\u001b[0;34m)\u001b[0m \u001b[0;32mand\u001b[0m \u001b[0;32mnot\u001b[0m \u001b[0mself\u001b[0m\u001b[0;34m.\u001b[0m\u001b[0mhasnans\u001b[0m\u001b[0;34m:\u001b[0m\u001b[0;34m\u001b[0m\u001b[0;34m\u001b[0m\u001b[0m\n",
      "\u001b[0;31mKeyError\u001b[0m: 'Fuel consumption (economy) - combined'"
     ]
    }
   ],
   "source": [
    "#Testing for 'a' dataframe:\n",
    "#for csvs in dicto['a']:\n",
    "#    specifications_of_each_car(csvs['modifications_url'])\n",
    " #   df = pd.concat([df,specs3], ignore_index=True)\n",
    "\n",
    "#Taking the shape to loop\n",
    "#dicto['a']['modifications_url'].shape[0]\n",
    "#dicto['a'].reset_index(inplace = True)\n",
    "#global specs3\n",
    "for i in range(0,dicto['b']['modifications_url'].shape[0]+1):\n",
    "    specifications_of_each_car(dicto['a']['modifications_url'][i])\n",
    "    df = pd.concat([df,specs3], ignore_index=True)\n",
    "    \n",
    "\n",
    "df.head()"
   ]
  },
  {
   "cell_type": "code",
   "execution_count": 82,
   "metadata": {},
   "outputs": [
    {
     "data": {
      "text/html": [
       "<div>\n",
       "<style scoped>\n",
       "    .dataframe tbody tr th:only-of-type {\n",
       "        vertical-align: middle;\n",
       "    }\n",
       "\n",
       "    .dataframe tbody tr th {\n",
       "        vertical-align: top;\n",
       "    }\n",
       "\n",
       "    .dataframe thead th {\n",
       "        text-align: right;\n",
       "    }\n",
       "</style>\n",
       "<table border=\"1\" class=\"dataframe\">\n",
       "  <thead>\n",
       "    <tr style=\"text-align: right;\">\n",
       "      <th></th>\n",
       "      <th>brands_url</th>\n",
       "      <th>models</th>\n",
       "      <th>models_url</th>\n",
       "      <th>generations</th>\n",
       "      <th>generations_url</th>\n",
       "      <th>modifications</th>\n",
       "      <th>modifications_url</th>\n",
       "    </tr>\n",
       "  </thead>\n",
       "  <tbody>\n",
       "    <tr>\n",
       "      <th>0</th>\n",
       "      <td>https://www.auto-data.net/en/abarth-brand-200</td>\n",
       "      <td>abarth-124-spider-model-2152</td>\n",
       "      <td>https://www.auto-data.net/en/abarth-124-spider...</td>\n",
       "      <td>abarth-124-gt-generation-6774</td>\n",
       "      <td>https://www.auto-data.net/en/abarth-124-gt-gen...</td>\n",
       "      <td>abarth-124-gt-1.4-multiair-170hp-automatic-35172</td>\n",
       "      <td>https://www.auto-data.net/en/abarth-124-gt-1.4...</td>\n",
       "    </tr>\n",
       "    <tr>\n",
       "      <th>1</th>\n",
       "      <td>https://www.auto-data.net/en/abarth-brand-200</td>\n",
       "      <td>abarth-124-spider-model-2152</td>\n",
       "      <td>https://www.auto-data.net/en/abarth-124-spider...</td>\n",
       "      <td>abarth-124-gt-generation-6774</td>\n",
       "      <td>https://www.auto-data.net/en/abarth-124-gt-gen...</td>\n",
       "      <td>abarth-124-gt-1.4-multiair-170hp-35171</td>\n",
       "      <td>https://www.auto-data.net/en/abarth-124-gt-1.4...</td>\n",
       "    </tr>\n",
       "    <tr>\n",
       "      <th>2</th>\n",
       "      <td>https://www.auto-data.net/en/abarth-brand-200</td>\n",
       "      <td>abarth-124-spider-model-2152</td>\n",
       "      <td>https://www.auto-data.net/en/abarth-124-spider...</td>\n",
       "      <td>abarth-124-spider-generation-5004</td>\n",
       "      <td>https://www.auto-data.net/en/abarth-124-spider...</td>\n",
       "      <td>abarth-124-spider-1.4-multiair-170hp-automatic...</td>\n",
       "      <td>https://www.auto-data.net/en/abarth-124-spider...</td>\n",
       "    </tr>\n",
       "    <tr>\n",
       "      <th>3</th>\n",
       "      <td>https://www.auto-data.net/en/abarth-brand-200</td>\n",
       "      <td>abarth-124-spider-model-2152</td>\n",
       "      <td>https://www.auto-data.net/en/abarth-124-spider...</td>\n",
       "      <td>abarth-124-spider-generation-5004</td>\n",
       "      <td>https://www.auto-data.net/en/abarth-124-spider...</td>\n",
       "      <td>abarth-124-spider-1.4-multiair-170hp-25192</td>\n",
       "      <td>https://www.auto-data.net/en/abarth-124-spider...</td>\n",
       "    </tr>\n",
       "    <tr>\n",
       "      <th>4</th>\n",
       "      <td>https://www.auto-data.net/en/abarth-brand-200</td>\n",
       "      <td>abarth-500-model-2872</td>\n",
       "      <td>https://www.auto-data.net/en/abarth-500-model-...</td>\n",
       "      <td>abarth-500c-generation-8152</td>\n",
       "      <td>https://www.auto-data.net/en/abarth-500c-gener...</td>\n",
       "      <td>abarth-500c-1.4-t-jet-140hp-mta-42379</td>\n",
       "      <td>https://www.auto-data.net/en/abarth-500c-1.4-t...</td>\n",
       "    </tr>\n",
       "    <tr>\n",
       "      <th>...</th>\n",
       "      <td>...</td>\n",
       "      <td>...</td>\n",
       "      <td>...</td>\n",
       "      <td>...</td>\n",
       "      <td>...</td>\n",
       "      <td>...</td>\n",
       "      <td>...</td>\n",
       "    </tr>\n",
       "    <tr>\n",
       "      <th>3870</th>\n",
       "      <td>https://www.auto-data.net/en/autobianchi-brand-51</td>\n",
       "      <td>autobianchi-a-112-model-605</td>\n",
       "      <td>https://www.auto-data.net/en/autobianchi-a-112...</td>\n",
       "      <td>autobianchi-a-112-generation-1299</td>\n",
       "      <td>https://www.auto-data.net/en/autobianchi-a-112...</td>\n",
       "      <td>autobianchi-a-112-1.0-abarth-58hp-5765</td>\n",
       "      <td>https://www.auto-data.net/en/autobianchi-a-112...</td>\n",
       "    </tr>\n",
       "    <tr>\n",
       "      <th>3871</th>\n",
       "      <td>https://www.auto-data.net/en/autobianchi-brand-51</td>\n",
       "      <td>autobianchi-a-112-model-605</td>\n",
       "      <td>https://www.auto-data.net/en/autobianchi-a-112...</td>\n",
       "      <td>autobianchi-a-112-generation-1299</td>\n",
       "      <td>https://www.auto-data.net/en/autobianchi-a-112...</td>\n",
       "      <td>autobianchi-a-112-0.9-junior-42hp-5764</td>\n",
       "      <td>https://www.auto-data.net/en/autobianchi-a-112...</td>\n",
       "    </tr>\n",
       "    <tr>\n",
       "      <th>3872</th>\n",
       "      <td>https://www.auto-data.net/en/autobianchi-brand-51</td>\n",
       "      <td>autobianchi-a-112-model-605</td>\n",
       "      <td>https://www.auto-data.net/en/autobianchi-a-112...</td>\n",
       "      <td>autobianchi-a-112-generation-1299</td>\n",
       "      <td>https://www.auto-data.net/en/autobianchi-a-112...</td>\n",
       "      <td>autobianchi-a-112-0.9-e-47hp-5763</td>\n",
       "      <td>https://www.auto-data.net/en/autobianchi-a-112...</td>\n",
       "    </tr>\n",
       "    <tr>\n",
       "      <th>3873</th>\n",
       "      <td>https://www.auto-data.net/en/autobianchi-brand-51</td>\n",
       "      <td>autobianchi-a-112-model-605</td>\n",
       "      <td>https://www.auto-data.net/en/autobianchi-a-112...</td>\n",
       "      <td>autobianchi-a-112-generation-1299</td>\n",
       "      <td>https://www.auto-data.net/en/autobianchi-a-112...</td>\n",
       "      <td>autobianchi-a-112-0.9-45hp-5762</td>\n",
       "      <td>https://www.auto-data.net/en/autobianchi-a-112...</td>\n",
       "    </tr>\n",
       "    <tr>\n",
       "      <th>3874</th>\n",
       "      <td>https://www.auto-data.net/en/autobianchi-brand-51</td>\n",
       "      <td>autobianchi-a-112-model-605</td>\n",
       "      <td>https://www.auto-data.net/en/autobianchi-a-112...</td>\n",
       "      <td>autobianchi-a-112-generation-1299</td>\n",
       "      <td>https://www.auto-data.net/en/autobianchi-a-112...</td>\n",
       "      <td>autobianchi-a-112-0.9-44hp-5761</td>\n",
       "      <td>https://www.auto-data.net/en/autobianchi-a-112...</td>\n",
       "    </tr>\n",
       "  </tbody>\n",
       "</table>\n",
       "<p>3875 rows × 7 columns</p>\n",
       "</div>"
      ],
      "text/plain": [
       "                                             brands_url  \\\n",
       "0         https://www.auto-data.net/en/abarth-brand-200   \n",
       "1         https://www.auto-data.net/en/abarth-brand-200   \n",
       "2         https://www.auto-data.net/en/abarth-brand-200   \n",
       "3         https://www.auto-data.net/en/abarth-brand-200   \n",
       "4         https://www.auto-data.net/en/abarth-brand-200   \n",
       "...                                                 ...   \n",
       "3870  https://www.auto-data.net/en/autobianchi-brand-51   \n",
       "3871  https://www.auto-data.net/en/autobianchi-brand-51   \n",
       "3872  https://www.auto-data.net/en/autobianchi-brand-51   \n",
       "3873  https://www.auto-data.net/en/autobianchi-brand-51   \n",
       "3874  https://www.auto-data.net/en/autobianchi-brand-51   \n",
       "\n",
       "                            models  \\\n",
       "0     abarth-124-spider-model-2152   \n",
       "1     abarth-124-spider-model-2152   \n",
       "2     abarth-124-spider-model-2152   \n",
       "3     abarth-124-spider-model-2152   \n",
       "4            abarth-500-model-2872   \n",
       "...                            ...   \n",
       "3870   autobianchi-a-112-model-605   \n",
       "3871   autobianchi-a-112-model-605   \n",
       "3872   autobianchi-a-112-model-605   \n",
       "3873   autobianchi-a-112-model-605   \n",
       "3874   autobianchi-a-112-model-605   \n",
       "\n",
       "                                             models_url  \\\n",
       "0     https://www.auto-data.net/en/abarth-124-spider...   \n",
       "1     https://www.auto-data.net/en/abarth-124-spider...   \n",
       "2     https://www.auto-data.net/en/abarth-124-spider...   \n",
       "3     https://www.auto-data.net/en/abarth-124-spider...   \n",
       "4     https://www.auto-data.net/en/abarth-500-model-...   \n",
       "...                                                 ...   \n",
       "3870  https://www.auto-data.net/en/autobianchi-a-112...   \n",
       "3871  https://www.auto-data.net/en/autobianchi-a-112...   \n",
       "3872  https://www.auto-data.net/en/autobianchi-a-112...   \n",
       "3873  https://www.auto-data.net/en/autobianchi-a-112...   \n",
       "3874  https://www.auto-data.net/en/autobianchi-a-112...   \n",
       "\n",
       "                            generations  \\\n",
       "0         abarth-124-gt-generation-6774   \n",
       "1         abarth-124-gt-generation-6774   \n",
       "2     abarth-124-spider-generation-5004   \n",
       "3     abarth-124-spider-generation-5004   \n",
       "4           abarth-500c-generation-8152   \n",
       "...                                 ...   \n",
       "3870  autobianchi-a-112-generation-1299   \n",
       "3871  autobianchi-a-112-generation-1299   \n",
       "3872  autobianchi-a-112-generation-1299   \n",
       "3873  autobianchi-a-112-generation-1299   \n",
       "3874  autobianchi-a-112-generation-1299   \n",
       "\n",
       "                                        generations_url  \\\n",
       "0     https://www.auto-data.net/en/abarth-124-gt-gen...   \n",
       "1     https://www.auto-data.net/en/abarth-124-gt-gen...   \n",
       "2     https://www.auto-data.net/en/abarth-124-spider...   \n",
       "3     https://www.auto-data.net/en/abarth-124-spider...   \n",
       "4     https://www.auto-data.net/en/abarth-500c-gener...   \n",
       "...                                                 ...   \n",
       "3870  https://www.auto-data.net/en/autobianchi-a-112...   \n",
       "3871  https://www.auto-data.net/en/autobianchi-a-112...   \n",
       "3872  https://www.auto-data.net/en/autobianchi-a-112...   \n",
       "3873  https://www.auto-data.net/en/autobianchi-a-112...   \n",
       "3874  https://www.auto-data.net/en/autobianchi-a-112...   \n",
       "\n",
       "                                          modifications  \\\n",
       "0      abarth-124-gt-1.4-multiair-170hp-automatic-35172   \n",
       "1                abarth-124-gt-1.4-multiair-170hp-35171   \n",
       "2     abarth-124-spider-1.4-multiair-170hp-automatic...   \n",
       "3            abarth-124-spider-1.4-multiair-170hp-25192   \n",
       "4                 abarth-500c-1.4-t-jet-140hp-mta-42379   \n",
       "...                                                 ...   \n",
       "3870             autobianchi-a-112-1.0-abarth-58hp-5765   \n",
       "3871             autobianchi-a-112-0.9-junior-42hp-5764   \n",
       "3872                  autobianchi-a-112-0.9-e-47hp-5763   \n",
       "3873                    autobianchi-a-112-0.9-45hp-5762   \n",
       "3874                    autobianchi-a-112-0.9-44hp-5761   \n",
       "\n",
       "                                      modifications_url  \n",
       "0     https://www.auto-data.net/en/abarth-124-gt-1.4...  \n",
       "1     https://www.auto-data.net/en/abarth-124-gt-1.4...  \n",
       "2     https://www.auto-data.net/en/abarth-124-spider...  \n",
       "3     https://www.auto-data.net/en/abarth-124-spider...  \n",
       "4     https://www.auto-data.net/en/abarth-500c-1.4-t...  \n",
       "...                                                 ...  \n",
       "3870  https://www.auto-data.net/en/autobianchi-a-112...  \n",
       "3871  https://www.auto-data.net/en/autobianchi-a-112...  \n",
       "3872  https://www.auto-data.net/en/autobianchi-a-112...  \n",
       "3873  https://www.auto-data.net/en/autobianchi-a-112...  \n",
       "3874  https://www.auto-data.net/en/autobianchi-a-112...  \n",
       "\n",
       "[3875 rows x 7 columns]"
      ]
     },
     "execution_count": 82,
     "metadata": {},
     "output_type": "execute_result"
    }
   ],
   "source": [
    "#Looping to create the final dataframe\n",
    "\n",
    "#for i in range(0,10):\n",
    "#    print(dicto['a']['modifications_url'][i])\n",
    "#dicto['b'].reset_index()\n",
    "dicto['a']#.drop(columns = ['level_0','index'],inplace = True)"
   ]
  },
  {
   "cell_type": "code",
   "execution_count": null,
   "metadata": {},
   "outputs": [],
   "source": [
    "# #This is the dataframe with all the information we want\n",
    "# page4 = 'https://www.auto-data.net/en/alfa-romeo-mito-1.6-jtdm-120hp-16680'\n",
    "# what = pd.read_html(page4)[1]  \n",
    "# what\n",
    "\n",
    "# what2 = what[(what['General information'] == 'Brand')\n",
    "# |(what['General information'] == 'Model')\n",
    "# |(what['General information'] == 'Generation')\n",
    "# |(what['General information'] == 'Modification (Engine)')\n",
    "# |(what['General information'] == 'CO2 emissions') \n",
    "# |(what['General information'] == 'Body type')\n",
    "# |(what['General information'] == 'Fuel tank capacity')\n",
    "# |(what['General information'] == 'Fuel consumption (economy) - combined')\n",
    "# |(what['General information'] == 'Fuel Type')\n",
    "# |(what['General information'] == 'Power')]\n",
    "# what2.index = what2['General information']\n",
    "# what3 = what2.T\n",
    "# what3.drop(axis = 0, labels = 'General information', inplace = True)\n",
    "# what3['Fuel tank(l)'] = what3['Fuel tank capacity'].apply(lambda x : x.split(' ')[0])\n",
    "# what3['Fuel consumption(l/100km)'] = what3['Fuel consumption (economy) - combined'].apply(lambda x : x.split(' ')[0])\n",
    "# what3['Power(Hp)'] = what3['Power'].apply(lambda x: x.split(' ')[0])\n",
    "# what3['Range (Km)'] = what3[['Fuel tank(l)','Fuel consumption(l/100km)']].apply(lambda item: int(item[0])/float(item[1])*100,axis=1)\n",
    "\n",
    "# what4 = what3\n",
    "# what4.drop(columns = ['Fuel consumption (economy) - combined', 'Fuel tank capacity'], inplace = True)\n",
    "# what4                               #We need to remove this General information column still"
   ]
  }
 ],
 "metadata": {
  "interpreter": {
   "hash": "9551cd33bf16c35239638d01283791bf06f66b16b64b8c1df3bd1173c0151abf"
  },
  "kernelspec": {
   "display_name": "Python 3 (ipykernel)",
   "language": "python",
   "name": "python3"
  },
  "language_info": {
   "codemirror_mode": {
    "name": "ipython",
    "version": 3
   },
   "file_extension": ".py",
   "mimetype": "text/x-python",
   "name": "python",
   "nbconvert_exporter": "python",
   "pygments_lexer": "ipython3",
   "version": "3.8.2"
  }
 },
 "nbformat": 4,
 "nbformat_minor": 2
}
