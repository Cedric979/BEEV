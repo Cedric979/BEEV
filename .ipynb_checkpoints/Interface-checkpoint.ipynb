{
 "cells": [
  {
   "cell_type": "code",
   "execution_count": 4,
   "id": "e344856a",
   "metadata": {},
   "outputs": [
    {
     "name": "stderr",
     "output_type": "stream",
     "text": [
      "/Users/cedricpinel/opt/anaconda3/envs/streamlite/lib/python3.8/site-packages/sklearn/base.py:445: UserWarning: X does not have valid feature names, but NearestNeighbors was fitted with feature names\n",
      "  warnings.warn(\n"
     ]
    }
   ],
   "source": [
    "import numpy as np\n",
    "import pandas as pd\n",
    "import streamlit as st\n",
    "import string\n",
    "from PIL import Image\n",
    "\n",
    "#LIBRARIES\n",
    "import numpy as np # linear algebra\n",
    "import pandas as pd # data processing, CSV file I/O (e.g. pd.read_csv)\n",
    "#Graphics\n",
    "#import matplotlib.pyplot as plt\n",
    "#import seaborn as sns\n",
    "#KNeighbors\n",
    "from sklearn.neighbors import NearestNeighbors\n",
    "#Scalers\n",
    "from sklearn import preprocessing\n",
    "from sklearn.preprocessing import StandardScaler, MinMaxScaler\n",
    "#Data selection\n",
    "from sklearn.model_selection import train_test_split\n",
    "from sklearn.model_selection import GridSearchCV\n",
    "from sklearn.model_selection import RandomizedSearchCV\n",
    "from sklearn.decomposition import PCA\n",
    "#METRICS\n",
    "from sklearn.model_selection import cross_val_score\n",
    "from sklearn.metrics import precision_score, recall_score,accuracy_score\n",
    "from sklearn.metrics import mean_squared_error\n",
    "#RANDOM\n",
    "import random as rd\n",
    "\n",
    "#global link1\n",
    "\n",
    "df = pd.read_csv(\"Beev Electric Vehicle Specs Data.csv\")\n",
    "df_new = pd.DataFrame(zip(df['Full Name'],df['Brand'], df['Model'], df['Main Price'], df['Category']))\n",
    "df_new.rename(columns = {0:'Full Name', 1:'Brand', 2:'Model', 3:'Main Price',4: 'Category'}, inplace = True)\n",
    "df_new['Main Price'].value_counts(dropna = False)   # We either drop the Nans or we fill with the average\n",
    "df_new['Main Price'].fillna(df_new['Main Price'].mean(), inplace = True) \n",
    "X = df_new[['Main Price']]          \n",
    "distanceKNN = NearestNeighbors(n_neighbors=3).fit(X)\n",
    "distanceKNN.kneighbors([[60000]], 3, return_distance = False)\n",
    "#df[['Full Name', 'Main Price']].iloc[[148, 16, 57]]\n",
    "categories = list(df['Category'].unique())\n",
    "categories.insert(0,\"ALL\")\n",
    "\n",
    "image = Image.open('BEEV_image.png')\n",
    "st.image(image)\n",
    "st.title(\"Let's check which EV cars would suit to you\")\n",
    "value_one = st.text_area(\"text box\")\n",
    "\n",
    "#Code below to check\n",
    "if category_choosen!= \"ALL\":\n",
    "    df['Category'] == category_choosen\n",
    "else: category_choosen = \"\" # to check if we can filter the DF if category_choosen ==\"\"\n",
    "        \n",
    "# st.write(\"similar unique words\",dict2)\n",
    "label1 = \"please select the category of the car you would like\"\n",
    "category_choosen = st.selectbox(label1,categories)\n",
    "st.write(category_choosen)\n",
    "if st.button('Get info'):\n",
    "  st.write(value_one)\n",
    "  #  for i in range(1, 1000): #len(df_lyrics_final['Lyric'])):\n",
    "   #   \n",
    "    #    lyrics_comparator(punct(lyrics_one), punct(df_lyrics_final['Lyric'][i]))\n",
    "     #   final_dict[i] = [max_similar,similar_w_unique, similar_w_not_unique]\n",
    "\n",
    "  #  lyrics_report(punct(lyrics_one), punct(df_lyrics_final['Lyric'][dict_sum(final_dict)]))\n",
    "   # st.write(df_lyrics_final.iloc[dict_sum(final_dict)][['Artist','Song']]) #veribal \n",
    "    #link1 = df_lyrics_final.iloc[dict_sum(final_dict)][['SLink']][0]\n",
    "    #st.write(type(link1))\n",
    "\n",
    "\n",
    "    #st.write(link1)\n",
    "   # url = f\"https://www.vagalume.com.br{link1}\"\n",
    "   # st.write(url)\n",
    "\n"
   ]
  },
  {
   "cell_type": "code",
   "execution_count": null,
   "id": "964a6354",
   "metadata": {},
   "outputs": [],
   "source": []
  }
 ],
 "metadata": {
  "kernelspec": {
   "display_name": "Python 3 (ipykernel)",
   "language": "python",
   "name": "python3"
  },
  "language_info": {
   "codemirror_mode": {
    "name": "ipython",
    "version": 3
   },
   "file_extension": ".py",
   "mimetype": "text/x-python",
   "name": "python",
   "nbconvert_exporter": "python",
   "pygments_lexer": "ipython3",
   "version": "3.8.12"
  }
 },
 "nbformat": 4,
 "nbformat_minor": 5
}
