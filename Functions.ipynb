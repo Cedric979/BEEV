{
 "cells": [
  {
   "cell_type": "markdown",
   "metadata": {},
   "source": [
    "## **Final dataframe**"
   ]
  },
  {
   "cell_type": "code",
   "execution_count": null,
   "metadata": {},
   "outputs": [],
   "source": [
    "#Getting the standard/norm part of the CO2\n",
    "def co2_grab(dfserie):\n",
    "    return \" \".join(dfserie.name.split()[2:])\n",
    "\n",
    "\n",
    "#Function to split the CO2 values that have extra characters\n",
    "def split_bin(value):\n",
    "    if value.find('-') != -1:\n",
    "        value = value.split('-')\n",
    "        value[0] = float(value[0])\n",
    "        if len(value[1])>1:\n",
    "            value[1] = float(value[1])\n",
    "        else: value[1] = float(value[0])\n",
    "        return value\n",
    "    elif value.find('+') != -1:\n",
    "        value = value.split('+')\n",
    "        value[0] = float(value[0])\n",
    "        value[1] = float(value[1])\n",
    "        return value\n",
    "    else: return value\n",
    "    \n",
    "#Function to split the fuel values that have extra characters\n",
    "def basic_split_bin(value):\n",
    "    if value.find('-') != -1:\n",
    "        value = value.split('-')\n",
    "        if len(value[1])==0:\n",
    "            value[1] = value[0]\n",
    "        return value\n",
    "    elif value.find('+') != -1:\n",
    "        value = value.split('+')\n",
    "        return value\n",
    "    else: return value\n",
    "\n",
    "#Getting only the standard(norm) used to calculate the fuel\n",
    "def norm_fuel_grab(dfserie):\n",
    "    return \" \".join(dfserie.name.split()[3:]).replace('-','').rstrip().lstrip()\n",
    "\n",
    "#Removing the combined word in fuel\n",
    "def fuel_clean(dfserie):\n",
    "    return \" \".join(dfserie.split()[0:1]).replace('combined','')\n",
    "\n",
    "\n",
    "# Fixing the weird values in the data\n",
    "def fixpoints(item):\n",
    "    if type(item) == str:\n",
    "        item = item.replace('..', '.')\n",
    "        item = item.split()[0]\n",
    "        if len(item)> 5 and item.count('.')==2:\n",
    "            item = item.split('.')[0]+'.'+item.split('.')[1][0]+ \"-\"+item.split('.')[1][1:]+'.'+item.split('.')[2]\n",
    "            return item\n",
    "    return item\n",
    "\n",
    "\n",
    "### Function to get rid of list values and make them all float for fuel consumption\n",
    "def remove_list_fuel(value):\n",
    "    if type(value) == list:\n",
    "        if len(value) == 1 or '' in value:\n",
    "            value = value[0]\n",
    "            return float(value)\n",
    "        elif len(value) == 2:\n",
    "            return(sum([float(x)/2 for x in value]))\n",
    "    else:\n",
    "        return float(value)\n",
    "\n",
    "\n",
    "### Remove list values and make them float for tank capacity\n",
    "def remove_list_tank(item):\n",
    "    if type(item) == list:\n",
    "        if len(item) == 2:\n",
    "            return(sum([float(x)/2 for x in item]))\n",
    "    else:\n",
    "        return float(item)\n",
    "\n",
    "\n",
    "### Function to convert every value in CO2 emissions column to float\n",
    "def float_co2(value):\n",
    "    if type(value) == str and value != 'N/A' and value!=\"LEV3\":\n",
    "        return(float(value))\n",
    "    elif value == 'LEV3':\n",
    "        return 'N/A'\n",
    "    else:\n",
    "        return value \n",
    "\n",
    "\n",
    "## Function to convert the categories\n",
    "def category_conversion(item):\n",
    "    for keys in dicto_gev.keys():\n",
    "        if item == keys:\n",
    "            return dicto_cat[dicto_gev[keys]]"
   ]
  },
  {
   "cell_type": "markdown",
   "metadata": {},
   "source": [
    "## **Interfaces**"
   ]
  },
  {
   "cell_type": "markdown",
   "metadata": {},
   "source": [
    "### Interface 1 "
   ]
  },
  {
   "cell_type": "code",
   "execution_count": null,
   "metadata": {},
   "outputs": [],
   "source": [
    "#Building the Data for maintenance_costs\n",
    "maintenance_costs = pd.read_csv('maintenance_costs_db')\n",
    "def maint_cost_coef(item):\n",
    "    if item in list(maintenance_costs['Brand'].value_counts().keys()):\n",
    "        return maintenance_costs['Average Gas engine (€/km)'].iloc[maintenance_costs[maintenance_costs['Brand'] == item].index[0]]/10000\n",
    "    else: return round(maintenance_costs['Average Gas engine (€/km)'].mean()/10000,2)\n",
    "        \n",
    "def EV_maint_cost_coef(item):\n",
    "    if item in list(maintenance_costs['Brand'].value_counts().keys()):\n",
    "        return maintenance_costs['Average EV (€/km)'].iloc[maintenance_costs[maintenance_costs['Brand'] == item].index[0]]/10000\n",
    "    else: return round(maintenance_costs['Average EV (€/km)'].mean()/10000,2)"
   ]
  },
  {
   "cell_type": "markdown",
   "metadata": {},
   "source": [
    "### Interface 2"
   ]
  },
  {
   "cell_type": "code",
   "execution_count": null,
   "metadata": {},
   "outputs": [],
   "source": [
    "#Calculating the taxes for the CO2 emission\n",
    "def malus_calculation(item):\n",
    "    malus = 0\n",
    "    if item < bonus_malus['g / km'].min():\n",
    "        malus = 0\n",
    "    elif item > bonus_malus['g / km'].max():\n",
    "        malus = bonus_malus['Malus (€)'].max()\n",
    "    else :\n",
    "        malus_index = bonus_malus['Malus (€)'][bonus_malus['g / km'] == item].index[0]       \n",
    "        malus = bonus_malus['Malus (€)'].iloc[malus_index]\n",
    "        return malus"
   ]
  }
 ],
 "metadata": {
  "language_info": {
   "name": "python"
  },
  "orig_nbformat": 4
 },
 "nbformat": 4,
 "nbformat_minor": 2
}
