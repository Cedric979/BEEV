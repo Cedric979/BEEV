{
 "cells": [
  {
   "cell_type": "code",
   "execution_count": null,
   "metadata": {},
   "outputs": [],
   "source": [
    "from Libraries import *"
   ]
  },
  {
   "cell_type": "markdown",
   "metadata": {},
   "source": [
    "## **Interfaces**"
   ]
  },
  {
   "cell_type": "markdown",
   "metadata": {},
   "source": [
    "### Interface 1 "
   ]
  },
  {
   "cell_type": "code",
   "execution_count": null,
   "metadata": {},
   "outputs": [],
   "source": [
    "#Building the Data for maintenance_costs. We divide it by 10000 because we had too many 0's\n",
    "def maint_cost_coef(item, path_list):\n",
    "    maintenance_costs = pd.read_csv(path_list[-8])\n",
    "    if item in list(maintenance_costs['Brand'].value_counts().keys()):\n",
    "        return maintenance_costs['Average Gas engine (€/km)'].iloc[maintenance_costs[maintenance_costs['Brand'] == item].index[0]]/10000\n",
    "    else: return round(maintenance_costs['Average Gas engine (€/km)'].mean()/10000,2)\n",
    "        \n",
    "##For the EV cars\n",
    "def EV_maint_cost_coef(item, path_list):\n",
    "    maintenance_costs = pd.read_csv(path_list[-8])\n",
    "    if item in list(maintenance_costs['Brand'].value_counts().keys()):\n",
    "        return maintenance_costs['Average EV (€/km)'].iloc[maintenance_costs[maintenance_costs['Brand'] == item].index[0]]/10000\n",
    "    else: return round(maintenance_costs['Average EV (€/km)'].mean()/10000,2)"
   ]
  },
  {
   "cell_type": "markdown",
   "metadata": {},
   "source": [
    "### Interface 2"
   ]
  },
  {
   "cell_type": "code",
   "execution_count": null,
   "metadata": {},
   "outputs": [],
   "source": [
    "#Calculating the taxes for the CO2 emission\n",
    "def malus_calculation(item):\n",
    "    bonus_malus = pd.read_csv('bonus_malus_db')\n",
    "    bonus_malus['Malus (€)'] = bonus_malus['Malus (€)'].apply(lambda item: item.replace(' ','') if type(item) == str else item)\n",
    "    bonus_malus['Malus (€)'] = bonus_malus['Malus (€)'].astype(int)\n",
    "    malus = 0\n",
    "    if item < bonus_malus['g / km'].min():\n",
    "        malus = 0\n",
    "    elif item > bonus_malus['g / km'].max():\n",
    "        malus = bonus_malus['Malus (€)'].max()\n",
    "    else :\n",
    "        malus_index = bonus_malus['Malus (€)'][bonus_malus['g / km'] == item].index[0]       \n",
    "        malus = bonus_malus['Malus (€)'].iloc[malus_index]\n",
    "        return malus"
   ]
  }
 ],
 "metadata": {
  "language_info": {
   "name": "python"
  },
  "orig_nbformat": 4
 },
 "nbformat": 4,
 "nbformat_minor": 2
}
