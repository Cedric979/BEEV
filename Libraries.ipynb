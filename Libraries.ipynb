{
 "cells": [
  {
   "cell_type": "code",
   "execution_count": null,
   "metadata": {},
   "outputs": [],
   "source": [
    "import numpy as np\n",
    "import pandas as pd\n",
    "import streamlit as st\n",
    "import string\n",
    "from PIL import Image\n",
    "import datetime\n",
    "import random as rd\n",
    "import re\n",
    "import statistics\n",
    "#Graphics\n",
    "import matplotlib.pyplot as plt\n",
    "import seaborn as sns\n",
    "#KNeighbors\n",
    "from sklearn.neighbors import NearestNeighbors\n",
    "#Scalers\n",
    "from sklearn import preprocessing\n",
    "from sklearn.preprocessing import StandardScaler, MinMaxScaler\n",
    "#Data selection\n",
    "from sklearn.model_selection import train_test_split\n",
    "from sklearn.model_selection import GridSearchCV\n",
    "from sklearn.model_selection import RandomizedSearchCV\n",
    "from sklearn.decomposition import PCA\n",
    "#METRICS\n",
    "from sklearn.model_selection import cross_val_score\n",
    "from sklearn.metrics import precision_score, recall_score,accuracy_score\n",
    "from sklearn.metrics import mean_squared_error\n",
    "#IMPORTING LIBRAY TO GET GOOGLE SPREADSHEETS\n",
    "import gspread\n",
    "#Web scraping\n",
    "from bs4 import BeautifulSoup\n",
    "from random import randint\n",
    "from time import sleep\n",
    "from io import StringIO\n",
    "\n",
    "import base64"
   ]
  }
 ],
 "metadata": {
  "language_info": {
   "name": "python"
  },
  "orig_nbformat": 4
 },
 "nbformat": 4,
 "nbformat_minor": 2
}
