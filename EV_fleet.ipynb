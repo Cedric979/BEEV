{
 "cells": [
  {
   "cell_type": "markdown",
   "id": "942f5cd0",
   "metadata": {},
   "source": [
    "# **Imports and DataFrame cleaning**"
   ]
  },
  {
   "cell_type": "code",
   "execution_count": 1,
   "id": "2d5aacd5",
   "metadata": {},
   "outputs": [],
   "source": [
    "#LIBRARIES\n",
    "import numpy as np # linear algebra\n",
    "import pandas as pd # data processing, CSV file I/O (e.g. pd.read_csv)\n",
    "#Graphics\n",
    "import matplotlib.pyplot as plt\n",
    "import seaborn as sns\n",
    "#KNeighbors\n",
    "from sklearn.neighbors import NearestNeighbors\n",
    "#Scalers\n",
    "from sklearn import preprocessing\n",
    "from sklearn.preprocessing import StandardScaler, MinMaxScaler\n",
    "#Data selection\n",
    "from sklearn.model_selection import train_test_split\n",
    "from sklearn.model_selection import GridSearchCV\n",
    "from sklearn.model_selection import RandomizedSearchCV\n",
    "from sklearn.decomposition import PCA\n",
    "#METRICS\n",
    "from sklearn.model_selection import cross_val_score\n",
    "from sklearn.metrics import precision_score, recall_score,accuracy_score\n",
    "from sklearn.metrics import mean_squared_error\n",
    "#RANDOM\n",
    "import random as rd"
   ]
  },
  {
   "cell_type": "code",
   "execution_count": 2,
   "id": "7078ca1a",
   "metadata": {},
   "outputs": [],
   "source": [
    "df = pd.read_csv(\"Beev Electric Vehicle Specs Data.csv\")"
   ]
  },
  {
   "cell_type": "code",
   "execution_count": 3,
   "id": "405aa15c",
   "metadata": {},
   "outputs": [
    {
     "name": "stdout",
     "output_type": "stream",
     "text": [
      "<class 'pandas.core.frame.DataFrame'>\n",
      "RangeIndex: 150 entries, 0 to 149\n",
      "Data columns (total 70 columns):\n",
      " #   Column                                  Non-Null Count  Dtype  \n",
      "---  ------                                  --------------  -----  \n",
      " 0   Full Name                               150 non-null    object \n",
      " 1   Model                                   150 non-null    object \n",
      " 2   Brand                                   150 non-null    object \n",
      " 3   Acceleration (0-100 km/h)               142 non-null    float64\n",
      " 4   Range (km)                              149 non-null    float64\n",
      " 5   Average Winter Range                    136 non-null    float64\n",
      " 6   Highway Winter Range                    135 non-null    float64\n",
      " 7   City Winter Range                       135 non-null    float64\n",
      " 8   Average Summer Range                    136 non-null    float64\n",
      " 9   Highway Summer Range                    135 non-null    float64\n",
      " 10  City Summer Range                       134 non-null    float64\n",
      " 11  Optimal Slow Charge                     142 non-null    object \n",
      " 12  Optimal Fast Charge                     131 non-null    object \n",
      " 13  Battery Capacity (kW)                   150 non-null    float64\n",
      " 14  Useable Battery Capacity                147 non-null    float64\n",
      " 15  Category                                150 non-null    object \n",
      " 16  Government Incentive Category for Help  137 non-null    object \n",
      " 17  Vehicle Consumption (Wh)                124 non-null    float64\n",
      " 18  Average Winter Consumption              131 non-null    float64\n",
      " 19  Highway Winter Consumption              131 non-null    float64\n",
      " 20  City Winter Consumption                 131 non-null    float64\n",
      " 21  Average Summer Consumption              132 non-null    float64\n",
      " 22  Highway Summer Consumption              131 non-null    float64\n",
      " 23  City Summer Consumption                 131 non-null    float64\n",
      " 24  Torque                                  147 non-null    float64\n",
      " 25  Availability - deleted                  139 non-null    object \n",
      " 26  Distance                                0 non-null      float64\n",
      " 27  Main Finishes                           120 non-null    object \n",
      " 28  Finishes                                117 non-null    object \n",
      " 29  Height (mm)                             134 non-null    float64\n",
      " 30  Main Image                              150 non-null    object \n",
      " 31  Product Image                           150 non-null    object \n",
      " 32  Images                                  137 non-null    object \n",
      " 33  Width                                   133 non-null    float64\n",
      " 34  Last Edition of Finishes Date           33 non-null     object \n",
      " 35  Length (mm)                             133 non-null    float64\n",
      " 36  Label                                   19 non-null     object \n",
      " 37  Average Range                           78 non-null     float64\n",
      " 38  Seats                                   150 non-null    int64  \n",
      " 39  Empty Weight (kg)                       136 non-null    float64\n",
      " 40  Max Price                               16 non-null     float64\n",
      " 41  Min Price                               39 non-null     float64\n",
      " 42  Slow Charge Port                        146 non-null    object \n",
      " 43  Fast Charge Port                        138 non-null    object \n",
      " 44  Main Price                              148 non-null    float64\n",
      " 45  Max Power for Slow Charge               147 non-null    float64\n",
      " 46  Max Power for Fast Charge               138 non-null    float64\n",
      " 47  Power output (hp)                       149 non-null    float64\n",
      " 48  Power output KW                         150 non-null    int64  \n",
      " 49  Status                                  22 non-null     object \n",
      " 50  Height - deleted                        0 non-null      float64\n",
      " 51  Charging Time 11 kW                     143 non-null    object \n",
      " 52  Charging Time 175 kW                    132 non-null    object \n",
      " 53  Charging Time 2,3 kW                    142 non-null    object \n",
      " 54  Charging Time 22 kW                     144 non-null    object \n",
      " 55  Charging Time 3,7 kW                    143 non-null    object \n",
      " 56  Charging Time 350 kW                    133 non-null    object \n",
      " 57  Charging Time 50 kW                     134 non-null    object \n",
      " 58  Charging Time 7,4 kW                    144 non-null    object \n",
      " 59  Transmission                            146 non-null    object \n",
      " 60  Type of Driver                          70 non-null     float64\n",
      " 61  Max Speed                               148 non-null    float64\n",
      " 62  Max Trunk Volume (mm)                   111 non-null    float64\n",
      " 63  Min Trunk Volume (mm)                   122 non-null    float64\n",
      " 64  youtube_video                           21 non-null     object \n",
      " 65  Creation Date                           150 non-null    object \n",
      " 66  Modified Date                           150 non-null    object \n",
      " 67  Slug                                    0 non-null      float64\n",
      " 68  Creator                                 112 non-null    object \n",
      " 69  unique id                               150 non-null    object \n",
      "dtypes: float64(36), int64(2), object(32)\n",
      "memory usage: 82.2+ KB\n"
     ]
    }
   ],
   "source": [
    "df.info()"
   ]
  },
  {
   "cell_type": "code",
   "execution_count": 4,
   "id": "68d4b85d",
   "metadata": {},
   "outputs": [
    {
     "data": {
      "text/plain": [
       "Index(['Full Name', 'Model', 'Brand', 'Acceleration (0-100 km/h)',\n",
       "       'Range (km)', 'Average Winter Range', 'Highway Winter Range',\n",
       "       'City Winter Range', 'Average Summer Range', 'Highway Summer Range',\n",
       "       'City Summer Range', 'Optimal Slow Charge', 'Optimal Fast Charge',\n",
       "       'Battery Capacity (kW)', 'Useable Battery Capacity', 'Category',\n",
       "       'Government Incentive Category for Help', 'Vehicle Consumption (Wh)',\n",
       "       'Average Winter Consumption', 'Highway Winter Consumption',\n",
       "       'City Winter Consumption', 'Average Summer Consumption',\n",
       "       'Highway Summer Consumption', 'City Summer Consumption', 'Torque',\n",
       "       'Availability - deleted', 'Distance', 'Main Finishes', 'Finishes',\n",
       "       'Height (mm)', 'Main Image', 'Product Image', 'Images', 'Width',\n",
       "       'Last Edition of Finishes Date', 'Length (mm)', 'Label',\n",
       "       'Average Range', 'Seats', 'Empty Weight (kg)', 'Max Price', 'Min Price',\n",
       "       'Slow Charge Port', 'Fast Charge Port', 'Main Price',\n",
       "       'Max Power for Slow Charge', 'Max Power for Fast Charge',\n",
       "       'Power output (hp)', 'Power output KW', 'Status', 'Height - deleted',\n",
       "       'Charging Time 11 kW', 'Charging Time 175 kW', 'Charging Time 2,3 kW',\n",
       "       'Charging Time 22 kW', 'Charging Time 3,7 kW', 'Charging Time 350 kW',\n",
       "       'Charging Time 50 kW', 'Charging Time 7,4 kW', 'Transmission',\n",
       "       'Type of Driver', 'Max Speed', 'Max Trunk Volume (mm)',\n",
       "       'Min Trunk Volume (mm)', 'youtube_video', 'Creation Date',\n",
       "       'Modified Date', 'Slug', 'Creator', 'unique id'],\n",
       "      dtype='object')"
      ]
     },
     "execution_count": 4,
     "metadata": {},
     "output_type": "execute_result"
    }
   ],
   "source": [
    "df.columns"
   ]
  },
  {
   "cell_type": "markdown",
   "id": "cb5e47dd",
   "metadata": {},
   "source": [
    "## Checking and filling for Nan Values"
   ]
  },
  {
   "cell_type": "code",
   "execution_count": 5,
   "id": "a56a6fa7",
   "metadata": {},
   "outputs": [],
   "source": [
    "nan_values = df.isna().sum()"
   ]
  },
  {
   "cell_type": "code",
   "execution_count": 6,
   "id": "4b015e6b",
   "metadata": {},
   "outputs": [
    {
     "data": {
      "text/plain": [
       "0"
      ]
     },
     "execution_count": 6,
     "metadata": {},
     "output_type": "execute_result"
    }
   ],
   "source": [
    "df['Full Name'].isna().sum()"
   ]
  },
  {
   "cell_type": "code",
   "execution_count": 7,
   "id": "4ef71631",
   "metadata": {},
   "outputs": [],
   "source": [
    "df[df['Main Price'].isna()]   #Mercedes EQB 350 4MATIC around 62000 euros\n",
    "df['Main Price'].fillna(62000.0, inplace = True)"
   ]
  },
  {
   "cell_type": "code",
   "execution_count": 8,
   "id": "4a805a87",
   "metadata": {},
   "outputs": [
    {
     "data": {
      "text/plain": [
       "0"
      ]
     },
     "execution_count": 8,
     "metadata": {},
     "output_type": "execute_result"
    }
   ],
   "source": [
    "df['Category'].isna().sum()"
   ]
  },
  {
   "cell_type": "code",
   "execution_count": 9,
   "id": "a80fd14f",
   "metadata": {},
   "outputs": [],
   "source": [
    "df['Range (km)'].isna().sum() #the car missing the range is Lexus UX 300e. Online it says 165-300km with average of 235km\n",
    "df['Range (km)'].fillna(235.0, inplace = True)"
   ]
  },
  {
   "cell_type": "markdown",
   "id": "d143bf22",
   "metadata": {},
   "source": [
    "# **Model for prediction**"
   ]
  },
  {
   "cell_type": "markdown",
   "id": "d066dea5",
   "metadata": {},
   "source": [
    "## Creating a new DataFrame"
   ]
  },
  {
   "cell_type": "code",
   "execution_count": 10,
   "id": "8179f8f4",
   "metadata": {},
   "outputs": [],
   "source": [
    "#New Dataframe with just columns we discussed for display\n",
    "#However, I already put on trello a question so we know which information to display at the end - answered\n",
    "df_new = pd.DataFrame(zip(df['Full Name'],df['Main Price'],df['Range (km)'], df['Category']))"
   ]
  },
  {
   "cell_type": "code",
   "execution_count": 11,
   "id": "9ba7c72f",
   "metadata": {},
   "outputs": [],
   "source": [
    "#Renaming the columns to the correct name\n",
    "df_new.rename(columns = {0:'Full Name', 1:'Price',2:'Range',3:'Category'}, inplace = True)"
   ]
  },
  {
   "cell_type": "code",
   "execution_count": 12,
   "id": "a910048a",
   "metadata": {},
   "outputs": [
    {
     "data": {
      "text/plain": [
       "SUV           68\n",
       "Utilitaire    26\n",
       "Citadine      21\n",
       "Berline       16\n",
       "Van           11\n",
       "Compacte       8\n",
       "Name: Category, dtype: int64"
      ]
     },
     "execution_count": 12,
     "metadata": {},
     "output_type": "execute_result"
    }
   ],
   "source": [
    "df_new['Category'].value_counts(dropna = False)"
   ]
  },
  {
   "cell_type": "code",
   "execution_count": 13,
   "id": "e9299ddf",
   "metadata": {},
   "outputs": [
    {
     "data": {
      "text/plain": [
       "Index(['Full Name', 'Price', 'Range', 'Category'], dtype='object')"
      ]
     },
     "execution_count": 13,
     "metadata": {},
     "output_type": "execute_result"
    }
   ],
   "source": [
    "df_new.columns                                        "
   ]
  },
  {
   "cell_type": "code",
   "execution_count": 14,
   "id": "c3ce62ce",
   "metadata": {},
   "outputs": [
    {
     "data": {
      "text/html": [
       "<div>\n",
       "<style scoped>\n",
       "    .dataframe tbody tr th:only-of-type {\n",
       "        vertical-align: middle;\n",
       "    }\n",
       "\n",
       "    .dataframe tbody tr th {\n",
       "        vertical-align: top;\n",
       "    }\n",
       "\n",
       "    .dataframe thead th {\n",
       "        text-align: right;\n",
       "    }\n",
       "</style>\n",
       "<table border=\"1\" class=\"dataframe\">\n",
       "  <thead>\n",
       "    <tr style=\"text-align: right;\">\n",
       "      <th></th>\n",
       "      <th>Full Name</th>\n",
       "      <th>Price</th>\n",
       "      <th>Range</th>\n",
       "      <th>Category</th>\n",
       "    </tr>\n",
       "  </thead>\n",
       "  <tbody>\n",
       "    <tr>\n",
       "      <th>0</th>\n",
       "      <td>Aiways U5</td>\n",
       "      <td>39300.0</td>\n",
       "      <td>410.0</td>\n",
       "      <td>SUV</td>\n",
       "    </tr>\n",
       "    <tr>\n",
       "      <th>1</th>\n",
       "      <td>Audi e-tron 50 quattro</td>\n",
       "      <td>71900.0</td>\n",
       "      <td>280.0</td>\n",
       "      <td>SUV</td>\n",
       "    </tr>\n",
       "    <tr>\n",
       "      <th>2</th>\n",
       "      <td>Audi e-tron 55 quattro</td>\n",
       "      <td>84200.0</td>\n",
       "      <td>437.0</td>\n",
       "      <td>SUV</td>\n",
       "    </tr>\n",
       "    <tr>\n",
       "      <th>3</th>\n",
       "      <td>Audi e-tron GT quattro</td>\n",
       "      <td>103040.0</td>\n",
       "      <td>487.0</td>\n",
       "      <td>Berline</td>\n",
       "    </tr>\n",
       "    <tr>\n",
       "      <th>4</th>\n",
       "      <td>Audi e-tron GT RS</td>\n",
       "      <td>142830.0</td>\n",
       "      <td>472.0</td>\n",
       "      <td>Berline</td>\n",
       "    </tr>\n",
       "  </tbody>\n",
       "</table>\n",
       "</div>"
      ],
      "text/plain": [
       "                Full Name     Price  Range Category\n",
       "0               Aiways U5   39300.0  410.0      SUV\n",
       "1  Audi e-tron 50 quattro   71900.0  280.0      SUV\n",
       "2  Audi e-tron 55 quattro   84200.0  437.0      SUV\n",
       "3  Audi e-tron GT quattro  103040.0  487.0  Berline\n",
       "4       Audi e-tron GT RS  142830.0  472.0  Berline"
      ]
     },
     "execution_count": 14,
     "metadata": {},
     "output_type": "execute_result"
    }
   ],
   "source": [
    "df_new.head()"
   ]
  },
  {
   "cell_type": "code",
   "execution_count": 15,
   "id": "e24bb47b",
   "metadata": {},
   "outputs": [
    {
     "data": {
      "text/plain": [
       "['SUV', 'Berline', 'Citadine', 'Utilitaire', 'Compacte', 'Van']"
      ]
     },
     "execution_count": 15,
     "metadata": {},
     "output_type": "execute_result"
    }
   ],
   "source": [
    "categories = list(df['Category'].unique())\n",
    "categories"
   ]
  },
  {
   "cell_type": "markdown",
   "id": "e6bfdefe",
   "metadata": {},
   "source": [
    "## Initiating the model"
   ]
  },
  {
   "cell_type": "code",
   "execution_count": 16,
   "id": "66689506",
   "metadata": {},
   "outputs": [
    {
     "data": {
      "text/html": [
       "<div>\n",
       "<style scoped>\n",
       "    .dataframe tbody tr th:only-of-type {\n",
       "        vertical-align: middle;\n",
       "    }\n",
       "\n",
       "    .dataframe tbody tr th {\n",
       "        vertical-align: top;\n",
       "    }\n",
       "\n",
       "    .dataframe thead th {\n",
       "        text-align: right;\n",
       "    }\n",
       "</style>\n",
       "<table border=\"1\" class=\"dataframe\">\n",
       "  <thead>\n",
       "    <tr style=\"text-align: right;\">\n",
       "      <th></th>\n",
       "      <th>Full Name</th>\n",
       "      <th>Price</th>\n",
       "      <th>Range</th>\n",
       "      <th>Category</th>\n",
       "    </tr>\n",
       "  </thead>\n",
       "  <tbody>\n",
       "    <tr>\n",
       "      <th>0</th>\n",
       "      <td>Aiways U5</td>\n",
       "      <td>39300.0</td>\n",
       "      <td>410.0</td>\n",
       "      <td>SUV</td>\n",
       "    </tr>\n",
       "    <tr>\n",
       "      <th>1</th>\n",
       "      <td>Audi e-tron 50 quattro</td>\n",
       "      <td>71900.0</td>\n",
       "      <td>280.0</td>\n",
       "      <td>SUV</td>\n",
       "    </tr>\n",
       "    <tr>\n",
       "      <th>2</th>\n",
       "      <td>Audi e-tron 55 quattro</td>\n",
       "      <td>84200.0</td>\n",
       "      <td>437.0</td>\n",
       "      <td>SUV</td>\n",
       "    </tr>\n",
       "    <tr>\n",
       "      <th>5</th>\n",
       "      <td>Audi e-tron S</td>\n",
       "      <td>96600.0</td>\n",
       "      <td>374.0</td>\n",
       "      <td>SUV</td>\n",
       "    </tr>\n",
       "    <tr>\n",
       "      <th>6</th>\n",
       "      <td>Audi e-tron S Sportback 55 Quattro</td>\n",
       "      <td>99200.0</td>\n",
       "      <td>380.0</td>\n",
       "      <td>SUV</td>\n",
       "    </tr>\n",
       "    <tr>\n",
       "      <th>...</th>\n",
       "      <td>...</td>\n",
       "      <td>...</td>\n",
       "      <td>...</td>\n",
       "      <td>...</td>\n",
       "    </tr>\n",
       "    <tr>\n",
       "      <th>144</th>\n",
       "      <td>Volkswagen ID.5 Pro Performance</td>\n",
       "      <td>53050.0</td>\n",
       "      <td>410.0</td>\n",
       "      <td>SUV</td>\n",
       "    </tr>\n",
       "    <tr>\n",
       "      <th>145</th>\n",
       "      <td>Volkswagen ID.5GTX</td>\n",
       "      <td>57950.0</td>\n",
       "      <td>410.0</td>\n",
       "      <td>SUV</td>\n",
       "    </tr>\n",
       "    <tr>\n",
       "      <th>147</th>\n",
       "      <td>Volvo  XC40 Recharge Twin</td>\n",
       "      <td>56150.0</td>\n",
       "      <td>400.0</td>\n",
       "      <td>SUV</td>\n",
       "    </tr>\n",
       "    <tr>\n",
       "      <th>148</th>\n",
       "      <td>Volvo C40 Recharge Twin</td>\n",
       "      <td>59760.0</td>\n",
       "      <td>420.0</td>\n",
       "      <td>SUV</td>\n",
       "    </tr>\n",
       "    <tr>\n",
       "      <th>149</th>\n",
       "      <td>Volvo XC40 Recharge</td>\n",
       "      <td>44930.0</td>\n",
       "      <td>400.0</td>\n",
       "      <td>SUV</td>\n",
       "    </tr>\n",
       "  </tbody>\n",
       "</table>\n",
       "<p>68 rows × 4 columns</p>\n",
       "</div>"
      ],
      "text/plain": [
       "                              Full Name    Price  Range Category\n",
       "0                             Aiways U5  39300.0  410.0      SUV\n",
       "1                Audi e-tron 50 quattro  71900.0  280.0      SUV\n",
       "2                Audi e-tron 55 quattro  84200.0  437.0      SUV\n",
       "5                         Audi e-tron S  96600.0  374.0      SUV\n",
       "6    Audi e-tron S Sportback 55 Quattro  99200.0  380.0      SUV\n",
       "..                                  ...      ...    ...      ...\n",
       "144     Volkswagen ID.5 Pro Performance  53050.0  410.0      SUV\n",
       "145                  Volkswagen ID.5GTX  57950.0  410.0      SUV\n",
       "147           Volvo  XC40 Recharge Twin  56150.0  400.0      SUV\n",
       "148             Volvo C40 Recharge Twin  59760.0  420.0      SUV\n",
       "149                 Volvo XC40 Recharge  44930.0  400.0      SUV\n",
       "\n",
       "[68 rows x 4 columns]"
      ]
     },
     "execution_count": 16,
     "metadata": {},
     "output_type": "execute_result"
    }
   ],
   "source": [
    "df_model = df_new\n",
    "df_model[df_model['Category'] == 'SUV']"
   ]
  },
  {
   "cell_type": "code",
   "execution_count": 17,
   "id": "f0480b50",
   "metadata": {},
   "outputs": [],
   "source": [
    "X = df_model[df_model['Category'] == 'SUV'][['Price', 'Range']]     #We also need the Category and TCO. Category we will filter as discussed. Need to check on TCO\n",
    "distanceKNN = NearestNeighbors(n_neighbors=5).fit(X)"
   ]
  },
  {
   "cell_type": "code",
   "execution_count": 18,
   "id": "fdd41e5c",
   "metadata": {},
   "outputs": [
    {
     "name": "stderr",
     "output_type": "stream",
     "text": [
      "/Users/cedricpinel/opt/anaconda3/envs/streamlite/lib/python3.8/site-packages/sklearn/base.py:445: UserWarning: X does not have valid feature names, but NearestNeighbors was fitted with feature names\n",
      "  warnings.warn(\n"
     ]
    },
    {
     "data": {
      "text/plain": [
       "array([[66, 36, 47, 37, 64]])"
      ]
     },
     "execution_count": 18,
     "metadata": {},
     "output_type": "execute_result"
    }
   ],
   "source": [
    "distanceKNN.kneighbors([[60000, 350]], 5, return_distance = False)"
   ]
  },
  {
   "cell_type": "code",
   "execution_count": 19,
   "id": "3dda345f",
   "metadata": {},
   "outputs": [
    {
     "data": {
      "text/html": [
       "<div>\n",
       "<style scoped>\n",
       "    .dataframe tbody tr th:only-of-type {\n",
       "        vertical-align: middle;\n",
       "    }\n",
       "\n",
       "    .dataframe tbody tr th {\n",
       "        vertical-align: top;\n",
       "    }\n",
       "\n",
       "    .dataframe thead th {\n",
       "        text-align: right;\n",
       "    }\n",
       "</style>\n",
       "<table border=\"1\" class=\"dataframe\">\n",
       "  <thead>\n",
       "    <tr style=\"text-align: right;\">\n",
       "      <th></th>\n",
       "      <th>Full Name</th>\n",
       "      <th>Price</th>\n",
       "      <th>Range</th>\n",
       "      <th>Category</th>\n",
       "    </tr>\n",
       "  </thead>\n",
       "  <tbody>\n",
       "    <tr>\n",
       "      <th>66</th>\n",
       "      <td>MG Marvel R Performance</td>\n",
       "      <td>48990.0</td>\n",
       "      <td>370.0</td>\n",
       "      <td>SUV</td>\n",
       "    </tr>\n",
       "    <tr>\n",
       "      <th>36</th>\n",
       "      <td>Ford Mustang Mach-E ER RWD</td>\n",
       "      <td>56500.0</td>\n",
       "      <td>600.0</td>\n",
       "      <td>SUV</td>\n",
       "    </tr>\n",
       "    <tr>\n",
       "      <th>47</th>\n",
       "      <td>KIA e-Niro 39 kWh</td>\n",
       "      <td>37100.0</td>\n",
       "      <td>289.0</td>\n",
       "      <td>SUV</td>\n",
       "    </tr>\n",
       "    <tr>\n",
       "      <th>37</th>\n",
       "      <td>Ford Mustang Mach-E SR AWD</td>\n",
       "      <td>56500.0</td>\n",
       "      <td>420.0</td>\n",
       "      <td>SUV</td>\n",
       "    </tr>\n",
       "    <tr>\n",
       "      <th>64</th>\n",
       "      <td>MG Marvel R</td>\n",
       "      <td>39990.0</td>\n",
       "      <td>402.0</td>\n",
       "      <td>SUV</td>\n",
       "    </tr>\n",
       "  </tbody>\n",
       "</table>\n",
       "</div>"
      ],
      "text/plain": [
       "                     Full Name    Price  Range Category\n",
       "66     MG Marvel R Performance  48990.0  370.0      SUV\n",
       "36  Ford Mustang Mach-E ER RWD  56500.0  600.0      SUV\n",
       "47           KIA e-Niro 39 kWh  37100.0  289.0      SUV\n",
       "37  Ford Mustang Mach-E SR AWD  56500.0  420.0      SUV\n",
       "64                 MG Marvel R  39990.0  402.0      SUV"
      ]
     },
     "execution_count": 19,
     "metadata": {},
     "output_type": "execute_result"
    }
   ],
   "source": [
    "df_new[['Full Name', 'Price', 'Range', 'Category']].iloc[[66, 36, 47, 37, 64]]"
   ]
  },
  {
   "cell_type": "code",
   "execution_count": 21,
   "id": "5cbe2592",
   "metadata": {},
   "outputs": [
    {
     "data": {
      "text/html": [
       "<div>\n",
       "<style scoped>\n",
       "    .dataframe tbody tr th:only-of-type {\n",
       "        vertical-align: middle;\n",
       "    }\n",
       "\n",
       "    .dataframe tbody tr th {\n",
       "        vertical-align: top;\n",
       "    }\n",
       "\n",
       "    .dataframe thead th {\n",
       "        text-align: right;\n",
       "    }\n",
       "</style>\n",
       "<table border=\"1\" class=\"dataframe\">\n",
       "  <thead>\n",
       "    <tr style=\"text-align: right;\">\n",
       "      <th></th>\n",
       "      <th>Price</th>\n",
       "      <th>Range</th>\n",
       "    </tr>\n",
       "  </thead>\n",
       "  <tbody>\n",
       "    <tr>\n",
       "      <th>0</th>\n",
       "      <td>39300.0</td>\n",
       "      <td>410.0</td>\n",
       "    </tr>\n",
       "    <tr>\n",
       "      <th>1</th>\n",
       "      <td>71900.0</td>\n",
       "      <td>280.0</td>\n",
       "    </tr>\n",
       "    <tr>\n",
       "      <th>2</th>\n",
       "      <td>84200.0</td>\n",
       "      <td>437.0</td>\n",
       "    </tr>\n",
       "    <tr>\n",
       "      <th>3</th>\n",
       "      <td>103040.0</td>\n",
       "      <td>487.0</td>\n",
       "    </tr>\n",
       "    <tr>\n",
       "      <th>4</th>\n",
       "      <td>142830.0</td>\n",
       "      <td>472.0</td>\n",
       "    </tr>\n",
       "    <tr>\n",
       "      <th>...</th>\n",
       "      <td>...</td>\n",
       "      <td>...</td>\n",
       "    </tr>\n",
       "    <tr>\n",
       "      <th>145</th>\n",
       "      <td>57950.0</td>\n",
       "      <td>410.0</td>\n",
       "    </tr>\n",
       "    <tr>\n",
       "      <th>146</th>\n",
       "      <td>45590.0</td>\n",
       "      <td>138.0</td>\n",
       "    </tr>\n",
       "    <tr>\n",
       "      <th>147</th>\n",
       "      <td>56150.0</td>\n",
       "      <td>400.0</td>\n",
       "    </tr>\n",
       "    <tr>\n",
       "      <th>148</th>\n",
       "      <td>59760.0</td>\n",
       "      <td>420.0</td>\n",
       "    </tr>\n",
       "    <tr>\n",
       "      <th>149</th>\n",
       "      <td>44930.0</td>\n",
       "      <td>400.0</td>\n",
       "    </tr>\n",
       "  </tbody>\n",
       "</table>\n",
       "<p>150 rows × 2 columns</p>\n",
       "</div>"
      ],
      "text/plain": [
       "        Price  Range\n",
       "0     39300.0  410.0\n",
       "1     71900.0  280.0\n",
       "2     84200.0  437.0\n",
       "3    103040.0  487.0\n",
       "4    142830.0  472.0\n",
       "..        ...    ...\n",
       "145   57950.0  410.0\n",
       "146   45590.0  138.0\n",
       "147   56150.0  400.0\n",
       "148   59760.0  420.0\n",
       "149   44930.0  400.0\n",
       "\n",
       "[150 rows x 2 columns]"
      ]
     },
     "execution_count": 21,
     "metadata": {},
     "output_type": "execute_result"
    }
   ],
   "source": [
    "df_model[['Price','Range']]"
   ]
  },
  {
   "cell_type": "code",
   "execution_count": null,
   "id": "726912d5",
   "metadata": {},
   "outputs": [],
   "source": []
  },
  {
   "cell_type": "code",
   "execution_count": null,
   "id": "75ebb26a",
   "metadata": {},
   "outputs": [],
   "source": []
  }
 ],
 "metadata": {
  "kernelspec": {
   "display_name": "Python 3 (ipykernel)",
   "language": "python",
   "name": "python3"
  },
  "language_info": {
   "codemirror_mode": {
    "name": "ipython",
    "version": 3
   },
   "file_extension": ".py",
   "mimetype": "text/x-python",
   "name": "python",
   "nbconvert_exporter": "python",
   "pygments_lexer": "ipython3",
   "version": "3.8.12"
  }
 },
 "nbformat": 4,
 "nbformat_minor": 5
}
